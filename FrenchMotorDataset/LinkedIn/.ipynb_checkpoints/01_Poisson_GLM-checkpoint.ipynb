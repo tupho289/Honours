{
 "cells": [
  {
   "cell_type": "markdown",
   "metadata": {
    "id": "_kMGmbZ6sV4z"
   },
   "source": [
    "# French Motor Third Party Liability\n",
    "## Implementation of Poisson GLM using *statsmodels*\n"
   ]
  },
  {
   "cell_type": "markdown",
   "metadata": {
    "id": "GCDD1cAl_rEt"
   },
   "source": [
    "## 1. Introduction"
   ]
  },
  {
   "cell_type": "markdown",
   "metadata": {
    "id": "u5IbBesv_rEu"
   },
   "source": [
    "Link to the original content can be found here: https://github.com/JSchelldorfer.\n",
    "\n",
    "This workbook looks at how we can apply a Poisson GLM to model claims frequecny using the open source data - French Motor Third Party Liability."
   ]
  },
  {
   "cell_type": "markdown",
   "metadata": {
    "id": "ErZC3Se__rEw"
   },
   "source": [
    "## 2. Importing Data"
   ]
  },
  {
   "cell_type": "markdown",
   "metadata": {
    "id": "iVKEYPAMROF-"
   },
   "source": [
    "Data used in the notebook has been downloaded from the following site: \n",
    "https://github.com/JSchelldorfer/DeepLearningWithActuarialApplications/blob/master/0_data/freMTPL2freq.RData\n",
    "and subsequently converted into .csv format then uploaded to the environment.\n",
    "\n",
    "You can download the .csv file used in the notebook from this link:\n",
    "https://drive.google.com/file/d/1J8xhBQZCI-22Do4TtL3dcExOgxqCbvCH/view?usp=sharing\n",
    "\n",
    "Or, you can also fetch the same data from OpenML website using the following command:\n",
    "```\n",
    "from sklearn.datasets import fetch_openml\n",
    "freq = fetch_openml(data_id=41214, as_frame=True).frame\n",
    "```\n",
    "\n",
    "*Note that modelled results will be slightly different to the JSchelldorfer's version if you use data downloaded directly from the OpenML website.*"
   ]
  },
  {
   "cell_type": "code",
   "execution_count": null,
   "metadata": {
    "id": "S3dBfqTi_etV"
   },
   "outputs": [],
   "source": [
    "# If you have downloaded the csv from the google drive link and have it saved in your local drive,\n",
    "# you can use the following command to upload it from local drive\n",
    "# from google.colab import files\n",
    "# uploaded = files.upload()"
   ]
  },
  {
   "cell_type": "code",
   "execution_count": null,
   "metadata": {
    "colab": {
     "base_uri": "https://localhost:8080/"
    },
    "id": "NrGJPcqD_lyZ",
    "outputId": "27f744da-c45f-4c7a-9e76-5b41ae1f7d4e"
   },
   "outputs": [
    {
     "name": "stderr",
     "output_type": "stream",
     "text": [
      "/usr/local/lib/python3.7/dist-packages/statsmodels/tools/_testing.py:19: FutureWarning: pandas.util.testing is deprecated. Use the functions in the public API at pandas.testing instead.\n",
      "  import pandas.util.testing as tm\n"
     ]
    }
   ],
   "source": [
    "import pandas as pd\n",
    "import numpy as np\n",
    "import matplotlib.pyplot as plt\n",
    "import seaborn as sns\n",
    "import math\n",
    "import statsmodels.api as sm\n",
    "import statsmodels.formula.api as smf\n",
    "import itertools\n",
    "import plotly.express as px \n",
    "from scipy import stats\n",
    "from copy import deepcopy\n",
    "from sklearn.model_selection import GroupShuffleSplit\n",
    "from sklearn.datasets import fetch_openml"
   ]
  },
  {
   "cell_type": "code",
   "execution_count": null,
   "metadata": {
    "id": "ozjmFDSyj9in"
   },
   "outputs": [],
   "source": [
    "%matplotlib inline"
   ]
  },
  {
   "cell_type": "code",
   "execution_count": null,
   "metadata": {
    "colab": {
     "base_uri": "https://localhost:8080/"
    },
    "id": "ZgRxcFhQA7Lm",
    "outputId": "091bd049-9c6c-45de-cef0-e281203db81f"
   },
   "outputs": [
    {
     "name": "stdout",
     "output_type": "stream",
     "text": [
      "Mounted at /content/gdrive\n"
     ]
    }
   ],
   "source": [
    "# Use this command to source data from your google drive\n",
    "# from google.colab import drive\n",
    "# drive.mount('/content/gdrive')"
   ]
  },
  {
   "cell_type": "code",
   "execution_count": null,
   "metadata": {
    "id": "LCxroZlc2UPP"
   },
   "outputs": [],
   "source": [
    "# freq = pd.read_csv('gdrive/MyDrive/freq_data.csv')\n",
    "freq = pd.read_csv('freq_data.csv')"
   ]
  },
  {
   "cell_type": "markdown",
   "metadata": {
    "id": "vWvc8vsC_rE3"
   },
   "source": [
    "## 3. Examining Data"
   ]
  },
  {
   "cell_type": "markdown",
   "metadata": {
    "id": "ub7nPYHb_rE4"
   },
   "source": [
    "Repeating from the previous note, the definitions of each column:\n",
    "- IDPol: Policy ID, used to link to severity data set\n",
    "- ClaimNb: Claim numbers during exposure period\n",
    "- Exposure: Period of exposure for a policy in year(s)\n",
    "- VehPower: Car power, in categorical format\n",
    "- VehAge: Car age, in continuous value format\n",
    "- DrivAge: Driver’s age in years, in continuous value format\n",
    "- BonusMalus: Bonus / Malus rating, <100 means bonus, >100 means malus, in continous value format\n",
    "- VehBrand: Car brand, in categorical format\n",
    "- VechGas: Fuel type, in categorical format\n",
    "- Area: Density rating of the area car driver lives in, in categorical format\n",
    "- Density: Density rating, number of inhabitants per km^2, in continous value format\n",
    "- Region: Policy region in France, in categorical format"
   ]
  },
  {
   "cell_type": "code",
   "execution_count": null,
   "metadata": {
    "colab": {
     "base_uri": "https://localhost:8080/",
     "height": 253
    },
    "id": "QSskO-Y7_rE6",
    "outputId": "b8eab133-4b30-45c8-abb0-f33da3bb335d",
    "pycharm": {
     "name": "#%%\n"
    }
   },
   "outputs": [
    {
     "data": {
      "text/html": [
       "<div>\n",
       "<style scoped>\n",
       "    .dataframe tbody tr th:only-of-type {\n",
       "        vertical-align: middle;\n",
       "    }\n",
       "\n",
       "    .dataframe tbody tr th {\n",
       "        vertical-align: top;\n",
       "    }\n",
       "\n",
       "    .dataframe thead th {\n",
       "        text-align: right;\n",
       "    }\n",
       "</style>\n",
       "<table border=\"1\" class=\"dataframe\">\n",
       "  <thead>\n",
       "    <tr style=\"text-align: right;\">\n",
       "      <th></th>\n",
       "      <th>IDpol</th>\n",
       "      <th>Exposure</th>\n",
       "      <th>Area</th>\n",
       "      <th>VehPower</th>\n",
       "      <th>VehAge</th>\n",
       "      <th>DrivAge</th>\n",
       "      <th>BonusMalus</th>\n",
       "      <th>VehBrand</th>\n",
       "      <th>VehGas</th>\n",
       "      <th>Density</th>\n",
       "      <th>Region</th>\n",
       "      <th>ClaimTotal</th>\n",
       "      <th>ClaimNb</th>\n",
       "    </tr>\n",
       "  </thead>\n",
       "  <tbody>\n",
       "    <tr>\n",
       "      <th>0</th>\n",
       "      <td>1.0</td>\n",
       "      <td>0.10</td>\n",
       "      <td>D</td>\n",
       "      <td>5</td>\n",
       "      <td>0</td>\n",
       "      <td>55</td>\n",
       "      <td>50</td>\n",
       "      <td>B12</td>\n",
       "      <td>Regular</td>\n",
       "      <td>1217</td>\n",
       "      <td>R82</td>\n",
       "      <td>0.0</td>\n",
       "      <td>0</td>\n",
       "    </tr>\n",
       "    <tr>\n",
       "      <th>1</th>\n",
       "      <td>3.0</td>\n",
       "      <td>0.77</td>\n",
       "      <td>D</td>\n",
       "      <td>5</td>\n",
       "      <td>0</td>\n",
       "      <td>55</td>\n",
       "      <td>50</td>\n",
       "      <td>B12</td>\n",
       "      <td>Regular</td>\n",
       "      <td>1217</td>\n",
       "      <td>R82</td>\n",
       "      <td>0.0</td>\n",
       "      <td>0</td>\n",
       "    </tr>\n",
       "    <tr>\n",
       "      <th>2</th>\n",
       "      <td>5.0</td>\n",
       "      <td>0.75</td>\n",
       "      <td>B</td>\n",
       "      <td>6</td>\n",
       "      <td>2</td>\n",
       "      <td>52</td>\n",
       "      <td>50</td>\n",
       "      <td>B12</td>\n",
       "      <td>Diesel</td>\n",
       "      <td>54</td>\n",
       "      <td>R22</td>\n",
       "      <td>0.0</td>\n",
       "      <td>0</td>\n",
       "    </tr>\n",
       "    <tr>\n",
       "      <th>3</th>\n",
       "      <td>10.0</td>\n",
       "      <td>0.09</td>\n",
       "      <td>B</td>\n",
       "      <td>7</td>\n",
       "      <td>0</td>\n",
       "      <td>46</td>\n",
       "      <td>50</td>\n",
       "      <td>B12</td>\n",
       "      <td>Diesel</td>\n",
       "      <td>76</td>\n",
       "      <td>R72</td>\n",
       "      <td>0.0</td>\n",
       "      <td>0</td>\n",
       "    </tr>\n",
       "    <tr>\n",
       "      <th>4</th>\n",
       "      <td>11.0</td>\n",
       "      <td>0.84</td>\n",
       "      <td>B</td>\n",
       "      <td>7</td>\n",
       "      <td>0</td>\n",
       "      <td>46</td>\n",
       "      <td>50</td>\n",
       "      <td>B12</td>\n",
       "      <td>Diesel</td>\n",
       "      <td>76</td>\n",
       "      <td>R72</td>\n",
       "      <td>0.0</td>\n",
       "      <td>0</td>\n",
       "    </tr>\n",
       "  </tbody>\n",
       "</table>\n",
       "</div>"
      ],
      "text/plain": [
       "   IDpol  Exposure Area  VehPower  VehAge  DrivAge  BonusMalus VehBrand  \\\n",
       "0    1.0      0.10    D         5       0       55          50      B12   \n",
       "1    3.0      0.77    D         5       0       55          50      B12   \n",
       "2    5.0      0.75    B         6       2       52          50      B12   \n",
       "3   10.0      0.09    B         7       0       46          50      B12   \n",
       "4   11.0      0.84    B         7       0       46          50      B12   \n",
       "\n",
       "    VehGas  Density Region  ClaimTotal  ClaimNb  \n",
       "0  Regular     1217    R82         0.0        0  \n",
       "1  Regular     1217    R82         0.0        0  \n",
       "2   Diesel       54    R22         0.0        0  \n",
       "3   Diesel       76    R72         0.0        0  \n",
       "4   Diesel       76    R72         0.0        0  "
      ]
     },
     "execution_count": 36,
     "metadata": {},
     "output_type": "execute_result"
    }
   ],
   "source": [
    "freq.head()"
   ]
  },
  {
   "cell_type": "markdown",
   "metadata": {
    "id": "1DXQr7KY_rE8"
   },
   "source": [
    "We can see here that the default data type for `VehPower` is `int64`. We need it to be a categorical variable. We will change its data type in the next code chunk."
   ]
  },
  {
   "cell_type": "code",
   "execution_count": null,
   "metadata": {
    "colab": {
     "base_uri": "https://localhost:8080/"
    },
    "id": "_brVPD9HAC7f",
    "outputId": "e89e39c8-7505-408b-f58a-0a54a5caf148"
   },
   "outputs": [
    {
     "name": "stdout",
     "output_type": "stream",
     "text": [
      "<class 'pandas.core.frame.DataFrame'>\n",
      "RangeIndex: 678007 entries, 0 to 678006\n",
      "Data columns (total 13 columns):\n",
      " #   Column      Non-Null Count   Dtype  \n",
      "---  ------      --------------   -----  \n",
      " 0   IDpol       678007 non-null  float64\n",
      " 1   Exposure    678007 non-null  float64\n",
      " 2   Area        678007 non-null  object \n",
      " 3   VehPower    678007 non-null  int64  \n",
      " 4   VehAge      678007 non-null  int64  \n",
      " 5   DrivAge     678007 non-null  int64  \n",
      " 6   BonusMalus  678007 non-null  int64  \n",
      " 7   VehBrand    678007 non-null  object \n",
      " 8   VehGas      678007 non-null  object \n",
      " 9   Density     678007 non-null  int64  \n",
      " 10  Region      678007 non-null  object \n",
      " 11  ClaimTotal  678007 non-null  float64\n",
      " 12  ClaimNb     678007 non-null  int64  \n",
      "dtypes: float64(3), int64(6), object(4)\n",
      "memory usage: 67.2+ MB\n"
     ]
    }
   ],
   "source": [
    "freq.info()"
   ]
  },
  {
   "cell_type": "code",
   "execution_count": null,
   "metadata": {
    "colab": {
     "base_uri": "https://localhost:8080/",
     "height": 345
    },
    "id": "kTVEt3F0QIlJ",
    "outputId": "6a2ad734-3a1f-4a05-c527-ff7f4f0e39cb"
   },
   "outputs": [
    {
     "data": {
      "text/html": [
       "<div>\n",
       "<style scoped>\n",
       "    .dataframe tbody tr th:only-of-type {\n",
       "        vertical-align: middle;\n",
       "    }\n",
       "\n",
       "    .dataframe tbody tr th {\n",
       "        vertical-align: top;\n",
       "    }\n",
       "\n",
       "    .dataframe thead th {\n",
       "        text-align: right;\n",
       "    }\n",
       "</style>\n",
       "<table border=\"1\" class=\"dataframe\">\n",
       "  <thead>\n",
       "    <tr style=\"text-align: right;\">\n",
       "      <th></th>\n",
       "      <th>IDpol</th>\n",
       "      <th>Exposure</th>\n",
       "      <th>VehPower</th>\n",
       "      <th>VehAge</th>\n",
       "      <th>DrivAge</th>\n",
       "      <th>BonusMalus</th>\n",
       "      <th>Density</th>\n",
       "      <th>ClaimTotal</th>\n",
       "      <th>ClaimNb</th>\n",
       "    </tr>\n",
       "  </thead>\n",
       "  <tbody>\n",
       "    <tr>\n",
       "      <th>count</th>\n",
       "      <td>6.780070e+05</td>\n",
       "      <td>678007.000000</td>\n",
       "      <td>678007.000000</td>\n",
       "      <td>678007.000000</td>\n",
       "      <td>678007.000000</td>\n",
       "      <td>678007.000000</td>\n",
       "      <td>678007.000000</td>\n",
       "      <td>6.780070e+05</td>\n",
       "      <td>678007.000000</td>\n",
       "    </tr>\n",
       "    <tr>\n",
       "      <th>mean</th>\n",
       "      <td>2.621857e+06</td>\n",
       "      <td>0.528547</td>\n",
       "      <td>6.454653</td>\n",
       "      <td>7.044218</td>\n",
       "      <td>45.499061</td>\n",
       "      <td>59.761588</td>\n",
       "      <td>1792.430975</td>\n",
       "      <td>8.816661e+01</td>\n",
       "      <td>0.038913</td>\n",
       "    </tr>\n",
       "    <tr>\n",
       "      <th>std</th>\n",
       "      <td>1.641789e+06</td>\n",
       "      <td>0.364081</td>\n",
       "      <td>2.050902</td>\n",
       "      <td>5.666235</td>\n",
       "      <td>14.137492</td>\n",
       "      <td>15.636700</td>\n",
       "      <td>3958.663031</td>\n",
       "      <td>5.822068e+03</td>\n",
       "      <td>0.204752</td>\n",
       "    </tr>\n",
       "    <tr>\n",
       "      <th>min</th>\n",
       "      <td>1.000000e+00</td>\n",
       "      <td>0.002732</td>\n",
       "      <td>4.000000</td>\n",
       "      <td>0.000000</td>\n",
       "      <td>18.000000</td>\n",
       "      <td>50.000000</td>\n",
       "      <td>1.000000</td>\n",
       "      <td>0.000000e+00</td>\n",
       "      <td>0.000000</td>\n",
       "    </tr>\n",
       "    <tr>\n",
       "      <th>25%</th>\n",
       "      <td>1.157948e+06</td>\n",
       "      <td>0.180000</td>\n",
       "      <td>5.000000</td>\n",
       "      <td>2.000000</td>\n",
       "      <td>34.000000</td>\n",
       "      <td>50.000000</td>\n",
       "      <td>92.000000</td>\n",
       "      <td>0.000000e+00</td>\n",
       "      <td>0.000000</td>\n",
       "    </tr>\n",
       "    <tr>\n",
       "      <th>50%</th>\n",
       "      <td>2.272153e+06</td>\n",
       "      <td>0.490000</td>\n",
       "      <td>6.000000</td>\n",
       "      <td>6.000000</td>\n",
       "      <td>44.000000</td>\n",
       "      <td>50.000000</td>\n",
       "      <td>393.000000</td>\n",
       "      <td>0.000000e+00</td>\n",
       "      <td>0.000000</td>\n",
       "    </tr>\n",
       "    <tr>\n",
       "      <th>75%</th>\n",
       "      <td>4.046278e+06</td>\n",
       "      <td>0.990000</td>\n",
       "      <td>7.000000</td>\n",
       "      <td>11.000000</td>\n",
       "      <td>55.000000</td>\n",
       "      <td>64.000000</td>\n",
       "      <td>1658.000000</td>\n",
       "      <td>0.000000e+00</td>\n",
       "      <td>0.000000</td>\n",
       "    </tr>\n",
       "    <tr>\n",
       "      <th>max</th>\n",
       "      <td>6.114330e+06</td>\n",
       "      <td>1.000000</td>\n",
       "      <td>15.000000</td>\n",
       "      <td>100.000000</td>\n",
       "      <td>100.000000</td>\n",
       "      <td>230.000000</td>\n",
       "      <td>27000.000000</td>\n",
       "      <td>4.075401e+06</td>\n",
       "      <td>5.000000</td>\n",
       "    </tr>\n",
       "  </tbody>\n",
       "</table>\n",
       "</div>"
      ],
      "text/plain": [
       "              IDpol       Exposure       VehPower         VehAge  \\\n",
       "count  6.780070e+05  678007.000000  678007.000000  678007.000000   \n",
       "mean   2.621857e+06       0.528547       6.454653       7.044218   \n",
       "std    1.641789e+06       0.364081       2.050902       5.666235   \n",
       "min    1.000000e+00       0.002732       4.000000       0.000000   \n",
       "25%    1.157948e+06       0.180000       5.000000       2.000000   \n",
       "50%    2.272153e+06       0.490000       6.000000       6.000000   \n",
       "75%    4.046278e+06       0.990000       7.000000      11.000000   \n",
       "max    6.114330e+06       1.000000      15.000000     100.000000   \n",
       "\n",
       "             DrivAge     BonusMalus        Density    ClaimTotal  \\\n",
       "count  678007.000000  678007.000000  678007.000000  6.780070e+05   \n",
       "mean       45.499061      59.761588    1792.430975  8.816661e+01   \n",
       "std        14.137492      15.636700    3958.663031  5.822068e+03   \n",
       "min        18.000000      50.000000       1.000000  0.000000e+00   \n",
       "25%        34.000000      50.000000      92.000000  0.000000e+00   \n",
       "50%        44.000000      50.000000     393.000000  0.000000e+00   \n",
       "75%        55.000000      64.000000    1658.000000  0.000000e+00   \n",
       "max       100.000000     230.000000   27000.000000  4.075401e+06   \n",
       "\n",
       "             ClaimNb  \n",
       "count  678007.000000  \n",
       "mean        0.038913  \n",
       "std         0.204752  \n",
       "min         0.000000  \n",
       "25%         0.000000  \n",
       "50%         0.000000  \n",
       "75%         0.000000  \n",
       "max         5.000000  "
      ]
     },
     "execution_count": 38,
     "metadata": {},
     "output_type": "execute_result"
    }
   ],
   "source": [
    "freq.describe()"
   ]
  },
  {
   "cell_type": "markdown",
   "metadata": {
    "id": "e4ryl7Fe_rE-"
   },
   "source": [
    "## 4. Processing Data"
   ]
  },
  {
   "cell_type": "markdown",
   "metadata": {
    "id": "4Ma3oGW1_rE-"
   },
   "source": [
    "When examining the data, we observed that there seems to be multiple claim records that might have arisen from the same policy.\n",
    "\n",
    "A `GroupID` column is essential here such that we obtain sensible train-test split for our modelling.\n",
    "\n",
    "You will see later we will use `sklearn.model_selection.GroupShuffleSplit` to perform train-test split on our modelling data.\n",
    "\n",
    "Worth mentioning is that one of the common mistake is to do the data processing after train-test split. This will results in unfair comparison of the model performance."
   ]
  },
  {
   "cell_type": "code",
   "execution_count": null,
   "metadata": {
    "id": "f7oAWCGmAEQ_"
   },
   "outputs": [],
   "source": [
    "df_freq = freq.iloc[freq.drop(['IDpol','Exposure','ClaimNb'], axis=1).drop_duplicates().index]\n",
    "df_freq = df_freq.reset_index(drop=True)\n",
    "df_freq['GroupID'] = df_freq.index+1\n",
    "df_freq = pd.merge(freq,df_freq, how='left')\n",
    "df_freq['GroupID'] = df_freq['GroupID'].fillna(method='ffill')"
   ]
  },
  {
   "cell_type": "markdown",
   "metadata": {
    "id": "yA1kOP-P_rFA"
   },
   "source": [
    "We will also simplify the data for our GLM model. In particular, we will adjust the following columns:\n",
    "\n",
    "- ClaimNb: cap at 4 claims\n",
    "- VehAge: cap at 20 years\n",
    "- DrivAge: cap at 90 years old\n",
    "- BonusMalus: cap at 150, round to nearest integer\n",
    "- Density: apply log\n",
    "- Exposure: cap at 1 year\n",
    "\n",
    "and subsequently add the following 'GLM' columns that will be used for model fitting:\n",
    "- AreaGLM: convert alphabet into integer\n",
    "- VehPowerGLM: cap at 9\n",
    "- VehAgeGLM: create 3 bins\n",
    "- DrivAgeGLM: create 7 bins"
   ]
  },
  {
   "cell_type": "code",
   "execution_count": null,
   "metadata": {
    "id": "38lXaHghA-SO"
   },
   "outputs": [],
   "source": [
    "df_freq['ClaimNb'] = df_freq['ClaimNb'].apply(lambda x: 4 if x > 4 else x)\n",
    "df_freq['VehAge'] = df_freq['VehAge'].apply(lambda x: 20 if x > 20 else x)\n",
    "df_freq['DrivAge'] = df_freq['DrivAge'].apply(lambda x: 90 if x > 90 else x)\n",
    "df_freq['BonusMalus'] = df_freq['BonusMalus'].apply(lambda x: 150 if x > 150 else int(x))\n",
    "df_freq['Density'] = df_freq['Density'].apply(lambda x: round(math.log(x), 2))\n",
    "df_freq['Exposure'] = df_freq['Exposure'].apply(lambda x: 1. if x > 1 else x)\n",
    "df_freq['AreaGLM']=df_freq['Area'].apply(lambda x: ord(x)-64)\n",
    "df_freq['VehPowerGLM']=df_freq['VehPower'].apply(lambda x: 9 if x > 9 else x)\n",
    "df_freq['VehPowerGLM']=df_freq['VehPowerGLM'].apply(lambda x: str(x))\n",
    "df_freq['VehAgeGLM']=pd.cut(df_freq['VehAge'], bins=[0,1,10,np.inf], labels=[1,2,3], include_lowest=True)\n",
    "df_freq['DrivAgeGLM']=pd.cut(df_freq['DrivAge'], bins=[18,21,26,31,41,51,71,np.inf], labels=[1,2,3,4,5,6,7], include_lowest=True)\n",
    "df_freq['BonusMalusGLM'] = df_freq['BonusMalus']\n",
    "df_freq['DensityGLM'] = df_freq['Density']"
   ]
  },
  {
   "cell_type": "markdown",
   "metadata": {
    "id": "6mJ91h-s_rFC"
   },
   "source": [
    "Re-examining the processed data."
   ]
  },
  {
   "cell_type": "code",
   "execution_count": null,
   "metadata": {
    "colab": {
     "base_uri": "https://localhost:8080/",
     "height": 345
    },
    "id": "kEBB6-y0BAkF",
    "outputId": "19e0fa1b-ab43-43a4-d732-e2ca09918c8d"
   },
   "outputs": [
    {
     "data": {
      "text/html": [
       "<div>\n",
       "<style scoped>\n",
       "    .dataframe tbody tr th:only-of-type {\n",
       "        vertical-align: middle;\n",
       "    }\n",
       "\n",
       "    .dataframe tbody tr th {\n",
       "        vertical-align: top;\n",
       "    }\n",
       "\n",
       "    .dataframe thead th {\n",
       "        text-align: right;\n",
       "    }\n",
       "</style>\n",
       "<table border=\"1\" class=\"dataframe\">\n",
       "  <thead>\n",
       "    <tr style=\"text-align: right;\">\n",
       "      <th></th>\n",
       "      <th>IDpol</th>\n",
       "      <th>Exposure</th>\n",
       "      <th>VehPower</th>\n",
       "      <th>VehAge</th>\n",
       "      <th>DrivAge</th>\n",
       "      <th>BonusMalus</th>\n",
       "      <th>Density</th>\n",
       "      <th>ClaimTotal</th>\n",
       "      <th>ClaimNb</th>\n",
       "      <th>GroupID</th>\n",
       "      <th>AreaGLM</th>\n",
       "      <th>BonusMalusGLM</th>\n",
       "      <th>DensityGLM</th>\n",
       "    </tr>\n",
       "  </thead>\n",
       "  <tbody>\n",
       "    <tr>\n",
       "      <th>count</th>\n",
       "      <td>6.780070e+05</td>\n",
       "      <td>678007.000000</td>\n",
       "      <td>678007.000000</td>\n",
       "      <td>678007.000000</td>\n",
       "      <td>678007.000000</td>\n",
       "      <td>678007.000000</td>\n",
       "      <td>678007.000000</td>\n",
       "      <td>6.780070e+05</td>\n",
       "      <td>678007.000000</td>\n",
       "      <td>678007.000000</td>\n",
       "      <td>678007.000000</td>\n",
       "      <td>678007.000000</td>\n",
       "      <td>678007.000000</td>\n",
       "    </tr>\n",
       "    <tr>\n",
       "      <th>mean</th>\n",
       "      <td>2.621857e+06</td>\n",
       "      <td>0.528547</td>\n",
       "      <td>6.454653</td>\n",
       "      <td>6.976077</td>\n",
       "      <td>45.496811</td>\n",
       "      <td>59.757297</td>\n",
       "      <td>5.981576</td>\n",
       "      <td>8.816661e+01</td>\n",
       "      <td>0.038910</td>\n",
       "      <td>277296.885802</td>\n",
       "      <td>3.289692</td>\n",
       "      <td>59.757297</td>\n",
       "      <td>5.981576</td>\n",
       "    </tr>\n",
       "    <tr>\n",
       "      <th>std</th>\n",
       "      <td>1.641789e+06</td>\n",
       "      <td>0.364081</td>\n",
       "      <td>2.050902</td>\n",
       "      <td>5.398963</td>\n",
       "      <td>14.129919</td>\n",
       "      <td>15.607948</td>\n",
       "      <td>1.870569</td>\n",
       "      <td>5.822068e+03</td>\n",
       "      <td>0.204688</td>\n",
       "      <td>152393.589094</td>\n",
       "      <td>1.382689</td>\n",
       "      <td>15.607948</td>\n",
       "      <td>1.870569</td>\n",
       "    </tr>\n",
       "    <tr>\n",
       "      <th>min</th>\n",
       "      <td>1.000000e+00</td>\n",
       "      <td>0.002732</td>\n",
       "      <td>4.000000</td>\n",
       "      <td>0.000000</td>\n",
       "      <td>18.000000</td>\n",
       "      <td>50.000000</td>\n",
       "      <td>0.000000</td>\n",
       "      <td>0.000000e+00</td>\n",
       "      <td>0.000000</td>\n",
       "      <td>1.000000</td>\n",
       "      <td>1.000000</td>\n",
       "      <td>50.000000</td>\n",
       "      <td>0.000000</td>\n",
       "    </tr>\n",
       "    <tr>\n",
       "      <th>25%</th>\n",
       "      <td>1.157948e+06</td>\n",
       "      <td>0.180000</td>\n",
       "      <td>5.000000</td>\n",
       "      <td>2.000000</td>\n",
       "      <td>34.000000</td>\n",
       "      <td>50.000000</td>\n",
       "      <td>4.520000</td>\n",
       "      <td>0.000000e+00</td>\n",
       "      <td>0.000000</td>\n",
       "      <td>151169.500000</td>\n",
       "      <td>2.000000</td>\n",
       "      <td>50.000000</td>\n",
       "      <td>4.520000</td>\n",
       "    </tr>\n",
       "    <tr>\n",
       "      <th>50%</th>\n",
       "      <td>2.272153e+06</td>\n",
       "      <td>0.490000</td>\n",
       "      <td>6.000000</td>\n",
       "      <td>6.000000</td>\n",
       "      <td>44.000000</td>\n",
       "      <td>50.000000</td>\n",
       "      <td>5.970000</td>\n",
       "      <td>0.000000e+00</td>\n",
       "      <td>0.000000</td>\n",
       "      <td>283376.000000</td>\n",
       "      <td>3.000000</td>\n",
       "      <td>50.000000</td>\n",
       "      <td>5.970000</td>\n",
       "    </tr>\n",
       "    <tr>\n",
       "      <th>75%</th>\n",
       "      <td>4.046278e+06</td>\n",
       "      <td>0.990000</td>\n",
       "      <td>7.000000</td>\n",
       "      <td>11.000000</td>\n",
       "      <td>55.000000</td>\n",
       "      <td>64.000000</td>\n",
       "      <td>7.410000</td>\n",
       "      <td>0.000000e+00</td>\n",
       "      <td>0.000000</td>\n",
       "      <td>405124.500000</td>\n",
       "      <td>4.000000</td>\n",
       "      <td>64.000000</td>\n",
       "      <td>7.410000</td>\n",
       "    </tr>\n",
       "    <tr>\n",
       "      <th>max</th>\n",
       "      <td>6.114330e+06</td>\n",
       "      <td>1.000000</td>\n",
       "      <td>15.000000</td>\n",
       "      <td>20.000000</td>\n",
       "      <td>90.000000</td>\n",
       "      <td>150.000000</td>\n",
       "      <td>10.200000</td>\n",
       "      <td>4.075401e+06</td>\n",
       "      <td>4.000000</td>\n",
       "      <td>534079.000000</td>\n",
       "      <td>6.000000</td>\n",
       "      <td>150.000000</td>\n",
       "      <td>10.200000</td>\n",
       "    </tr>\n",
       "  </tbody>\n",
       "</table>\n",
       "</div>"
      ],
      "text/plain": [
       "              IDpol       Exposure       VehPower         VehAge  \\\n",
       "count  6.780070e+05  678007.000000  678007.000000  678007.000000   \n",
       "mean   2.621857e+06       0.528547       6.454653       6.976077   \n",
       "std    1.641789e+06       0.364081       2.050902       5.398963   \n",
       "min    1.000000e+00       0.002732       4.000000       0.000000   \n",
       "25%    1.157948e+06       0.180000       5.000000       2.000000   \n",
       "50%    2.272153e+06       0.490000       6.000000       6.000000   \n",
       "75%    4.046278e+06       0.990000       7.000000      11.000000   \n",
       "max    6.114330e+06       1.000000      15.000000      20.000000   \n",
       "\n",
       "             DrivAge     BonusMalus        Density    ClaimTotal  \\\n",
       "count  678007.000000  678007.000000  678007.000000  6.780070e+05   \n",
       "mean       45.496811      59.757297       5.981576  8.816661e+01   \n",
       "std        14.129919      15.607948       1.870569  5.822068e+03   \n",
       "min        18.000000      50.000000       0.000000  0.000000e+00   \n",
       "25%        34.000000      50.000000       4.520000  0.000000e+00   \n",
       "50%        44.000000      50.000000       5.970000  0.000000e+00   \n",
       "75%        55.000000      64.000000       7.410000  0.000000e+00   \n",
       "max        90.000000     150.000000      10.200000  4.075401e+06   \n",
       "\n",
       "             ClaimNb        GroupID        AreaGLM  BonusMalusGLM  \\\n",
       "count  678007.000000  678007.000000  678007.000000  678007.000000   \n",
       "mean        0.038910  277296.885802       3.289692      59.757297   \n",
       "std         0.204688  152393.589094       1.382689      15.607948   \n",
       "min         0.000000       1.000000       1.000000      50.000000   \n",
       "25%         0.000000  151169.500000       2.000000      50.000000   \n",
       "50%         0.000000  283376.000000       3.000000      50.000000   \n",
       "75%         0.000000  405124.500000       4.000000      64.000000   \n",
       "max         4.000000  534079.000000       6.000000     150.000000   \n",
       "\n",
       "          DensityGLM  \n",
       "count  678007.000000  \n",
       "mean        5.981576  \n",
       "std         1.870569  \n",
       "min         0.000000  \n",
       "25%         4.520000  \n",
       "50%         5.970000  \n",
       "75%         7.410000  \n",
       "max        10.200000  "
      ]
     },
     "execution_count": 41,
     "metadata": {},
     "output_type": "execute_result"
    }
   ],
   "source": [
    "df_freq.describe()"
   ]
  },
  {
   "cell_type": "code",
   "execution_count": null,
   "metadata": {
    "colab": {
     "base_uri": "https://localhost:8080/"
    },
    "id": "rzpzsz_pQgt8",
    "outputId": "33de7a1e-c404-4868-fbf6-f5036c7de695"
   },
   "outputs": [
    {
     "name": "stdout",
     "output_type": "stream",
     "text": [
      "<class 'pandas.core.frame.DataFrame'>\n",
      "Int64Index: 678007 entries, 0 to 678006\n",
      "Data columns (total 20 columns):\n",
      " #   Column         Non-Null Count   Dtype   \n",
      "---  ------         --------------   -----   \n",
      " 0   IDpol          678007 non-null  float64 \n",
      " 1   Exposure       678007 non-null  float64 \n",
      " 2   Area           678007 non-null  object  \n",
      " 3   VehPower       678007 non-null  int64   \n",
      " 4   VehAge         678007 non-null  int64   \n",
      " 5   DrivAge        678007 non-null  int64   \n",
      " 6   BonusMalus     678007 non-null  int64   \n",
      " 7   VehBrand       678007 non-null  object  \n",
      " 8   VehGas         678007 non-null  object  \n",
      " 9   Density        678007 non-null  float64 \n",
      " 10  Region         678007 non-null  object  \n",
      " 11  ClaimTotal     678007 non-null  float64 \n",
      " 12  ClaimNb        678007 non-null  int64   \n",
      " 13  GroupID        678007 non-null  float64 \n",
      " 14  AreaGLM        678007 non-null  int64   \n",
      " 15  VehPowerGLM    678007 non-null  object  \n",
      " 16  VehAgeGLM      678007 non-null  category\n",
      " 17  DrivAgeGLM     678007 non-null  category\n",
      " 18  BonusMalusGLM  678007 non-null  int64   \n",
      " 19  DensityGLM     678007 non-null  float64 \n",
      "dtypes: category(2), float64(6), int64(7), object(5)\n",
      "memory usage: 99.6+ MB\n"
     ]
    }
   ],
   "source": [
    "df_freq.info()"
   ]
  },
  {
   "cell_type": "code",
   "execution_count": null,
   "metadata": {
    "colab": {
     "base_uri": "https://localhost:8080/",
     "height": 253
    },
    "id": "GjZ03R4VBBbI",
    "outputId": "ec06cb97-803b-4c22-8505-12551d4479fb"
   },
   "outputs": [
    {
     "data": {
      "text/html": [
       "<div>\n",
       "<style scoped>\n",
       "    .dataframe tbody tr th:only-of-type {\n",
       "        vertical-align: middle;\n",
       "    }\n",
       "\n",
       "    .dataframe tbody tr th {\n",
       "        vertical-align: top;\n",
       "    }\n",
       "\n",
       "    .dataframe thead th {\n",
       "        text-align: right;\n",
       "    }\n",
       "</style>\n",
       "<table border=\"1\" class=\"dataframe\">\n",
       "  <thead>\n",
       "    <tr style=\"text-align: right;\">\n",
       "      <th></th>\n",
       "      <th>IDpol</th>\n",
       "      <th>Exposure</th>\n",
       "      <th>Area</th>\n",
       "      <th>VehPower</th>\n",
       "      <th>VehAge</th>\n",
       "      <th>DrivAge</th>\n",
       "      <th>BonusMalus</th>\n",
       "      <th>VehBrand</th>\n",
       "      <th>VehGas</th>\n",
       "      <th>Density</th>\n",
       "      <th>Region</th>\n",
       "      <th>ClaimTotal</th>\n",
       "      <th>ClaimNb</th>\n",
       "      <th>GroupID</th>\n",
       "      <th>AreaGLM</th>\n",
       "      <th>VehPowerGLM</th>\n",
       "      <th>VehAgeGLM</th>\n",
       "      <th>DrivAgeGLM</th>\n",
       "      <th>BonusMalusGLM</th>\n",
       "      <th>DensityGLM</th>\n",
       "    </tr>\n",
       "  </thead>\n",
       "  <tbody>\n",
       "    <tr>\n",
       "      <th>0</th>\n",
       "      <td>1.0</td>\n",
       "      <td>0.10</td>\n",
       "      <td>D</td>\n",
       "      <td>5</td>\n",
       "      <td>0</td>\n",
       "      <td>55</td>\n",
       "      <td>50</td>\n",
       "      <td>B12</td>\n",
       "      <td>Regular</td>\n",
       "      <td>7.10</td>\n",
       "      <td>R82</td>\n",
       "      <td>0.0</td>\n",
       "      <td>0</td>\n",
       "      <td>1.0</td>\n",
       "      <td>4</td>\n",
       "      <td>5</td>\n",
       "      <td>1</td>\n",
       "      <td>6</td>\n",
       "      <td>50</td>\n",
       "      <td>7.10</td>\n",
       "    </tr>\n",
       "    <tr>\n",
       "      <th>1</th>\n",
       "      <td>3.0</td>\n",
       "      <td>0.77</td>\n",
       "      <td>D</td>\n",
       "      <td>5</td>\n",
       "      <td>0</td>\n",
       "      <td>55</td>\n",
       "      <td>50</td>\n",
       "      <td>B12</td>\n",
       "      <td>Regular</td>\n",
       "      <td>7.10</td>\n",
       "      <td>R82</td>\n",
       "      <td>0.0</td>\n",
       "      <td>0</td>\n",
       "      <td>1.0</td>\n",
       "      <td>4</td>\n",
       "      <td>5</td>\n",
       "      <td>1</td>\n",
       "      <td>6</td>\n",
       "      <td>50</td>\n",
       "      <td>7.10</td>\n",
       "    </tr>\n",
       "    <tr>\n",
       "      <th>2</th>\n",
       "      <td>5.0</td>\n",
       "      <td>0.75</td>\n",
       "      <td>B</td>\n",
       "      <td>6</td>\n",
       "      <td>2</td>\n",
       "      <td>52</td>\n",
       "      <td>50</td>\n",
       "      <td>B12</td>\n",
       "      <td>Diesel</td>\n",
       "      <td>3.99</td>\n",
       "      <td>R22</td>\n",
       "      <td>0.0</td>\n",
       "      <td>0</td>\n",
       "      <td>2.0</td>\n",
       "      <td>2</td>\n",
       "      <td>6</td>\n",
       "      <td>2</td>\n",
       "      <td>6</td>\n",
       "      <td>50</td>\n",
       "      <td>3.99</td>\n",
       "    </tr>\n",
       "    <tr>\n",
       "      <th>3</th>\n",
       "      <td>10.0</td>\n",
       "      <td>0.09</td>\n",
       "      <td>B</td>\n",
       "      <td>7</td>\n",
       "      <td>0</td>\n",
       "      <td>46</td>\n",
       "      <td>50</td>\n",
       "      <td>B12</td>\n",
       "      <td>Diesel</td>\n",
       "      <td>4.33</td>\n",
       "      <td>R72</td>\n",
       "      <td>0.0</td>\n",
       "      <td>0</td>\n",
       "      <td>3.0</td>\n",
       "      <td>2</td>\n",
       "      <td>7</td>\n",
       "      <td>1</td>\n",
       "      <td>5</td>\n",
       "      <td>50</td>\n",
       "      <td>4.33</td>\n",
       "    </tr>\n",
       "    <tr>\n",
       "      <th>4</th>\n",
       "      <td>11.0</td>\n",
       "      <td>0.84</td>\n",
       "      <td>B</td>\n",
       "      <td>7</td>\n",
       "      <td>0</td>\n",
       "      <td>46</td>\n",
       "      <td>50</td>\n",
       "      <td>B12</td>\n",
       "      <td>Diesel</td>\n",
       "      <td>4.33</td>\n",
       "      <td>R72</td>\n",
       "      <td>0.0</td>\n",
       "      <td>0</td>\n",
       "      <td>3.0</td>\n",
       "      <td>2</td>\n",
       "      <td>7</td>\n",
       "      <td>1</td>\n",
       "      <td>5</td>\n",
       "      <td>50</td>\n",
       "      <td>4.33</td>\n",
       "    </tr>\n",
       "  </tbody>\n",
       "</table>\n",
       "</div>"
      ],
      "text/plain": [
       "   IDpol  Exposure Area  VehPower  VehAge  DrivAge  BonusMalus VehBrand  \\\n",
       "0    1.0      0.10    D         5       0       55          50      B12   \n",
       "1    3.0      0.77    D         5       0       55          50      B12   \n",
       "2    5.0      0.75    B         6       2       52          50      B12   \n",
       "3   10.0      0.09    B         7       0       46          50      B12   \n",
       "4   11.0      0.84    B         7       0       46          50      B12   \n",
       "\n",
       "    VehGas  Density Region  ClaimTotal  ClaimNb  GroupID  AreaGLM VehPowerGLM  \\\n",
       "0  Regular     7.10    R82         0.0        0      1.0        4           5   \n",
       "1  Regular     7.10    R82         0.0        0      1.0        4           5   \n",
       "2   Diesel     3.99    R22         0.0        0      2.0        2           6   \n",
       "3   Diesel     4.33    R72         0.0        0      3.0        2           7   \n",
       "4   Diesel     4.33    R72         0.0        0      3.0        2           7   \n",
       "\n",
       "  VehAgeGLM DrivAgeGLM  BonusMalusGLM  DensityGLM  \n",
       "0         1          6             50        7.10  \n",
       "1         1          6             50        7.10  \n",
       "2         2          6             50        3.99  \n",
       "3         1          5             50        4.33  \n",
       "4         1          5             50        4.33  "
      ]
     },
     "execution_count": 43,
     "metadata": {},
     "output_type": "execute_result"
    }
   ],
   "source": [
    "df_freq.head()"
   ]
  },
  {
   "cell_type": "code",
   "execution_count": null,
   "metadata": {
    "colab": {
     "base_uri": "https://localhost:8080/"
    },
    "id": "U5K-6thKBCw-",
    "outputId": "e86d548f-32b4-4a1f-c07a-5de931a9c291"
   },
   "outputs": [
    {
     "data": {
      "text/plain": [
       "Index(['IDpol', 'Exposure', 'Area', 'VehPower', 'VehAge', 'DrivAge',\n",
       "       'BonusMalus', 'VehBrand', 'VehGas', 'Density', 'Region', 'ClaimTotal',\n",
       "       'ClaimNb', 'GroupID', 'AreaGLM', 'VehPowerGLM', 'VehAgeGLM',\n",
       "       'DrivAgeGLM', 'BonusMalusGLM', 'DensityGLM'],\n",
       "      dtype='object')"
      ]
     },
     "execution_count": 44,
     "metadata": {},
     "output_type": "execute_result"
    }
   ],
   "source": [
    "df_freq.columns"
   ]
  },
  {
   "cell_type": "markdown",
   "metadata": {
    "id": "g7GcLXEy_rFF"
   },
   "source": [
    "## 5. GLM\n",
    "\n",
    "With the data processed, we are ready for the modelling part.\n",
    "\n",
    "The rest of the document focuses on using `statsmodel` package for GLM fitting."
   ]
  },
  {
   "cell_type": "markdown",
   "metadata": {
    "id": "Ieg-zcoe_rFF"
   },
   "source": [
    "#### 5.1 Some keywords..."
   ]
  },
  {
   "cell_type": "markdown",
   "metadata": {
    "id": "X2qnFk0gGIlB"
   },
   "source": [
    "There are a few key concepts you should be aware of about a GLM. Conveniently, most are covered in the IFoA SP8 Pricing paper.\n",
    "\n",
    "- exponential family\n",
    "- cummulant functions\n",
    "- canonical link functions\n",
    "- maximum likelihood estimator\n",
    "- hessian matrix\n",
    "- mean and variance functions\n",
    "- design matrix\n",
    "- deviance loss functions\n",
    "- test statistics (AIC, F, chi-sqr)\n",
    "- residuals plot\n",
    "- goodness of fit tests (lift curve, gain curve)\n",
    "\n"
   ]
  },
  {
   "cell_type": "markdown",
   "metadata": {
    "id": "OyNnBuRZH5wg"
   },
   "source": [
    "#### 5.2 Train-Test Split"
   ]
  },
  {
   "cell_type": "markdown",
   "metadata": {
    "id": "q2vemM1EH9rk"
   },
   "source": [
    "To do a stratified sampling / splitting data set based on user-defined column, we should use `GroupShuffleSplit` in the `sklearn` package."
   ]
  },
  {
   "cell_type": "code",
   "execution_count": null,
   "metadata": {
    "id": "z9-LxdCtBF-Y"
   },
   "outputs": [],
   "source": [
    "df_freq_glm = deepcopy(df_freq)\n",
    "splitter = GroupShuffleSplit(test_size=0.2, n_splits=2, random_state=999)\n",
    "split = splitter.split(df_freq_glm, groups=df_freq_glm['GroupID'])\n",
    "train_inds, test_inds = next(split)\n",
    "train = df_freq_glm.iloc[train_inds]\n",
    "test = df_freq_glm.iloc[test_inds]"
   ]
  },
  {
   "cell_type": "markdown",
   "metadata": {
    "id": "azaT6zd_II7-"
   },
   "source": [
    "Check if the proportion of train set to test set is indeed 80:20."
   ]
  },
  {
   "cell_type": "code",
   "execution_count": null,
   "metadata": {
    "colab": {
     "base_uri": "https://localhost:8080/"
    },
    "id": "FPHSa1S-BHS3",
    "outputId": "76c2a665-07a2-4adb-8a74-e5d4b8db7c35"
   },
   "outputs": [
    {
     "name": "stdout",
     "output_type": "stream",
     "text": [
      "0.8001185828464897\n",
      "0.1998814171535102\n"
     ]
    }
   ],
   "source": [
    "print(len(train)/len(df_freq_glm))\n",
    "print(len(test)/len(df_freq_glm))"
   ]
  },
  {
   "cell_type": "markdown",
   "metadata": {
    "id": "fKeKqMBoIOT0"
   },
   "source": [
    "Check if the average claims frequencies are similar between train set and test set. They should be very similar, otherwise that means group shuffle has not been done appropriately."
   ]
  },
  {
   "cell_type": "code",
   "execution_count": null,
   "metadata": {
    "colab": {
     "base_uri": "https://localhost:8080/"
    },
    "id": "JLvVkFGFBIjv",
    "outputId": "e2d1688c-8307-4e7c-daf7-00c80e4600ed"
   },
   "outputs": [
    {
     "name": "stdout",
     "output_type": "stream",
     "text": [
      "0.07347472468319734\n",
      "0.07418268578040302\n"
     ]
    }
   ],
   "source": [
    "print(train['ClaimNb'].sum() / train['Exposure'].sum())\n",
    "print(test['ClaimNb'].sum() / test['Exposure'].sum())"
   ]
  },
  {
   "cell_type": "markdown",
   "metadata": {
    "id": "ZcOvHgBMIdTp"
   },
   "source": [
    "Check the sum of `Exposure` and count of `ClaimNb` in the train and test sets."
   ]
  },
  {
   "cell_type": "code",
   "execution_count": null,
   "metadata": {
    "colab": {
     "base_uri": "https://localhost:8080/"
    },
    "id": "cucYZQFeBJj-",
    "outputId": "95dc4657-8cac-4324-96c0-19ce281aaa04"
   },
   "outputs": [
    {
     "name": "stdout",
     "output_type": "stream",
     "text": [
      "              Exposure ClaimNb\n",
      "                   sum   count\n",
      "ClaimNb                       \n",
      "0        272996.206555  522589\n",
      "1         12994.158010   18787\n",
      "2           737.265479    1053\n",
      "3            35.150000      51\n",
      "4             2.500000       6\n",
      "\n",
      "-------------------------\n",
      "\n",
      "             Exposure ClaimNb\n",
      "                  sum   count\n",
      "ClaimNb                      \n",
      "0        68093.440646  130480\n",
      "1         3320.706553    4784\n",
      "2          171.588219     245\n",
      "3            7.220000      11\n",
      "4            0.570000       1\n"
     ]
    }
   ],
   "source": [
    "print(train.groupby(by=['ClaimNb']).agg({'Exposure':['sum'],'ClaimNb':['count']}))\n",
    "print('\\n-------------------------\\n')\n",
    "print(test.groupby(by=['ClaimNb']).agg({'Exposure':['sum'],'ClaimNb':['count']}))"
   ]
  },
  {
   "cell_type": "markdown",
   "metadata": {
    "id": "RnkFHKTzf6ea"
   },
   "source": [
    "### 5.3 Helper Functions"
   ]
  },
  {
   "cell_type": "markdown",
   "metadata": {
    "id": "30eFrCcBIpRl"
   },
   "source": [
    "Define a Poisson Deviance function. So that this can be called upon after each GLM fit.\n",
    "\n",
    "See the following site for details: \n",
    "https://en.wikipedia.org/wiki/Deviance_(statistics)\n"
   ]
  },
  {
   "cell_type": "code",
   "execution_count": null,
   "metadata": {
    "id": "fOpBbZzLbOE7"
   },
   "outputs": [],
   "source": [
    "def poisson_deviance(pred, obs):\n",
    "  return 200*(sum(pred)-sum(obs)+sum(np.log((obs/pred)**(obs)))) / len(pred)"
   ]
  },
  {
   "cell_type": "markdown",
   "metadata": {
    "id": "TKROiN3-dhwY"
   },
   "source": [
    "Define a function to store modelled results after each GLM fit.\n",
    "The following will be displayed when the function is called:\n",
    "- Model name\n",
    "- Number of parameters\n",
    "- AIC\n",
    "- Poisson deviance from the train set\n",
    "- Poisson deviance from the test set\n",
    "- Average frequency in the test set\n",
    "\n",
    "This comparison table will be useful to compare any nested model. \n",
    "\n",
    "AIC in the table can be used to compare different models and determine which one is the best fit for the data. AIC is calculated from the number of parameters used in the model and the maximum likelihood estimate of the model (how well the model reproduces the data). The AIC criteria gives credit for good model fit and at the same time punishes when too many parameters are added to the model. A lower AIC score is better.\n",
    "\n",
    "Additionally, Poission deviance computed on both train and test set gives us a sense of whether train-test split has been fair. We would expect deviance calculated from the train set (in sample loss) to be lower than that calculated form the test set (out of sample loss)."
   ]
  },
  {
   "cell_type": "code",
   "execution_count": null,
   "metadata": {
    "id": "AX3YBMlVX5Ay"
   },
   "outputs": [],
   "source": [
    "lst_model = []\n",
    "lst_params = []\n",
    "lst_aic= []\n",
    "lst_insampleloss = []\n",
    "lst_outsampleloss = []\n",
    "lst_avgfreq = []\n",
    "\n",
    "def save_result(fittedmodel, model_desc, col_name):\n",
    "  train.insert(0,col_name,fittedmodel.predict(train, offset=np.log(train['Exposure'])))\n",
    "  test.insert(0,col_name,fittedmodel.predict(test, offset=np.log(test['Exposure'])))\n",
    "  lst_model.append(model_desc)\n",
    "  lst_params.append(len(fittedmodel.params))\n",
    "  lst_aic.append((2*(fittedmodel.df_model+1) - 2*fittedmodel.llf))\n",
    "  lst_insampleloss.append(poisson_deviance(train[col_name], train['ClaimNb']))\n",
    "  lst_outsampleloss.append(poisson_deviance(test[col_name], test['ClaimNb']))\n",
    "  lst_avgfreq.append(sum(test[col_name])/sum(test['Exposure']))\n",
    "  return pd.DataFrame({\n",
    "      'Model': lst_model,\n",
    "      'ParameterCount': lst_params,\n",
    "      'AIC': lst_aic,\n",
    "      'InSampleLoss': lst_insampleloss,\n",
    "      'OutSampleLoss': lst_outsampleloss,\n",
    "      'AvgFrequency': lst_avgfreq\n",
    "  })"
   ]
  },
  {
   "cell_type": "markdown",
   "metadata": {
    "id": "wmzQcuw_e10a"
   },
   "source": [
    "The following function mimics what a `drop1` function in `R` is doing.\n",
    "\n",
    "`R` is a clear win in this sense - you don't have to self-define a `drop1` function!\n",
    "\n",
    "What it does is essentially re-fit the GLM by dropping one parameter at a time and create a table of test statistics - AIC, Deviance, Likelihood Ratio."
   ]
  },
  {
   "cell_type": "code",
   "execution_count": null,
   "metadata": {
    "id": "r3e90hEDf0WW"
   },
   "outputs": [],
   "source": [
    "def drop1(formula, model, data):\n",
    "  x = [i for i in formula.split('~')[1].split('+')]\n",
    "  drop1_stats = {}\n",
    "  for k in range(1,len(x)+1):\n",
    "      for variables in itertools.combinations(x, k):\n",
    "          if len(variables) == len(x)-1:\n",
    "            predictors = list(variables)\n",
    "            i = True\n",
    "            independent = ''\n",
    "            for p in predictors:\n",
    "                if i:\n",
    "                    independent = p\n",
    "                    i=False\n",
    "                else:\n",
    "                    independent+='+ {}'.format(p)\n",
    "            regression = 'ClaimNb ~ {}'.format(independent)\n",
    "            print('Dropping <'+[i for i in x if i not in predictors][0]+'> from the model and recalculate statistics ... \\n')\n",
    "            res =  smf.glm(formula=regression, data=data, family=sm.families.Poisson(link=sm.families.links.log()), offset=np.log(data['Exposure'])).fit()\n",
    "            drop1_stats[[i for i in x if i not in predictors][0]] = (2*(k+1) - 2*res.llf,\n",
    "                                                               res.deviance,\n",
    "                                                               res.deviance - model.deviance,\n",
    "                                                               res.df_model,\n",
    "                                                               #1-stats.chi2.cdf(res.deviance - model.deviance, res.df_model)   \n",
    "                                                               )\n",
    "  df_out = pd.DataFrame(drop1_stats).T\n",
    "  df_out.columns = ['AIC','Deviance','LRT','DoF']\n",
    "  return df_out"
   ]
  },
  {
   "cell_type": "markdown",
   "metadata": {
    "id": "iPIB0R7jgAgQ"
   },
   "source": [
    "### 5.4 Homogeneous Model"
   ]
  },
  {
   "cell_type": "markdown",
   "metadata": {
    "id": "UbeTviorfZUE"
   },
   "source": [
    "Fitting a homogeneous model: `ClaimNb ~ 1`.\n",
    "\n",
    "With `statsmodel` package, you can adopt a `R`-like way to define your GLM formula.\n",
    "\n",
    "The `smf.glm()` takes arguments like family, offset, exposure etc. See the following website for details:\n",
    "https://www.statsmodels.org/stable/glm.html\n"
   ]
  },
  {
   "cell_type": "code",
   "execution_count": null,
   "metadata": {
    "id": "ijDaVNaNBLuw"
   },
   "outputs": [],
   "source": [
    "formula0 = 'ClaimNb ~ 1'\n",
    "glm0 = smf.glm(formula=formula0, data=train, family=sm.families.Poisson(link=sm.families.links.log()), offset=np.log(train['Exposure'])).fit()"
   ]
  },
  {
   "cell_type": "markdown",
   "metadata": {
    "id": "Mx3lMOnbVa8F"
   },
   "source": [
    "The output from this code `glm0.summary()` is a table like this:\n"
   ]
  },
  {
   "cell_type": "code",
   "execution_count": null,
   "metadata": {
    "colab": {
     "base_uri": "https://localhost:8080/"
    },
    "id": "3_TDbhWaBNEe",
    "outputId": "7eeffdcc-e40c-4356-dc5b-459663f29817"
   },
   "outputs": [
    {
     "name": "stdout",
     "output_type": "stream",
     "text": [
      "                 Generalized Linear Model Regression Results                  \n",
      "==============================================================================\n",
      "Dep. Variable:                ClaimNb   No. Observations:               542486\n",
      "Model:                            GLM   Df Residuals:                   542485\n",
      "Model Family:                 Poisson   Df Model:                            0\n",
      "Link Function:                    log   Scale:                          1.0000\n",
      "Method:                          IRLS   Log-Likelihood:                -88663.\n",
      "Date:                Sun, 10 Apr 2022   Deviance:                   1.3683e+05\n",
      "Time:                        09:23:50   Pearson chi2:                 9.30e+05\n",
      "No. Iterations:                     7   Pseudo R-squ. (CS):              0.000\n",
      "Covariance Type:            nonrobust                                         \n",
      "==============================================================================\n",
      "                 coef    std err          z      P>|z|      [0.025      0.975]\n",
      "------------------------------------------------------------------------------\n",
      "Intercept     -2.6108      0.007   -378.973      0.000      -2.624      -2.597\n",
      "==============================================================================\n"
     ]
    }
   ],
   "source": [
    "print(glm0.summary())"
   ]
  },
  {
   "cell_type": "markdown",
   "metadata": {
    "id": "F2Y8Bxr2zDOP"
   },
   "source": [
    "The upper table shows some generic details about the regression calculations.\n",
    "\n",
    "The lower table shows calculated regression coeffieicnts and some statistics about them. \n",
    "\n",
    "The output shows that there were 7 iterations before the model converged on a solution with a log-likelihood of -88663."
   ]
  },
  {
   "cell_type": "code",
   "execution_count": null,
   "metadata": {
    "colab": {
     "base_uri": "https://localhost:8080/",
     "height": 100
    },
    "id": "HooibSOEXN2G",
    "outputId": "a04ef261-d4e0-4a6a-8064-fc5ad7ecac2d"
   },
   "outputs": [
    {
     "data": {
      "text/html": [
       "\n",
       "  <div id=\"df-c8780eee-fb94-4dcc-9900-1a8f6944ccbc\">\n",
       "    <div class=\"colab-df-container\">\n",
       "      <div>\n",
       "<style scoped>\n",
       "    .dataframe tbody tr th:only-of-type {\n",
       "        vertical-align: middle;\n",
       "    }\n",
       "\n",
       "    .dataframe tbody tr th {\n",
       "        vertical-align: top;\n",
       "    }\n",
       "\n",
       "    .dataframe thead th {\n",
       "        text-align: right;\n",
       "    }\n",
       "</style>\n",
       "<table border=\"1\" class=\"dataframe\">\n",
       "  <thead>\n",
       "    <tr style=\"text-align: right;\">\n",
       "      <th></th>\n",
       "      <th>Model</th>\n",
       "      <th>ParameterCount</th>\n",
       "      <th>AIC</th>\n",
       "      <th>InSampleLoss</th>\n",
       "      <th>OutSampleLoss</th>\n",
       "      <th>AvgFrequency</th>\n",
       "    </tr>\n",
       "  </thead>\n",
       "  <tbody>\n",
       "    <tr>\n",
       "      <th>0</th>\n",
       "      <td>GLM0 - Homogeneous Model</td>\n",
       "      <td>1</td>\n",
       "      <td>177328.892835</td>\n",
       "      <td>25.222491</td>\n",
       "      <td>25.27636</td>\n",
       "      <td>0.073475</td>\n",
       "    </tr>\n",
       "  </tbody>\n",
       "</table>\n",
       "</div>\n",
       "      <button class=\"colab-df-convert\" onclick=\"convertToInteractive('df-c8780eee-fb94-4dcc-9900-1a8f6944ccbc')\"\n",
       "              title=\"Convert this dataframe to an interactive table.\"\n",
       "              style=\"display:none;\">\n",
       "        \n",
       "  <svg xmlns=\"http://www.w3.org/2000/svg\" height=\"24px\"viewBox=\"0 0 24 24\"\n",
       "       width=\"24px\">\n",
       "    <path d=\"M0 0h24v24H0V0z\" fill=\"none\"/>\n",
       "    <path d=\"M18.56 5.44l.94 2.06.94-2.06 2.06-.94-2.06-.94-.94-2.06-.94 2.06-2.06.94zm-11 1L8.5 8.5l.94-2.06 2.06-.94-2.06-.94L8.5 2.5l-.94 2.06-2.06.94zm10 10l.94 2.06.94-2.06 2.06-.94-2.06-.94-.94-2.06-.94 2.06-2.06.94z\"/><path d=\"M17.41 7.96l-1.37-1.37c-.4-.4-.92-.59-1.43-.59-.52 0-1.04.2-1.43.59L10.3 9.45l-7.72 7.72c-.78.78-.78 2.05 0 2.83L4 21.41c.39.39.9.59 1.41.59.51 0 1.02-.2 1.41-.59l7.78-7.78 2.81-2.81c.8-.78.8-2.07 0-2.86zM5.41 20L4 18.59l7.72-7.72 1.47 1.35L5.41 20z\"/>\n",
       "  </svg>\n",
       "      </button>\n",
       "      \n",
       "  <style>\n",
       "    .colab-df-container {\n",
       "      display:flex;\n",
       "      flex-wrap:wrap;\n",
       "      gap: 12px;\n",
       "    }\n",
       "\n",
       "    .colab-df-convert {\n",
       "      background-color: #E8F0FE;\n",
       "      border: none;\n",
       "      border-radius: 50%;\n",
       "      cursor: pointer;\n",
       "      display: none;\n",
       "      fill: #1967D2;\n",
       "      height: 32px;\n",
       "      padding: 0 0 0 0;\n",
       "      width: 32px;\n",
       "    }\n",
       "\n",
       "    .colab-df-convert:hover {\n",
       "      background-color: #E2EBFA;\n",
       "      box-shadow: 0px 1px 2px rgba(60, 64, 67, 0.3), 0px 1px 3px 1px rgba(60, 64, 67, 0.15);\n",
       "      fill: #174EA6;\n",
       "    }\n",
       "\n",
       "    [theme=dark] .colab-df-convert {\n",
       "      background-color: #3B4455;\n",
       "      fill: #D2E3FC;\n",
       "    }\n",
       "\n",
       "    [theme=dark] .colab-df-convert:hover {\n",
       "      background-color: #434B5C;\n",
       "      box-shadow: 0px 1px 3px 1px rgba(0, 0, 0, 0.15);\n",
       "      filter: drop-shadow(0px 1px 2px rgba(0, 0, 0, 0.3));\n",
       "      fill: #FFFFFF;\n",
       "    }\n",
       "  </style>\n",
       "\n",
       "      <script>\n",
       "        const buttonEl =\n",
       "          document.querySelector('#df-c8780eee-fb94-4dcc-9900-1a8f6944ccbc button.colab-df-convert');\n",
       "        buttonEl.style.display =\n",
       "          google.colab.kernel.accessAllowed ? 'block' : 'none';\n",
       "\n",
       "        async function convertToInteractive(key) {\n",
       "          const element = document.querySelector('#df-c8780eee-fb94-4dcc-9900-1a8f6944ccbc');\n",
       "          const dataTable =\n",
       "            await google.colab.kernel.invokeFunction('convertToInteractive',\n",
       "                                                     [key], {});\n",
       "          if (!dataTable) return;\n",
       "\n",
       "          const docLinkHtml = 'Like what you see? Visit the ' +\n",
       "            '<a target=\"_blank\" href=https://colab.research.google.com/notebooks/data_table.ipynb>data table notebook</a>'\n",
       "            + ' to learn more about interactive tables.';\n",
       "          element.innerHTML = '';\n",
       "          dataTable['output_type'] = 'display_data';\n",
       "          await google.colab.output.renderOutput(dataTable, element);\n",
       "          const docLink = document.createElement('div');\n",
       "          docLink.innerHTML = docLinkHtml;\n",
       "          element.appendChild(docLink);\n",
       "        }\n",
       "      </script>\n",
       "    </div>\n",
       "  </div>\n",
       "  "
      ],
      "text/plain": [
       "                      Model  ParameterCount            AIC  InSampleLoss  \\\n",
       "0  GLM0 - Homogeneous Model               1  177328.892835     25.222491   \n",
       "\n",
       "   OutSampleLoss  AvgFrequency  \n",
       "0       25.27636      0.073475  "
      ]
     },
     "execution_count": 14,
     "metadata": {},
     "output_type": "execute_result"
    }
   ],
   "source": [
    "save_result(glm0,'GLM0 - Homogeneous Model','FittedGLM0')"
   ]
  },
  {
   "cell_type": "markdown",
   "metadata": {
    "id": "s_HgebtfgJFj"
   },
   "source": [
    "### 5.5 All Features"
   ]
  },
  {
   "cell_type": "markdown",
   "metadata": {
    "id": "XLRRhXCWTEhE"
   },
   "source": [
    "You can use syntax like `C(your_categorical_factor, Treatment(reference=you_reference_value)` to specify a reference point for your categorical factors.\n",
    "\n",
    "E.g. for `VehAgeGLM`, I have set reference point / base as `2`\n",
    "The base reference level is the value of the intercept.\n",
    "\n",
    "Setting these categorical factors to have the same base reference levels as the ones in JS's notebook for easier comparison."
   ]
  },
  {
   "cell_type": "code",
   "execution_count": null,
   "metadata": {
    "id": "Wma1GZuPBOOn"
   },
   "outputs": [],
   "source": [
    "formula1 = \"ClaimNb ~ VehPowerGLM + C(VehAgeGLM, Treatment(reference=2)) + C(DrivAgeGLM, Treatment(reference=5)) + BonusMalusGLM + VehBrand + VehGas + DensityGLM + C(Region, Treatment(reference='R24')) + AreaGLM\"\n",
    "glm1 = smf.glm(formula=formula1, data=train, family=sm.families.Poisson(link=sm.families.links.log()), offset=np.log(train['Exposure'])).fit()"
   ]
  },
  {
   "cell_type": "code",
   "execution_count": null,
   "metadata": {
    "colab": {
     "base_uri": "https://localhost:8080/"
    },
    "id": "KlYVnMfqoAeN",
    "outputId": "2f5a0a8c-c6bc-4592-99f4-98c8efef56cc"
   },
   "outputs": [
    {
     "name": "stdout",
     "output_type": "stream",
     "text": [
      "                 Generalized Linear Model Regression Results                  \n",
      "==============================================================================\n",
      "Dep. Variable:                ClaimNb   No. Observations:               542486\n",
      "Model:                            GLM   Df Residuals:                   542437\n",
      "Model Family:                 Poisson   Df Model:                           48\n",
      "Link Function:                    log   Scale:                          1.0000\n",
      "Method:                          IRLS   Log-Likelihood:                -85596.\n",
      "Date:                Sun, 10 Apr 2022   Deviance:                   1.3069e+05\n",
      "Time:                        09:24:25   Pearson chi2:                 8.98e+05\n",
      "No. Iterations:                     7   Pseudo R-squ. (CS):            0.01124\n",
      "Covariance Type:            nonrobust                                         \n",
      "================================================================================================================\n",
      "                                                   coef    std err          z      P>|z|      [0.025      0.975]\n",
      "----------------------------------------------------------------------------------------------------------------\n",
      "Intercept                                       -4.5287      0.047    -95.399      0.000      -4.622      -4.436\n",
      "VehPowerGLM[T.5]                                 0.0772      0.025      3.145      0.002       0.029       0.125\n",
      "VehPowerGLM[T.6]                                 0.1143      0.024      4.743      0.000       0.067       0.162\n",
      "VehPowerGLM[T.7]                                 0.1078      0.024      4.514      0.000       0.061       0.155\n",
      "VehPowerGLM[T.8]                                 0.1303      0.034      3.850      0.000       0.064       0.197\n",
      "VehPowerGLM[T.9]                                 0.2642      0.027      9.865      0.000       0.212       0.317\n",
      "C(VehAgeGLM, Treatment(reference=2))[T.1]       -0.0370      0.022     -1.656      0.098      -0.081       0.007\n",
      "C(VehAgeGLM, Treatment(reference=2))[T.3]       -0.1980      0.017    -11.974      0.000      -0.230      -0.166\n",
      "C(DrivAgeGLM, Treatment(reference=5))[T.1]      -0.0144      0.043     -0.338      0.736      -0.098       0.069\n",
      "C(DrivAgeGLM, Treatment(reference=5))[T.2]      -0.3827      0.032    -12.069      0.000      -0.445      -0.321\n",
      "C(DrivAgeGLM, Treatment(reference=5))[T.3]      -0.4941      0.028    -17.917      0.000      -0.548      -0.440\n",
      "C(DrivAgeGLM, Treatment(reference=5))[T.4]      -0.2640      0.020    -13.131      0.000      -0.303      -0.225\n",
      "C(DrivAgeGLM, Treatment(reference=5))[T.6]      -0.1165      0.019     -6.061      0.000      -0.154      -0.079\n",
      "C(DrivAgeGLM, Treatment(reference=5))[T.7]      -0.0509      0.033     -1.564      0.118      -0.115       0.013\n",
      "VehBrand[T.B10]                                 -0.0165      0.045     -0.369      0.712      -0.104       0.071\n",
      "VehBrand[T.B11]                                  0.1939      0.047      4.148      0.000       0.102       0.286\n",
      "VehBrand[T.B12]                                 -0.2508      0.025    -10.009      0.000      -0.300      -0.202\n",
      "VehBrand[T.B13]                                  0.0157      0.051      0.308      0.758      -0.084       0.116\n",
      "VehBrand[T.B14]                                 -0.1144      0.095     -1.199      0.231      -0.301       0.073\n",
      "VehBrand[T.B2]                                   0.0093      0.019      0.482      0.630      -0.029       0.047\n",
      "VehBrand[T.B3]                                   0.0555      0.027      2.067      0.039       0.003       0.108\n",
      "VehBrand[T.B4]                                   0.0390      0.037      1.062      0.288      -0.033       0.111\n",
      "VehBrand[T.B5]                                   0.1040      0.031      3.380      0.001       0.044       0.164\n",
      "VehBrand[T.B6]                                   0.0499      0.035      1.442      0.149      -0.018       0.118\n",
      "VehGas[T.Regular]                               -0.1793      0.015    -11.997      0.000      -0.209      -0.150\n",
      "C(Region, Treatment(reference='R24'))[T.R11]     0.0007      0.031      0.024      0.981      -0.060       0.062\n",
      "C(Region, Treatment(reference='R24'))[T.R21]     0.0763      0.126      0.604      0.546      -0.171       0.324\n",
      "C(Region, Treatment(reference='R24'))[T.R22]     0.1223      0.066      1.862      0.063      -0.006       0.251\n",
      "C(Region, Treatment(reference='R24'))[T.R23]    -0.0097      0.077     -0.126      0.900      -0.161       0.142\n",
      "C(Region, Treatment(reference='R24'))[T.R25]    -0.0724      0.057     -1.279      0.201      -0.183       0.039\n",
      "C(Region, Treatment(reference='R24'))[T.R26]    -0.0380      0.063     -0.601      0.548      -0.162       0.086\n",
      "C(Region, Treatment(reference='R24'))[T.R31]     0.0671      0.040      1.688      0.091      -0.011       0.145\n",
      "C(Region, Treatment(reference='R24'))[T.R41]    -0.0997      0.053     -1.866      0.062      -0.204       0.005\n",
      "C(Region, Treatment(reference='R24'))[T.R42]    -0.0904      0.124     -0.727      0.467      -0.334       0.153\n",
      "C(Region, Treatment(reference='R24'))[T.R43]    -0.3259      0.209     -1.558      0.119      -0.736       0.084\n",
      "C(Region, Treatment(reference='R24'))[T.R52]     0.0358      0.032      1.126      0.260      -0.027       0.098\n",
      "C(Region, Treatment(reference='R24'))[T.R53]    -0.0134      0.030     -0.450      0.652      -0.072       0.045\n",
      "C(Region, Treatment(reference='R24'))[T.R54]     0.0354      0.042      0.833      0.405      -0.048       0.119\n",
      "C(Region, Treatment(reference='R24'))[T.R72]     0.0734      0.038      1.944      0.052      -0.001       0.147\n",
      "C(Region, Treatment(reference='R24'))[T.R73]    -0.2070      0.060     -3.424      0.001      -0.325      -0.089\n",
      "C(Region, Treatment(reference='R24'))[T.R74]     0.4155      0.079      5.242      0.000       0.260       0.571\n",
      "C(Region, Treatment(reference='R24'))[T.R82]     0.2126      0.024      8.960      0.000       0.166       0.259\n",
      "C(Region, Treatment(reference='R24'))[T.R83]    -0.0572      0.097     -0.591      0.555      -0.247       0.132\n",
      "C(Region, Treatment(reference='R24'))[T.R91]     0.0162      0.038      0.426      0.670      -0.058       0.091\n",
      "C(Region, Treatment(reference='R24'))[T.R93]     0.1322      0.027      4.940      0.000       0.080       0.185\n",
      "C(Region, Treatment(reference='R24'))[T.R94]     0.2637      0.094      2.819      0.005       0.080       0.447\n",
      "BonusMalusGLM                                    0.0273      0.000     66.488      0.000       0.026       0.028\n",
      "DensityGLM                                       0.0618      0.016      3.904      0.000       0.031       0.093\n",
      "AreaGLM                                          0.0185      0.021      0.870      0.385      -0.023       0.060\n",
      "================================================================================================================\n"
     ]
    }
   ],
   "source": [
    "print(glm1.summary())"
   ]
  },
  {
   "cell_type": "markdown",
   "metadata": {
    "id": "YNc_XCvBgZbn"
   },
   "source": [
    "You will need to have sufficient memory to run the following code."
   ]
  },
  {
   "cell_type": "code",
   "execution_count": null,
   "metadata": {
    "id": "pRIYghRQwZZy",
    "outputId": "d5da449f-ca64-4ebb-fa27-ab4945c8ef44"
   },
   "outputs": [
    {
     "name": "stdout",
     "output_type": "stream",
     "text": [
      "Dropping < AreaGLM> from the model and recalculate statistics ... \n",
      "\n",
      "Dropping < C(Region, Treatment(reference='R24')) > from the model and recalculate statistics ... \n",
      "\n",
      "Dropping < DensityGLM > from the model and recalculate statistics ... \n",
      "\n",
      "Dropping < VehGas > from the model and recalculate statistics ... \n",
      "\n",
      "Dropping < VehBrand > from the model and recalculate statistics ... \n",
      "\n",
      "Dropping < BonusMalusGLM > from the model and recalculate statistics ... \n",
      "\n",
      "Dropping < C(DrivAgeGLM, Treatment(reference=5)) > from the model and recalculate statistics ... \n",
      "\n",
      "Dropping < C(VehAgeGLM, Treatment(reference=2)) > from the model and recalculate statistics ... \n",
      "\n",
      "Dropping < VehPowerGLM > from the model and recalculate statistics ... \n",
      "\n"
     ]
    },
    {
     "data": {
      "text/html": [
       "<div>\n",
       "<style scoped>\n",
       "    .dataframe tbody tr th:only-of-type {\n",
       "        vertical-align: middle;\n",
       "    }\n",
       "\n",
       "    .dataframe tbody tr th {\n",
       "        vertical-align: top;\n",
       "    }\n",
       "\n",
       "    .dataframe thead th {\n",
       "        text-align: right;\n",
       "    }\n",
       "</style>\n",
       "<table border=\"1\" class=\"dataframe\">\n",
       "  <thead>\n",
       "    <tr style=\"text-align: right;\">\n",
       "      <th></th>\n",
       "      <th>AIC</th>\n",
       "      <th>Deviance</th>\n",
       "      <th>LRT</th>\n",
       "      <th>DoF</th>\n",
       "    </tr>\n",
       "  </thead>\n",
       "  <tbody>\n",
       "    <tr>\n",
       "      <th>AreaGLM</th>\n",
       "      <td>171211.123833</td>\n",
       "      <td>130694.713173</td>\n",
       "      <td>0.756291</td>\n",
       "      <td>47.0</td>\n",
       "    </tr>\n",
       "    <tr>\n",
       "      <th>C(Region, Treatment(reference='R24'))</th>\n",
       "      <td>171402.424899</td>\n",
       "      <td>130886.014239</td>\n",
       "      <td>192.057357</td>\n",
       "      <td>27.0</td>\n",
       "    </tr>\n",
       "    <tr>\n",
       "      <th>DensityGLM</th>\n",
       "      <td>171225.639640</td>\n",
       "      <td>130709.228980</td>\n",
       "      <td>15.272097</td>\n",
       "      <td>47.0</td>\n",
       "    </tr>\n",
       "    <tr>\n",
       "      <th>VehGas</th>\n",
       "      <td>171354.400588</td>\n",
       "      <td>130837.989928</td>\n",
       "      <td>144.033045</td>\n",
       "      <td>47.0</td>\n",
       "    </tr>\n",
       "    <tr>\n",
       "      <th>VehBrand</th>\n",
       "      <td>171412.360998</td>\n",
       "      <td>130895.950338</td>\n",
       "      <td>201.993455</td>\n",
       "      <td>38.0</td>\n",
       "    </tr>\n",
       "    <tr>\n",
       "      <th>BonusMalusGLM</th>\n",
       "      <td>174708.060571</td>\n",
       "      <td>134191.649911</td>\n",
       "      <td>3497.693029</td>\n",
       "      <td>47.0</td>\n",
       "    </tr>\n",
       "    <tr>\n",
       "      <th>C(DrivAgeGLM, Treatment(reference=5))</th>\n",
       "      <td>171683.662660</td>\n",
       "      <td>131167.252000</td>\n",
       "      <td>473.295117</td>\n",
       "      <td>42.0</td>\n",
       "    </tr>\n",
       "    <tr>\n",
       "      <th>C(VehAgeGLM, Treatment(reference=2))</th>\n",
       "      <td>171356.635553</td>\n",
       "      <td>130840.224893</td>\n",
       "      <td>146.268011</td>\n",
       "      <td>46.0</td>\n",
       "    </tr>\n",
       "    <tr>\n",
       "      <th>VehPowerGLM</th>\n",
       "      <td>171311.125224</td>\n",
       "      <td>130794.714564</td>\n",
       "      <td>100.757681</td>\n",
       "      <td>43.0</td>\n",
       "    </tr>\n",
       "  </tbody>\n",
       "</table>\n",
       "</div>"
      ],
      "text/plain": [
       "                                                   AIC       Deviance  \\\n",
       " AreaGLM                                 171211.123833  130694.713173   \n",
       " C(Region, Treatment(reference='R24'))   171402.424899  130886.014239   \n",
       " DensityGLM                              171225.639640  130709.228980   \n",
       " VehGas                                  171354.400588  130837.989928   \n",
       " VehBrand                                171412.360998  130895.950338   \n",
       " BonusMalusGLM                           174708.060571  134191.649911   \n",
       " C(DrivAgeGLM, Treatment(reference=5))   171683.662660  131167.252000   \n",
       " C(VehAgeGLM, Treatment(reference=2))    171356.635553  130840.224893   \n",
       " VehPowerGLM                             171311.125224  130794.714564   \n",
       "\n",
       "                                                 LRT   DoF  \n",
       " AreaGLM                                    0.756291  47.0  \n",
       " C(Region, Treatment(reference='R24'))    192.057357  27.0  \n",
       " DensityGLM                                15.272097  47.0  \n",
       " VehGas                                   144.033045  47.0  \n",
       " VehBrand                                 201.993455  38.0  \n",
       " BonusMalusGLM                           3497.693029  47.0  \n",
       " C(DrivAgeGLM, Treatment(reference=5))    473.295117  42.0  \n",
       " C(VehAgeGLM, Treatment(reference=2))     146.268011  46.0  \n",
       " VehPowerGLM                              100.757681  43.0  "
      ]
     },
     "execution_count": 88,
     "metadata": {},
     "output_type": "execute_result"
    }
   ],
   "source": [
    "df_drop1_glm1 = drop1(formula1, glm1, train)\n",
    "df_drop1_glm1"
   ]
  },
  {
   "cell_type": "code",
   "execution_count": null,
   "metadata": {
    "colab": {
     "base_uri": "https://localhost:8080/",
     "height": 130
    },
    "id": "33opHaUZYNYa",
    "outputId": "2fd0e527-7402-478a-cb66-f5732627954a"
   },
   "outputs": [
    {
     "data": {
      "text/html": [
       "\n",
       "  <div id=\"df-1f656ab2-efdc-44f7-aac0-808d8322d517\">\n",
       "    <div class=\"colab-df-container\">\n",
       "      <div>\n",
       "<style scoped>\n",
       "    .dataframe tbody tr th:only-of-type {\n",
       "        vertical-align: middle;\n",
       "    }\n",
       "\n",
       "    .dataframe tbody tr th {\n",
       "        vertical-align: top;\n",
       "    }\n",
       "\n",
       "    .dataframe thead th {\n",
       "        text-align: right;\n",
       "    }\n",
       "</style>\n",
       "<table border=\"1\" class=\"dataframe\">\n",
       "  <thead>\n",
       "    <tr style=\"text-align: right;\">\n",
       "      <th></th>\n",
       "      <th>Model</th>\n",
       "      <th>ParameterCount</th>\n",
       "      <th>AIC</th>\n",
       "      <th>InSampleLoss</th>\n",
       "      <th>OutSampleLoss</th>\n",
       "      <th>AvgFrequency</th>\n",
       "    </tr>\n",
       "  </thead>\n",
       "  <tbody>\n",
       "    <tr>\n",
       "      <th>0</th>\n",
       "      <td>GLM0 - Homogeneous Model</td>\n",
       "      <td>1</td>\n",
       "      <td>177328.892835</td>\n",
       "      <td>25.222491</td>\n",
       "      <td>25.276360</td>\n",
       "      <td>0.073475</td>\n",
       "    </tr>\n",
       "    <tr>\n",
       "      <th>1</th>\n",
       "      <td>GLM1 - All Features Considered</td>\n",
       "      <td>49</td>\n",
       "      <td>171290.367542</td>\n",
       "      <td>24.091674</td>\n",
       "      <td>24.203893</td>\n",
       "      <td>0.073718</td>\n",
       "    </tr>\n",
       "  </tbody>\n",
       "</table>\n",
       "</div>\n",
       "      <button class=\"colab-df-convert\" onclick=\"convertToInteractive('df-1f656ab2-efdc-44f7-aac0-808d8322d517')\"\n",
       "              title=\"Convert this dataframe to an interactive table.\"\n",
       "              style=\"display:none;\">\n",
       "        \n",
       "  <svg xmlns=\"http://www.w3.org/2000/svg\" height=\"24px\"viewBox=\"0 0 24 24\"\n",
       "       width=\"24px\">\n",
       "    <path d=\"M0 0h24v24H0V0z\" fill=\"none\"/>\n",
       "    <path d=\"M18.56 5.44l.94 2.06.94-2.06 2.06-.94-2.06-.94-.94-2.06-.94 2.06-2.06.94zm-11 1L8.5 8.5l.94-2.06 2.06-.94-2.06-.94L8.5 2.5l-.94 2.06-2.06.94zm10 10l.94 2.06.94-2.06 2.06-.94-2.06-.94-.94-2.06-.94 2.06-2.06.94z\"/><path d=\"M17.41 7.96l-1.37-1.37c-.4-.4-.92-.59-1.43-.59-.52 0-1.04.2-1.43.59L10.3 9.45l-7.72 7.72c-.78.78-.78 2.05 0 2.83L4 21.41c.39.39.9.59 1.41.59.51 0 1.02-.2 1.41-.59l7.78-7.78 2.81-2.81c.8-.78.8-2.07 0-2.86zM5.41 20L4 18.59l7.72-7.72 1.47 1.35L5.41 20z\"/>\n",
       "  </svg>\n",
       "      </button>\n",
       "      \n",
       "  <style>\n",
       "    .colab-df-container {\n",
       "      display:flex;\n",
       "      flex-wrap:wrap;\n",
       "      gap: 12px;\n",
       "    }\n",
       "\n",
       "    .colab-df-convert {\n",
       "      background-color: #E8F0FE;\n",
       "      border: none;\n",
       "      border-radius: 50%;\n",
       "      cursor: pointer;\n",
       "      display: none;\n",
       "      fill: #1967D2;\n",
       "      height: 32px;\n",
       "      padding: 0 0 0 0;\n",
       "      width: 32px;\n",
       "    }\n",
       "\n",
       "    .colab-df-convert:hover {\n",
       "      background-color: #E2EBFA;\n",
       "      box-shadow: 0px 1px 2px rgba(60, 64, 67, 0.3), 0px 1px 3px 1px rgba(60, 64, 67, 0.15);\n",
       "      fill: #174EA6;\n",
       "    }\n",
       "\n",
       "    [theme=dark] .colab-df-convert {\n",
       "      background-color: #3B4455;\n",
       "      fill: #D2E3FC;\n",
       "    }\n",
       "\n",
       "    [theme=dark] .colab-df-convert:hover {\n",
       "      background-color: #434B5C;\n",
       "      box-shadow: 0px 1px 3px 1px rgba(0, 0, 0, 0.15);\n",
       "      filter: drop-shadow(0px 1px 2px rgba(0, 0, 0, 0.3));\n",
       "      fill: #FFFFFF;\n",
       "    }\n",
       "  </style>\n",
       "\n",
       "      <script>\n",
       "        const buttonEl =\n",
       "          document.querySelector('#df-1f656ab2-efdc-44f7-aac0-808d8322d517 button.colab-df-convert');\n",
       "        buttonEl.style.display =\n",
       "          google.colab.kernel.accessAllowed ? 'block' : 'none';\n",
       "\n",
       "        async function convertToInteractive(key) {\n",
       "          const element = document.querySelector('#df-1f656ab2-efdc-44f7-aac0-808d8322d517');\n",
       "          const dataTable =\n",
       "            await google.colab.kernel.invokeFunction('convertToInteractive',\n",
       "                                                     [key], {});\n",
       "          if (!dataTable) return;\n",
       "\n",
       "          const docLinkHtml = 'Like what you see? Visit the ' +\n",
       "            '<a target=\"_blank\" href=https://colab.research.google.com/notebooks/data_table.ipynb>data table notebook</a>'\n",
       "            + ' to learn more about interactive tables.';\n",
       "          element.innerHTML = '';\n",
       "          dataTable['output_type'] = 'display_data';\n",
       "          await google.colab.output.renderOutput(dataTable, element);\n",
       "          const docLink = document.createElement('div');\n",
       "          docLink.innerHTML = docLinkHtml;\n",
       "          element.appendChild(docLink);\n",
       "        }\n",
       "      </script>\n",
       "    </div>\n",
       "  </div>\n",
       "  "
      ],
      "text/plain": [
       "                            Model  ParameterCount            AIC  \\\n",
       "0        GLM0 - Homogeneous Model               1  177328.892835   \n",
       "1  GLM1 - All Features Considered              49  171290.367542   \n",
       "\n",
       "   InSampleLoss  OutSampleLoss  AvgFrequency  \n",
       "0     25.222491      25.276360      0.073475  \n",
       "1     24.091674      24.203893      0.073718  "
      ]
     },
     "execution_count": 16,
     "metadata": {},
     "output_type": "execute_result"
    }
   ],
   "source": [
    "save_result(glm1,'GLM1 - All Features Considered','FittedGLM1')"
   ]
  },
  {
   "cell_type": "markdown",
   "metadata": {
    "id": "aqaDZ0OnnUZn"
   },
   "source": [
    "### 5.6 Plot"
   ]
  },
  {
   "cell_type": "markdown",
   "metadata": {
    "id": "QI753QYRm4k9"
   },
   "source": [
    "The following function plots observed and predicted claims frequencies across different parameters. In addition to test statistics, graphing modelled results is a good way to identify any over- or under-fitting."
   ]
  },
  {
   "cell_type": "code",
   "execution_count": null,
   "metadata": {
    "id": "NkFTrsHTjn3d"
   },
   "outputs": [],
   "source": [
    "def plot_freq(data, dimension, model):\n",
    "  temp = data.groupby(by=[dimension]).agg(\n",
    "      {'ClaimNb':sum,\n",
    "      'Exposure':sum,\n",
    "      model: sum\n",
    "      }\n",
    "  ).reset_index()\n",
    "  temp['ObsFreq'] = temp['ClaimNb'] / temp['Exposure']\n",
    "  temp['PredFreq'] = temp[model] / temp['Exposure']\n",
    "  temp['Rank'] = temp[dimension].rank(method='dense') - 1\n",
    "  fig, ax1 = plt.subplots(figsize=(20, 10))\n",
    "  sns.barplot(x=dimension, y='Exposure', data=temp,\n",
    "              estimator=sum, order=sorted(data[dimension].unique()), alpha=0.5, ax=ax1)\n",
    "  ax1.bar_label(ax1.containers[0]) # add value to the bar\n",
    "  # you might need to update your matplotlib version to use the bar_label function\n",
    "  # !pip install matplotlib --upgrade\n",
    "  ax1.set_xticklabels(sorted(temp[dimension].unique()))\n",
    "  ax2 = ax1.twinx() # share x axis\n",
    "  sns.lineplot(x='Rank', y='ObsFreq', data=temp,\n",
    "                label='ObsFreq', marker='o', markersize=14, ax=ax2)\n",
    "  ax2.legend(loc='upper left')\n",
    "  ax3 = ax2.twinx()\n",
    "  ax2.yaxis.set_visible(False)\n",
    "  sns.lineplot(x='Rank', y='PredFreq', data=temp,\n",
    "                  label='PredFreq', marker='o', markersize=14, color='red', ax=ax3)\n",
    "  ax3.set_ylim(0,0.2)\n",
    "  plt.title('Freq by ' + dimension + ' vs '+model+' Freq')"
   ]
  },
  {
   "cell_type": "code",
   "execution_count": null,
   "metadata": {
    "colab": {
     "base_uri": "https://localhost:8080/",
     "height": 621
    },
    "id": "LZhfUI-EVUnP",
    "outputId": "3370866d-4dd3-45da-c6e2-71c305ec62a2"
   },
   "outputs": [
    {
     "data": {
      "image/png": "[encoded data removed]",
      "text/plain": [
       "<Figure size 1440x720 with 3 Axes>"
      ]
     },
     "metadata": {
      "needs_background": "light"
     },
     "output_type": "display_data"
    }
   ],
   "source": [
    "plot_freq(test, 'VehBrand', 'FittedGLM1')"
   ]
  },
  {
   "cell_type": "code",
   "execution_count": null,
   "metadata": {
    "colab": {
     "base_uri": "https://localhost:8080/",
     "height": 621
    },
    "id": "LMKD_aqvVhxi",
    "outputId": "18ddd12b-0f40-4d90-b86b-4b82e5b816fa"
   },
   "outputs": [
    {
     "data": {
      "image/png": "[encoded data removed]",
      "text/plain": [
       "<Figure size 1440x720 with 3 Axes>"
      ]
     },
     "metadata": {
      "needs_background": "light"
     },
     "output_type": "display_data"
    }
   ],
   "source": [
    "plot_freq(test, 'AreaGLM', 'FittedGLM1')"
   ]
  },
  {
   "cell_type": "code",
   "execution_count": null,
   "metadata": {
    "colab": {
     "base_uri": "https://localhost:8080/",
     "height": 621
    },
    "id": "Rv-tF5AcVxJb",
    "outputId": "6a3def54-70e8-4a1d-9553-f689f5792c86"
   },
   "outputs": [
    {
     "data": {
      "image/png": "[encoded data removed]",
      "text/plain": [
       "<Figure size 1440x720 with 3 Axes>"
      ]
     },
     "metadata": {
      "needs_background": "light"
     },
     "output_type": "display_data"
    }
   ],
   "source": [
    "plot_freq(test, 'VehPowerGLM', 'FittedGLM1')"
   ]
  },
  {
   "cell_type": "code",
   "execution_count": null,
   "metadata": {
    "colab": {
     "base_uri": "https://localhost:8080/",
     "height": 621
    },
    "id": "ZMFOw9sRV9WI",
    "outputId": "e19f133e-88c5-400c-f739-f03525604ef1"
   },
   "outputs": [
    {
     "data": {
      "image/png": "[encoded data removed]",
      "text/plain": [
       "<Figure size 1440x720 with 3 Axes>"
      ]
     },
     "metadata": {
      "needs_background": "light"
     },
     "output_type": "display_data"
    }
   ],
   "source": [
    "plot_freq(test, 'VehAgeGLM', 'FittedGLM1')"
   ]
  },
  {
   "cell_type": "markdown",
   "metadata": {
    "id": "aftJUy0YnYVX"
   },
   "source": [
    "### 5.7 All Features excl. Area"
   ]
  },
  {
   "cell_type": "code",
   "execution_count": null,
   "metadata": {
    "id": "cEQD6zYWW4bM"
   },
   "outputs": [],
   "source": [
    "formula2 = \"ClaimNb ~ VehPowerGLM + C(VehAgeGLM, Treatment(reference=2)) + C(DrivAgeGLM, Treatment(reference=5)) + BonusMalusGLM + VehBrand + VehGas + DensityGLM + C(Region, Treatment(reference='R24'))\"\n",
    "glm2 = smf.glm(formula=formula2, data=train, family=sm.families.Poisson(link=sm.families.links.log()), offset=np.log(train['Exposure'])).fit()"
   ]
  },
  {
   "cell_type": "code",
   "execution_count": null,
   "metadata": {
    "colab": {
     "base_uri": "https://localhost:8080/"
    },
    "id": "Npsy0A5dXHbB",
    "outputId": "e2340629-a0c5-4ee9-a1d4-337f70f66683"
   },
   "outputs": [
    {
     "name": "stdout",
     "output_type": "stream",
     "text": [
      "                 Generalized Linear Model Regression Results                  \n",
      "==============================================================================\n",
      "Dep. Variable:                ClaimNb   No. Observations:               542486\n",
      "Model:                            GLM   Df Residuals:                   542438\n",
      "Model Family:                 Poisson   Df Model:                           47\n",
      "Link Function:                    log   Scale:                          1.0000\n",
      "Method:                          IRLS   Log-Likelihood:                -85597.\n",
      "Date:                Sun, 10 Apr 2022   Deviance:                   1.3069e+05\n",
      "Time:                        09:29:30   Pearson chi2:                 8.98e+05\n",
      "No. Iterations:                     7   Pseudo R-squ. (CS):            0.01124\n",
      "Covariance Type:            nonrobust                                         \n",
      "================================================================================================================\n",
      "                                                   coef    std err          z      P>|z|      [0.025      0.975]\n",
      "----------------------------------------------------------------------------------------------------------------\n",
      "Intercept                                       -4.5471      0.042   -106.993      0.000      -4.630      -4.464\n",
      "VehPowerGLM[T.5]                                 0.0773      0.025      3.147      0.002       0.029       0.125\n",
      "VehPowerGLM[T.6]                                 0.1143      0.024      4.742      0.000       0.067       0.162\n",
      "VehPowerGLM[T.7]                                 0.1078      0.024      4.512      0.000       0.061       0.155\n",
      "VehPowerGLM[T.8]                                 0.1302      0.034      3.847      0.000       0.064       0.196\n",
      "VehPowerGLM[T.9]                                 0.2641      0.027      9.861      0.000       0.212       0.317\n",
      "C(VehAgeGLM, Treatment(reference=2))[T.1]       -0.0371      0.022     -1.660      0.097      -0.081       0.007\n",
      "C(VehAgeGLM, Treatment(reference=2))[T.3]       -0.1981      0.017    -11.978      0.000      -0.230      -0.166\n",
      "C(DrivAgeGLM, Treatment(reference=5))[T.1]      -0.0137      0.043     -0.323      0.747      -0.097       0.070\n",
      "C(DrivAgeGLM, Treatment(reference=5))[T.2]      -0.3823      0.032    -12.058      0.000      -0.444      -0.320\n",
      "C(DrivAgeGLM, Treatment(reference=5))[T.3]      -0.4939      0.028    -17.910      0.000      -0.548      -0.440\n",
      "C(DrivAgeGLM, Treatment(reference=5))[T.4]      -0.2639      0.020    -13.124      0.000      -0.303      -0.224\n",
      "C(DrivAgeGLM, Treatment(reference=5))[T.6]      -0.1165      0.019     -6.060      0.000      -0.154      -0.079\n",
      "C(DrivAgeGLM, Treatment(reference=5))[T.7]      -0.0510      0.033     -1.568      0.117      -0.115       0.013\n",
      "VehBrand[T.B10]                                 -0.0166      0.045     -0.371      0.711      -0.104       0.071\n",
      "VehBrand[T.B11]                                  0.1940      0.047      4.150      0.000       0.102       0.286\n",
      "VehBrand[T.B12]                                 -0.2506      0.025    -10.003      0.000      -0.300      -0.202\n",
      "VehBrand[T.B13]                                  0.0156      0.051      0.306      0.759      -0.084       0.116\n",
      "VehBrand[T.B14]                                 -0.1143      0.095     -1.198      0.231      -0.301       0.073\n",
      "VehBrand[T.B2]                                   0.0094      0.019      0.487      0.626      -0.028       0.047\n",
      "VehBrand[T.B3]                                   0.0557      0.027      2.074      0.038       0.003       0.108\n",
      "VehBrand[T.B4]                                   0.0390      0.037      1.064      0.287      -0.033       0.111\n",
      "VehBrand[T.B5]                                   0.1042      0.031      3.386      0.001       0.044       0.164\n",
      "VehBrand[T.B6]                                   0.0500      0.035      1.445      0.149      -0.018       0.118\n",
      "VehGas[T.Regular]                               -0.1792      0.015    -11.990      0.000      -0.209      -0.150\n",
      "C(Region, Treatment(reference='R24'))[T.R11] -9.442e-05      0.031     -0.003      0.998      -0.061       0.061\n",
      "C(Region, Treatment(reference='R24'))[T.R21]     0.0759      0.126      0.601      0.548      -0.172       0.323\n",
      "C(Region, Treatment(reference='R24'))[T.R22]     0.1246      0.066      1.898      0.058      -0.004       0.253\n",
      "C(Region, Treatment(reference='R24'))[T.R23]    -0.0085      0.077     -0.109      0.913      -0.160       0.143\n",
      "C(Region, Treatment(reference='R24'))[T.R25]    -0.0718      0.057     -1.269      0.205      -0.183       0.039\n",
      "C(Region, Treatment(reference='R24'))[T.R26]    -0.0369      0.063     -0.583      0.560      -0.161       0.087\n",
      "C(Region, Treatment(reference='R24'))[T.R31]     0.0686      0.040      1.726      0.084      -0.009       0.146\n",
      "C(Region, Treatment(reference='R24'))[T.R41]    -0.0996      0.053     -1.863      0.062      -0.204       0.005\n",
      "C(Region, Treatment(reference='R24'))[T.R42]    -0.0879      0.124     -0.708      0.479      -0.332       0.156\n",
      "C(Region, Treatment(reference='R24'))[T.R43]    -0.3252      0.209     -1.555      0.120      -0.735       0.085\n",
      "C(Region, Treatment(reference='R24'))[T.R52]     0.0366      0.032      1.151      0.250      -0.026       0.099\n",
      "C(Region, Treatment(reference='R24'))[T.R53]    -0.0123      0.030     -0.411      0.681      -0.071       0.046\n",
      "C(Region, Treatment(reference='R24'))[T.R54]     0.0355      0.042      0.836      0.403      -0.048       0.119\n",
      "C(Region, Treatment(reference='R24'))[T.R72]     0.0741      0.038      1.963      0.050       0.000       0.148\n",
      "C(Region, Treatment(reference='R24'))[T.R73]    -0.2058      0.060     -3.406      0.001      -0.324      -0.087\n",
      "C(Region, Treatment(reference='R24'))[T.R74]     0.4159      0.079      5.248      0.000       0.261       0.571\n",
      "C(Region, Treatment(reference='R24'))[T.R82]     0.2124      0.024      8.952      0.000       0.166       0.259\n",
      "C(Region, Treatment(reference='R24'))[T.R83]    -0.0566      0.097     -0.585      0.559      -0.246       0.133\n",
      "C(Region, Treatment(reference='R24'))[T.R91]     0.0179      0.038      0.471      0.637      -0.057       0.093\n",
      "C(Region, Treatment(reference='R24'))[T.R93]     0.1343      0.027      5.038      0.000       0.082       0.187\n",
      "C(Region, Treatment(reference='R24'))[T.R94]     0.2638      0.094      2.821      0.005       0.080       0.447\n",
      "BonusMalusGLM                                    0.0273      0.000     66.484      0.000       0.026       0.028\n",
      "DensityGLM                                       0.0750      0.004     16.762      0.000       0.066       0.084\n",
      "================================================================================================================\n"
     ]
    }
   ],
   "source": [
    "print(glm2.summary())"
   ]
  },
  {
   "cell_type": "code",
   "execution_count": null,
   "metadata": {
    "colab": {
     "base_uri": "https://localhost:8080/",
     "height": 160
    },
    "id": "mrm2MBHcYIEH",
    "outputId": "3e91d9cf-673a-43fe-90ff-1276cd7e5ccd"
   },
   "outputs": [
    {
     "data": {
      "text/html": [
       "\n",
       "  <div id=\"df-681e5e04-ff90-44ca-a0c9-01d16218d68e\">\n",
       "    <div class=\"colab-df-container\">\n",
       "      <div>\n",
       "<style scoped>\n",
       "    .dataframe tbody tr th:only-of-type {\n",
       "        vertical-align: middle;\n",
       "    }\n",
       "\n",
       "    .dataframe tbody tr th {\n",
       "        vertical-align: top;\n",
       "    }\n",
       "\n",
       "    .dataframe thead th {\n",
       "        text-align: right;\n",
       "    }\n",
       "</style>\n",
       "<table border=\"1\" class=\"dataframe\">\n",
       "  <thead>\n",
       "    <tr style=\"text-align: right;\">\n",
       "      <th></th>\n",
       "      <th>Model</th>\n",
       "      <th>ParameterCount</th>\n",
       "      <th>AIC</th>\n",
       "      <th>InSampleLoss</th>\n",
       "      <th>OutSampleLoss</th>\n",
       "      <th>AvgFrequency</th>\n",
       "    </tr>\n",
       "  </thead>\n",
       "  <tbody>\n",
       "    <tr>\n",
       "      <th>0</th>\n",
       "      <td>GLM0 - Homogeneous Model</td>\n",
       "      <td>1</td>\n",
       "      <td>177328.892835</td>\n",
       "      <td>25.222491</td>\n",
       "      <td>25.276360</td>\n",
       "      <td>0.073475</td>\n",
       "    </tr>\n",
       "    <tr>\n",
       "      <th>1</th>\n",
       "      <td>GLM1 - All Features Considered</td>\n",
       "      <td>49</td>\n",
       "      <td>171290.367542</td>\n",
       "      <td>24.091674</td>\n",
       "      <td>24.203893</td>\n",
       "      <td>0.073718</td>\n",
       "    </tr>\n",
       "    <tr>\n",
       "      <th>2</th>\n",
       "      <td>GLM2 - All Features excl. Area</td>\n",
       "      <td>48</td>\n",
       "      <td>171289.123833</td>\n",
       "      <td>24.091813</td>\n",
       "      <td>24.205293</td>\n",
       "      <td>0.073720</td>\n",
       "    </tr>\n",
       "  </tbody>\n",
       "</table>\n",
       "</div>\n",
       "      <button class=\"colab-df-convert\" onclick=\"convertToInteractive('df-681e5e04-ff90-44ca-a0c9-01d16218d68e')\"\n",
       "              title=\"Convert this dataframe to an interactive table.\"\n",
       "              style=\"display:none;\">\n",
       "        \n",
       "  <svg xmlns=\"http://www.w3.org/2000/svg\" height=\"24px\"viewBox=\"0 0 24 24\"\n",
       "       width=\"24px\">\n",
       "    <path d=\"M0 0h24v24H0V0z\" fill=\"none\"/>\n",
       "    <path d=\"M18.56 5.44l.94 2.06.94-2.06 2.06-.94-2.06-.94-.94-2.06-.94 2.06-2.06.94zm-11 1L8.5 8.5l.94-2.06 2.06-.94-2.06-.94L8.5 2.5l-.94 2.06-2.06.94zm10 10l.94 2.06.94-2.06 2.06-.94-2.06-.94-.94-2.06-.94 2.06-2.06.94z\"/><path d=\"M17.41 7.96l-1.37-1.37c-.4-.4-.92-.59-1.43-.59-.52 0-1.04.2-1.43.59L10.3 9.45l-7.72 7.72c-.78.78-.78 2.05 0 2.83L4 21.41c.39.39.9.59 1.41.59.51 0 1.02-.2 1.41-.59l7.78-7.78 2.81-2.81c.8-.78.8-2.07 0-2.86zM5.41 20L4 18.59l7.72-7.72 1.47 1.35L5.41 20z\"/>\n",
       "  </svg>\n",
       "      </button>\n",
       "      \n",
       "  <style>\n",
       "    .colab-df-container {\n",
       "      display:flex;\n",
       "      flex-wrap:wrap;\n",
       "      gap: 12px;\n",
       "    }\n",
       "\n",
       "    .colab-df-convert {\n",
       "      background-color: #E8F0FE;\n",
       "      border: none;\n",
       "      border-radius: 50%;\n",
       "      cursor: pointer;\n",
       "      display: none;\n",
       "      fill: #1967D2;\n",
       "      height: 32px;\n",
       "      padding: 0 0 0 0;\n",
       "      width: 32px;\n",
       "    }\n",
       "\n",
       "    .colab-df-convert:hover {\n",
       "      background-color: #E2EBFA;\n",
       "      box-shadow: 0px 1px 2px rgba(60, 64, 67, 0.3), 0px 1px 3px 1px rgba(60, 64, 67, 0.15);\n",
       "      fill: #174EA6;\n",
       "    }\n",
       "\n",
       "    [theme=dark] .colab-df-convert {\n",
       "      background-color: #3B4455;\n",
       "      fill: #D2E3FC;\n",
       "    }\n",
       "\n",
       "    [theme=dark] .colab-df-convert:hover {\n",
       "      background-color: #434B5C;\n",
       "      box-shadow: 0px 1px 3px 1px rgba(0, 0, 0, 0.15);\n",
       "      filter: drop-shadow(0px 1px 2px rgba(0, 0, 0, 0.3));\n",
       "      fill: #FFFFFF;\n",
       "    }\n",
       "  </style>\n",
       "\n",
       "      <script>\n",
       "        const buttonEl =\n",
       "          document.querySelector('#df-681e5e04-ff90-44ca-a0c9-01d16218d68e button.colab-df-convert');\n",
       "        buttonEl.style.display =\n",
       "          google.colab.kernel.accessAllowed ? 'block' : 'none';\n",
       "\n",
       "        async function convertToInteractive(key) {\n",
       "          const element = document.querySelector('#df-681e5e04-ff90-44ca-a0c9-01d16218d68e');\n",
       "          const dataTable =\n",
       "            await google.colab.kernel.invokeFunction('convertToInteractive',\n",
       "                                                     [key], {});\n",
       "          if (!dataTable) return;\n",
       "\n",
       "          const docLinkHtml = 'Like what you see? Visit the ' +\n",
       "            '<a target=\"_blank\" href=https://colab.research.google.com/notebooks/data_table.ipynb>data table notebook</a>'\n",
       "            + ' to learn more about interactive tables.';\n",
       "          element.innerHTML = '';\n",
       "          dataTable['output_type'] = 'display_data';\n",
       "          await google.colab.output.renderOutput(dataTable, element);\n",
       "          const docLink = document.createElement('div');\n",
       "          docLink.innerHTML = docLinkHtml;\n",
       "          element.appendChild(docLink);\n",
       "        }\n",
       "      </script>\n",
       "    </div>\n",
       "  </div>\n",
       "  "
      ],
      "text/plain": [
       "                            Model  ParameterCount            AIC  \\\n",
       "0        GLM0 - Homogeneous Model               1  177328.892835   \n",
       "1  GLM1 - All Features Considered              49  171290.367542   \n",
       "2  GLM2 - All Features excl. Area              48  171289.123833   \n",
       "\n",
       "   InSampleLoss  OutSampleLoss  AvgFrequency  \n",
       "0     25.222491      25.276360      0.073475  \n",
       "1     24.091674      24.203893      0.073718  \n",
       "2     24.091813      24.205293      0.073720  "
      ]
     },
     "execution_count": 18,
     "metadata": {},
     "output_type": "execute_result"
    }
   ],
   "source": [
    "save_result(glm2,'GLM2 - All Features excl. Area','FittedGLM2')"
   ]
  },
  {
   "cell_type": "code",
   "execution_count": null,
   "metadata": {
    "id": "xbllhx8788bQ",
    "outputId": "533c46af-fdbe-489e-923c-c1e6bc46f4d9"
   },
   "outputs": [
    {
     "name": "stdout",
     "output_type": "stream",
     "text": [
      "Dropping < C(Region, Treatment(reference='R24'))> from the model and recalculate statistics ... \n",
      "\n",
      "Dropping < DensityGLM > from the model and recalculate statistics ... \n",
      "\n",
      "Dropping < VehGas > from the model and recalculate statistics ... \n",
      "\n",
      "Dropping < VehBrand > from the model and recalculate statistics ... \n",
      "\n",
      "Dropping < BonusMalusGLM > from the model and recalculate statistics ... \n",
      "\n",
      "Dropping < C(DrivAgeGLM, Treatment(reference=5)) > from the model and recalculate statistics ... \n",
      "\n",
      "Dropping < C(VehAgeGLM, Treatment(reference=2)) > from the model and recalculate statistics ... \n",
      "\n",
      "Dropping < VehPowerGLM > from the model and recalculate statistics ... \n",
      "\n"
     ]
    },
    {
     "data": {
      "text/html": [
       "<div>\n",
       "<style scoped>\n",
       "    .dataframe tbody tr th:only-of-type {\n",
       "        vertical-align: middle;\n",
       "    }\n",
       "\n",
       "    .dataframe tbody tr th {\n",
       "        vertical-align: top;\n",
       "    }\n",
       "\n",
       "    .dataframe thead th {\n",
       "        text-align: right;\n",
       "    }\n",
       "</style>\n",
       "<table border=\"1\" class=\"dataframe\">\n",
       "  <thead>\n",
       "    <tr style=\"text-align: right;\">\n",
       "      <th></th>\n",
       "      <th>AIC</th>\n",
       "      <th>Deviance</th>\n",
       "      <th>LRT</th>\n",
       "      <th>DoF</th>\n",
       "    </tr>\n",
       "  </thead>\n",
       "  <tbody>\n",
       "    <tr>\n",
       "      <th>C(Region, Treatment(reference='R24'))</th>\n",
       "      <td>171401.400193</td>\n",
       "      <td>130886.989534</td>\n",
       "      <td>192.276360</td>\n",
       "      <td>26.0</td>\n",
       "    </tr>\n",
       "    <tr>\n",
       "      <th>DensityGLM</th>\n",
       "      <td>171492.143292</td>\n",
       "      <td>130977.732632</td>\n",
       "      <td>283.019459</td>\n",
       "      <td>46.0</td>\n",
       "    </tr>\n",
       "    <tr>\n",
       "      <th>VehGas</th>\n",
       "      <td>171352.989231</td>\n",
       "      <td>130838.578571</td>\n",
       "      <td>143.865397</td>\n",
       "      <td>46.0</td>\n",
       "    </tr>\n",
       "    <tr>\n",
       "      <th>VehBrand</th>\n",
       "      <td>171411.069012</td>\n",
       "      <td>130896.658352</td>\n",
       "      <td>201.945179</td>\n",
       "      <td>37.0</td>\n",
       "    </tr>\n",
       "    <tr>\n",
       "      <th>BonusMalusGLM</th>\n",
       "      <td>174706.091001</td>\n",
       "      <td>134191.680341</td>\n",
       "      <td>3496.967168</td>\n",
       "      <td>46.0</td>\n",
       "    </tr>\n",
       "    <tr>\n",
       "      <th>C(DrivAgeGLM, Treatment(reference=5))</th>\n",
       "      <td>171682.080914</td>\n",
       "      <td>131167.670254</td>\n",
       "      <td>472.957081</td>\n",
       "      <td>41.0</td>\n",
       "    </tr>\n",
       "    <tr>\n",
       "      <th>C(VehAgeGLM, Treatment(reference=2))</th>\n",
       "      <td>171355.481494</td>\n",
       "      <td>130841.070834</td>\n",
       "      <td>146.357661</td>\n",
       "      <td>45.0</td>\n",
       "    </tr>\n",
       "    <tr>\n",
       "      <th>VehPowerGLM</th>\n",
       "      <td>171309.781391</td>\n",
       "      <td>130795.370731</td>\n",
       "      <td>100.657557</td>\n",
       "      <td>42.0</td>\n",
       "    </tr>\n",
       "  </tbody>\n",
       "</table>\n",
       "</div>"
      ],
      "text/plain": [
       "                                                   AIC       Deviance  \\\n",
       " C(Region, Treatment(reference='R24'))   171401.400193  130886.989534   \n",
       " DensityGLM                              171492.143292  130977.732632   \n",
       " VehGas                                  171352.989231  130838.578571   \n",
       " VehBrand                                171411.069012  130896.658352   \n",
       " BonusMalusGLM                           174706.091001  134191.680341   \n",
       " C(DrivAgeGLM, Treatment(reference=5))   171682.080914  131167.670254   \n",
       " C(VehAgeGLM, Treatment(reference=2))    171355.481494  130841.070834   \n",
       " VehPowerGLM                             171309.781391  130795.370731   \n",
       "\n",
       "                                                 LRT   DoF  \n",
       " C(Region, Treatment(reference='R24'))    192.276360  26.0  \n",
       " DensityGLM                               283.019459  46.0  \n",
       " VehGas                                   143.865397  46.0  \n",
       " VehBrand                                 201.945179  37.0  \n",
       " BonusMalusGLM                           3496.967168  46.0  \n",
       " C(DrivAgeGLM, Treatment(reference=5))    472.957081  41.0  \n",
       " C(VehAgeGLM, Treatment(reference=2))     146.357661  45.0  \n",
       " VehPowerGLM                              100.657557  42.0  "
      ]
     },
     "execution_count": 89,
     "metadata": {},
     "output_type": "execute_result"
    }
   ],
   "source": [
    "df_drop1_glm2 = drop1(formula2, glm2, train)\n",
    "df_drop1_glm2"
   ]
  },
  {
   "cell_type": "code",
   "execution_count": null,
   "metadata": {
    "colab": {
     "base_uri": "https://localhost:8080/",
     "height": 621
    },
    "id": "09vA-y1zYfy8",
    "outputId": "b041ccc8-1230-4431-83d2-461ffd70a1f3"
   },
   "outputs": [
    {
     "data": {
      "image/png": "[encoded data removed]",
      "text/plain": [
       "<Figure size 1440x720 with 3 Axes>"
      ]
     },
     "metadata": {
      "needs_background": "light"
     },
     "output_type": "display_data"
    }
   ],
   "source": [
    "plot_freq(test, 'Region', 'FittedGLM2')"
   ]
  },
  {
   "cell_type": "markdown",
   "metadata": {
    "id": "ioRV1AZnnoY5"
   },
   "source": [
    "### 5.8 ALl Features excl. Area and VehBrand"
   ]
  },
  {
   "cell_type": "code",
   "execution_count": null,
   "metadata": {
    "id": "EsMzMQNxY0gS"
   },
   "outputs": [],
   "source": [
    "formula3 = \"ClaimNb ~ VehPowerGLM + C(VehAgeGLM, Treatment(reference=2)) + C(DrivAgeGLM, Treatment(reference=5)) + BonusMalusGLM + VehGas + DensityGLM + C(Region, Treatment(reference='R24'))\"\n",
    "glm3 = smf.glm(formula=formula3, data=train, family=sm.families.Poisson(link=sm.families.links.log()), offset=np.log(train['Exposure'])).fit()"
   ]
  },
  {
   "cell_type": "code",
   "execution_count": null,
   "metadata": {
    "colab": {
     "base_uri": "https://localhost:8080/"
    },
    "id": "IBD2YJOIY_Xe",
    "outputId": "6f2c9eaf-2795-4794-d908-841821cb543d"
   },
   "outputs": [
    {
     "name": "stdout",
     "output_type": "stream",
     "text": [
      "                 Generalized Linear Model Regression Results                  \n",
      "==============================================================================\n",
      "Dep. Variable:                ClaimNb   No. Observations:               542486\n",
      "Model:                            GLM   Df Residuals:                   542448\n",
      "Model Family:                 Poisson   Df Model:                           37\n",
      "Link Function:                    log   Scale:                          1.0000\n",
      "Method:                          IRLS   Log-Likelihood:                -85698.\n",
      "Date:                Sun, 10 Apr 2022   Deviance:                   1.3090e+05\n",
      "Time:                        09:33:54   Pearson chi2:                 8.88e+05\n",
      "No. Iterations:                     7   Pseudo R-squ. (CS):            0.01087\n",
      "Covariance Type:            nonrobust                                         \n",
      "================================================================================================================\n",
      "                                                   coef    std err          z      P>|z|      [0.025      0.975]\n",
      "----------------------------------------------------------------------------------------------------------------\n",
      "Intercept                                       -4.5573      0.041   -111.810      0.000      -4.637      -4.477\n",
      "VehPowerGLM[T.5]                                 0.1147      0.024      4.733      0.000       0.067       0.162\n",
      "VehPowerGLM[T.6]                                 0.1354      0.024      5.673      0.000       0.089       0.182\n",
      "VehPowerGLM[T.7]                                 0.1273      0.024      5.372      0.000       0.081       0.174\n",
      "VehPowerGLM[T.8]                                 0.1225      0.034      3.644      0.000       0.057       0.188\n",
      "VehPowerGLM[T.9]                                 0.2581      0.026      9.978      0.000       0.207       0.309\n",
      "C(VehAgeGLM, Treatment(reference=2))[T.1]       -0.1210      0.021     -5.645      0.000      -0.163      -0.079\n",
      "C(VehAgeGLM, Treatment(reference=2))[T.3]       -0.1662      0.016    -10.221      0.000      -0.198      -0.134\n",
      "C(DrivAgeGLM, Treatment(reference=5))[T.1]       0.0191      0.042      0.450      0.653      -0.064       0.102\n",
      "C(DrivAgeGLM, Treatment(reference=5))[T.2]      -0.3655      0.032    -11.542      0.000      -0.428      -0.303\n",
      "C(DrivAgeGLM, Treatment(reference=5))[T.3]      -0.4818      0.028    -17.484      0.000      -0.536      -0.428\n",
      "C(DrivAgeGLM, Treatment(reference=5))[T.4]      -0.2590      0.020    -12.884      0.000      -0.298      -0.220\n",
      "C(DrivAgeGLM, Treatment(reference=5))[T.6]      -0.1214      0.019     -6.320      0.000      -0.159      -0.084\n",
      "C(DrivAgeGLM, Treatment(reference=5))[T.7]      -0.0545      0.032     -1.678      0.093      -0.118       0.009\n",
      "VehGas[T.Regular]                               -0.1877      0.015    -12.677      0.000      -0.217      -0.159\n",
      "C(Region, Treatment(reference='R24'))[T.R11]    -0.0863      0.030     -2.842      0.004      -0.146      -0.027\n",
      "C(Region, Treatment(reference='R24'))[T.R21]    -0.0359      0.126     -0.285      0.776      -0.283       0.211\n",
      "C(Region, Treatment(reference='R24'))[T.R22]     0.0697      0.065      1.065      0.287      -0.059       0.198\n",
      "C(Region, Treatment(reference='R24'))[T.R23]    -0.0447      0.077     -0.578      0.563      -0.196       0.107\n",
      "C(Region, Treatment(reference='R24'))[T.R25]    -0.0874      0.057     -1.545      0.122      -0.198       0.023\n",
      "C(Region, Treatment(reference='R24'))[T.R26]    -0.0769      0.063     -1.217      0.224      -0.201       0.047\n",
      "C(Region, Treatment(reference='R24'))[T.R31]     0.0223      0.040      0.564      0.573      -0.055       0.100\n",
      "C(Region, Treatment(reference='R24'))[T.R41]    -0.1232      0.053     -2.311      0.021      -0.228      -0.019\n",
      "C(Region, Treatment(reference='R24'))[T.R42]    -0.1240      0.124     -0.998      0.318      -0.367       0.119\n",
      "C(Region, Treatment(reference='R24'))[T.R43]    -0.3909      0.209     -1.870      0.062      -0.801       0.019\n",
      "C(Region, Treatment(reference='R24'))[T.R52]     0.0204      0.032      0.642      0.521      -0.042       0.083\n",
      "C(Region, Treatment(reference='R24'))[T.R53]    -0.0106      0.030     -0.356      0.722      -0.069       0.048\n",
      "C(Region, Treatment(reference='R24'))[T.R54]     0.0248      0.042      0.583      0.560      -0.058       0.108\n",
      "C(Region, Treatment(reference='R24'))[T.R72]     0.0345      0.038      0.919      0.358      -0.039       0.108\n",
      "C(Region, Treatment(reference='R24'))[T.R73]    -0.2909      0.060     -4.839      0.000      -0.409      -0.173\n",
      "C(Region, Treatment(reference='R24'))[T.R74]     0.3666      0.079      4.632      0.000       0.211       0.522\n",
      "C(Region, Treatment(reference='R24'))[T.R82]     0.1904      0.024      8.049      0.000       0.144       0.237\n",
      "C(Region, Treatment(reference='R24'))[T.R83]    -0.1412      0.097     -1.463      0.143      -0.330       0.048\n",
      "C(Region, Treatment(reference='R24'))[T.R91]    -0.0327      0.038     -0.863      0.388      -0.107       0.042\n",
      "C(Region, Treatment(reference='R24'))[T.R93]     0.0875      0.026      3.319      0.001       0.036       0.139\n",
      "C(Region, Treatment(reference='R24'))[T.R94]     0.1467      0.093      1.577      0.115      -0.036       0.329\n",
      "BonusMalusGLM                                    0.0271      0.000     66.006      0.000       0.026       0.028\n",
      "DensityGLM                                       0.0778      0.004     17.449      0.000       0.069       0.087\n",
      "================================================================================================================\n"
     ]
    }
   ],
   "source": [
    "print(glm3.summary())"
   ]
  },
  {
   "cell_type": "code",
   "execution_count": null,
   "metadata": {
    "colab": {
     "base_uri": "https://localhost:8080/",
     "height": 191
    },
    "id": "2MBucx4QZBfh",
    "outputId": "62a44965-a482-459c-a8d4-02b723007afa"
   },
   "outputs": [
    {
     "data": {
      "text/html": [
       "\n",
       "  <div id=\"df-540f6ea8-145b-49cb-8026-77afdd8fdeb8\">\n",
       "    <div class=\"colab-df-container\">\n",
       "      <div>\n",
       "<style scoped>\n",
       "    .dataframe tbody tr th:only-of-type {\n",
       "        vertical-align: middle;\n",
       "    }\n",
       "\n",
       "    .dataframe tbody tr th {\n",
       "        vertical-align: top;\n",
       "    }\n",
       "\n",
       "    .dataframe thead th {\n",
       "        text-align: right;\n",
       "    }\n",
       "</style>\n",
       "<table border=\"1\" class=\"dataframe\">\n",
       "  <thead>\n",
       "    <tr style=\"text-align: right;\">\n",
       "      <th></th>\n",
       "      <th>Model</th>\n",
       "      <th>ParameterCount</th>\n",
       "      <th>AIC</th>\n",
       "      <th>InSampleLoss</th>\n",
       "      <th>OutSampleLoss</th>\n",
       "      <th>AvgFrequency</th>\n",
       "    </tr>\n",
       "  </thead>\n",
       "  <tbody>\n",
       "    <tr>\n",
       "      <th>0</th>\n",
       "      <td>GLM0 - Homogeneous Model</td>\n",
       "      <td>1</td>\n",
       "      <td>177328.892835</td>\n",
       "      <td>25.222491</td>\n",
       "      <td>25.276360</td>\n",
       "      <td>0.073475</td>\n",
       "    </tr>\n",
       "    <tr>\n",
       "      <th>1</th>\n",
       "      <td>GLM1 - All Features Considered</td>\n",
       "      <td>49</td>\n",
       "      <td>171290.367542</td>\n",
       "      <td>24.091674</td>\n",
       "      <td>24.203893</td>\n",
       "      <td>0.073718</td>\n",
       "    </tr>\n",
       "    <tr>\n",
       "      <th>2</th>\n",
       "      <td>GLM2 - All Features excl. Area</td>\n",
       "      <td>48</td>\n",
       "      <td>171289.123833</td>\n",
       "      <td>24.091813</td>\n",
       "      <td>24.205293</td>\n",
       "      <td>0.073720</td>\n",
       "    </tr>\n",
       "    <tr>\n",
       "      <th>3</th>\n",
       "      <td>GLM3 - All Features excl. Area and VehBrand</td>\n",
       "      <td>38</td>\n",
       "      <td>171471.069012</td>\n",
       "      <td>24.129039</td>\n",
       "      <td>24.242538</td>\n",
       "      <td>0.073717</td>\n",
       "    </tr>\n",
       "  </tbody>\n",
       "</table>\n",
       "</div>\n",
       "      <button class=\"colab-df-convert\" onclick=\"convertToInteractive('df-540f6ea8-145b-49cb-8026-77afdd8fdeb8')\"\n",
       "              title=\"Convert this dataframe to an interactive table.\"\n",
       "              style=\"display:none;\">\n",
       "        \n",
       "  <svg xmlns=\"http://www.w3.org/2000/svg\" height=\"24px\"viewBox=\"0 0 24 24\"\n",
       "       width=\"24px\">\n",
       "    <path d=\"M0 0h24v24H0V0z\" fill=\"none\"/>\n",
       "    <path d=\"M18.56 5.44l.94 2.06.94-2.06 2.06-.94-2.06-.94-.94-2.06-.94 2.06-2.06.94zm-11 1L8.5 8.5l.94-2.06 2.06-.94-2.06-.94L8.5 2.5l-.94 2.06-2.06.94zm10 10l.94 2.06.94-2.06 2.06-.94-2.06-.94-.94-2.06-.94 2.06-2.06.94z\"/><path d=\"M17.41 7.96l-1.37-1.37c-.4-.4-.92-.59-1.43-.59-.52 0-1.04.2-1.43.59L10.3 9.45l-7.72 7.72c-.78.78-.78 2.05 0 2.83L4 21.41c.39.39.9.59 1.41.59.51 0 1.02-.2 1.41-.59l7.78-7.78 2.81-2.81c.8-.78.8-2.07 0-2.86zM5.41 20L4 18.59l7.72-7.72 1.47 1.35L5.41 20z\"/>\n",
       "  </svg>\n",
       "      </button>\n",
       "      \n",
       "  <style>\n",
       "    .colab-df-container {\n",
       "      display:flex;\n",
       "      flex-wrap:wrap;\n",
       "      gap: 12px;\n",
       "    }\n",
       "\n",
       "    .colab-df-convert {\n",
       "      background-color: #E8F0FE;\n",
       "      border: none;\n",
       "      border-radius: 50%;\n",
       "      cursor: pointer;\n",
       "      display: none;\n",
       "      fill: #1967D2;\n",
       "      height: 32px;\n",
       "      padding: 0 0 0 0;\n",
       "      width: 32px;\n",
       "    }\n",
       "\n",
       "    .colab-df-convert:hover {\n",
       "      background-color: #E2EBFA;\n",
       "      box-shadow: 0px 1px 2px rgba(60, 64, 67, 0.3), 0px 1px 3px 1px rgba(60, 64, 67, 0.15);\n",
       "      fill: #174EA6;\n",
       "    }\n",
       "\n",
       "    [theme=dark] .colab-df-convert {\n",
       "      background-color: #3B4455;\n",
       "      fill: #D2E3FC;\n",
       "    }\n",
       "\n",
       "    [theme=dark] .colab-df-convert:hover {\n",
       "      background-color: #434B5C;\n",
       "      box-shadow: 0px 1px 3px 1px rgba(0, 0, 0, 0.15);\n",
       "      filter: drop-shadow(0px 1px 2px rgba(0, 0, 0, 0.3));\n",
       "      fill: #FFFFFF;\n",
       "    }\n",
       "  </style>\n",
       "\n",
       "      <script>\n",
       "        const buttonEl =\n",
       "          document.querySelector('#df-540f6ea8-145b-49cb-8026-77afdd8fdeb8 button.colab-df-convert');\n",
       "        buttonEl.style.display =\n",
       "          google.colab.kernel.accessAllowed ? 'block' : 'none';\n",
       "\n",
       "        async function convertToInteractive(key) {\n",
       "          const element = document.querySelector('#df-540f6ea8-145b-49cb-8026-77afdd8fdeb8');\n",
       "          const dataTable =\n",
       "            await google.colab.kernel.invokeFunction('convertToInteractive',\n",
       "                                                     [key], {});\n",
       "          if (!dataTable) return;\n",
       "\n",
       "          const docLinkHtml = 'Like what you see? Visit the ' +\n",
       "            '<a target=\"_blank\" href=https://colab.research.google.com/notebooks/data_table.ipynb>data table notebook</a>'\n",
       "            + ' to learn more about interactive tables.';\n",
       "          element.innerHTML = '';\n",
       "          dataTable['output_type'] = 'display_data';\n",
       "          await google.colab.output.renderOutput(dataTable, element);\n",
       "          const docLink = document.createElement('div');\n",
       "          docLink.innerHTML = docLinkHtml;\n",
       "          element.appendChild(docLink);\n",
       "        }\n",
       "      </script>\n",
       "    </div>\n",
       "  </div>\n",
       "  "
      ],
      "text/plain": [
       "                                         Model  ParameterCount            AIC  \\\n",
       "0                     GLM0 - Homogeneous Model               1  177328.892835   \n",
       "1               GLM1 - All Features Considered              49  171290.367542   \n",
       "2               GLM2 - All Features excl. Area              48  171289.123833   \n",
       "3  GLM3 - All Features excl. Area and VehBrand              38  171471.069012   \n",
       "\n",
       "   InSampleLoss  OutSampleLoss  AvgFrequency  \n",
       "0     25.222491      25.276360      0.073475  \n",
       "1     24.091674      24.203893      0.073718  \n",
       "2     24.091813      24.205293      0.073720  \n",
       "3     24.129039      24.242538      0.073717  "
      ]
     },
     "execution_count": 20,
     "metadata": {},
     "output_type": "execute_result"
    }
   ],
   "source": [
    "save_result(glm3,'GLM3 - All Features excl. Area and VehBrand','FittedGLM3')"
   ]
  },
  {
   "cell_type": "code",
   "execution_count": null,
   "metadata": {
    "id": "QGF31tFLtblO",
    "outputId": "b3500902-fe72-41a6-ca49-63308ccb5326",
    "pycharm": {
     "name": "#%%\n"
    }
   },
   "outputs": [
    {
     "name": "stdout",
     "output_type": "stream",
     "text": [
      "Dropping < C(Region, Treatment(reference='R24'))> from the model and recalculate statistics ... \n",
      "\n",
      "Dropping < DensityGLM > from the model and recalculate statistics ... \n",
      "\n",
      "Dropping < VehGas > from the model and recalculate statistics ... \n",
      "\n",
      "Dropping < BonusMalusGLM > from the model and recalculate statistics ... \n",
      "\n",
      "Dropping < C(DrivAgeGLM, Treatment(reference=5)) > from the model and recalculate statistics ... \n",
      "\n",
      "Dropping < C(VehAgeGLM, Treatment(reference=2)) > from the model and recalculate statistics ... \n",
      "\n",
      "Dropping < VehPowerGLM > from the model and recalculate statistics ... \n",
      "\n"
     ]
    },
    {
     "data": {
      "text/html": [
       "<div>\n",
       "<style scoped>\n",
       "    .dataframe tbody tr th:only-of-type {\n",
       "        vertical-align: middle;\n",
       "    }\n",
       "\n",
       "    .dataframe tbody tr th {\n",
       "        vertical-align: top;\n",
       "    }\n",
       "\n",
       "    .dataframe thead th {\n",
       "        text-align: right;\n",
       "    }\n",
       "</style>\n",
       "<table border=\"1\" class=\"dataframe\">\n",
       "  <thead>\n",
       "    <tr style=\"text-align: right;\">\n",
       "      <th></th>\n",
       "      <th>AIC</th>\n",
       "      <th>Deviance</th>\n",
       "      <th>LRT</th>\n",
       "      <th>DoF</th>\n",
       "    </tr>\n",
       "  </thead>\n",
       "  <tbody>\n",
       "    <tr>\n",
       "      <th>C(Region, Treatment(reference='R24'))</th>\n",
       "      <td>171618.242833</td>\n",
       "      <td>131105.832173</td>\n",
       "      <td>209.173821</td>\n",
       "      <td>16.0</td>\n",
       "    </tr>\n",
       "    <tr>\n",
       "      <th>DensityGLM</th>\n",
       "      <td>171715.865509</td>\n",
       "      <td>131203.454849</td>\n",
       "      <td>306.796497</td>\n",
       "      <td>36.0</td>\n",
       "    </tr>\n",
       "    <tr>\n",
       "      <th>VehGas</th>\n",
       "      <td>171569.898988</td>\n",
       "      <td>131057.488328</td>\n",
       "      <td>160.829976</td>\n",
       "      <td>36.0</td>\n",
       "    </tr>\n",
       "    <tr>\n",
       "      <th>BonusMalusGLM</th>\n",
       "      <td>174861.069839</td>\n",
       "      <td>134348.659179</td>\n",
       "      <td>3452.000827</td>\n",
       "      <td>36.0</td>\n",
       "    </tr>\n",
       "    <tr>\n",
       "      <th>C(DrivAgeGLM, Treatment(reference=5))</th>\n",
       "      <td>171865.297640</td>\n",
       "      <td>131352.886980</td>\n",
       "      <td>456.228628</td>\n",
       "      <td>31.0</td>\n",
       "    </tr>\n",
       "    <tr>\n",
       "      <th>C(VehAgeGLM, Treatment(reference=2))</th>\n",
       "      <td>171527.125559</td>\n",
       "      <td>131014.714899</td>\n",
       "      <td>118.056547</td>\n",
       "      <td>35.0</td>\n",
       "    </tr>\n",
       "    <tr>\n",
       "      <th>VehPowerGLM</th>\n",
       "      <td>171509.073243</td>\n",
       "      <td>130996.662583</td>\n",
       "      <td>100.004231</td>\n",
       "      <td>32.0</td>\n",
       "    </tr>\n",
       "  </tbody>\n",
       "</table>\n",
       "</div>"
      ],
      "text/plain": [
       "                                                   AIC       Deviance  \\\n",
       " C(Region, Treatment(reference='R24'))   171618.242833  131105.832173   \n",
       " DensityGLM                              171715.865509  131203.454849   \n",
       " VehGas                                  171569.898988  131057.488328   \n",
       " BonusMalusGLM                           174861.069839  134348.659179   \n",
       " C(DrivAgeGLM, Treatment(reference=5))   171865.297640  131352.886980   \n",
       " C(VehAgeGLM, Treatment(reference=2))    171527.125559  131014.714899   \n",
       " VehPowerGLM                             171509.073243  130996.662583   \n",
       "\n",
       "                                                 LRT   DoF  \n",
       " C(Region, Treatment(reference='R24'))    209.173821  16.0  \n",
       " DensityGLM                               306.796497  36.0  \n",
       " VehGas                                   160.829976  36.0  \n",
       " BonusMalusGLM                           3452.000827  36.0  \n",
       " C(DrivAgeGLM, Treatment(reference=5))    456.228628  31.0  \n",
       " C(VehAgeGLM, Treatment(reference=2))     118.056547  35.0  \n",
       " VehPowerGLM                              100.004231  32.0  "
      ]
     },
     "execution_count": 90,
     "metadata": {},
     "output_type": "execute_result"
    }
   ],
   "source": [
    "df_drop1_glm3 = drop1(formula3, glm3, train)\n",
    "df_drop1_glm3"
   ]
  },
  {
   "cell_type": "markdown",
   "metadata": {
    "id": "02QK8Fhw7X6g"
   },
   "source": [
    "### 5.9 Conclusions\n",
    "\n",
    "We can observe from the table above:\n",
    "- Out of sample loss is always greater than in sample loss, this is expected as we fit data on the train set, if difference is too big, it may means that either the model overfitted to the train set or the test data are rather different.\n",
    "- Consider AIC, which calculates the trade-off between goodness-of-fit v.s. number of parameter used, the model with smallest AIC should be preferred. Although AIC prefer model 2, both in sample and out of sample loss of model 2 are greater than that of model 1.\n",
    "- There is no clear cut of which model is the winner. Think practically, `Area` should have a significant impact to motor claim frequency though."
   ]
  },
  {
   "cell_type": "markdown",
   "metadata": {
    "id": "RvwRj8EQnuNe"
   },
   "source": [
    "### 5.10 Compare Different Models"
   ]
  },
  {
   "cell_type": "markdown",
   "metadata": {
    "id": "35g5xTe3nxkB"
   },
   "source": [
    "The following function uses `plotly` package to graph model predictions by different dimensions."
   ]
  },
  {
   "cell_type": "code",
   "execution_count": null,
   "metadata": {
    "id": "GvQNXgAageHh"
   },
   "outputs": [],
   "source": [
    "def plot_freq_by_models(dimension):\n",
    "  temp = test.groupby(by=[dimension]).agg(\n",
    "      {'ClaimNb':sum,\n",
    "       'Exposure':sum,\n",
    "       'FittedGLM1':sum,\n",
    "       'FittedGLM2':sum,\n",
    "       'FittedGLM3':sum\n",
    "      }\n",
    "  ).reset_index()\n",
    "  temp['TestSetObs'] = temp['ClaimNb'] / temp['Exposure']\n",
    "  temp['GLM1'] = temp['FittedGLM1'] / temp['Exposure']\n",
    "  temp['GLM2'] = temp['FittedGLM2'] / temp['Exposure']\n",
    "  temp['GLM3'] = temp['FittedGLM3'] / temp['Exposure']\n",
    "  temp.drop(['ClaimNb','Exposure','FittedGLM1','FittedGLM2','FittedGLM3'], axis=1, inplace=True)\n",
    "  fig = px.line(temp, x=dimension, y=['TestSetObs','GLM1','GLM2','GLM3'], title='Freq by ' + dimension, markers=True)\n",
    "  fig.update_layout(autosize=False,width= 800, height= 600)\n",
    "  fig.show()"
   ]
  },
  {
   "cell_type": "code",
   "execution_count": null,
   "metadata": {
    "colab": {
     "base_uri": "https://localhost:8080/",
     "height": 638
    },
    "id": "IZEb4kaWggW9",
    "outputId": "03f4d54b-72a9-4f05-f623-3e3b8d572b9b"
   },
   "outputs": [
    {
     "data": {
      "text/html": [
       "<html>\n",
       "<head><meta charset=\"utf-8\" /></head>\n",
       "<body>\n",
       "    <div>            <script src=\"https://cdnjs.cloudflare.com/ajax/libs/mathjax/2.7.5/MathJax.js?config=TeX-AMS-MML_SVG\"></script><script type=\"text/javascript\">if (window.MathJax) {MathJax.Hub.Config({SVG: {font: \"STIX-Web\"}});}</script>                <script type=\"text/javascript\">window.PlotlyConfig = {MathJaxConfig: 'local'};</script>\n",
       "        <script src=\"https://cdn.plot.ly/plotly-2.8.3.min.js\"></script>                <div id=\"9a2e3f75-3532-4ae7-a913-51efd0b8b398\" class=\"plotly-graph-div\" style=\"height:600px; width:800px;\"></div>            <script type=\"text/javascript\">                                    window.PLOTLYENV=window.PLOTLYENV || {};                                    if (document.getElementById(\"9a2e3f75-3532-4ae7-a913-51efd0b8b398\")) {                    Plotly.newPlot(                        \"9a2e3f75-3532-4ae7-a913-51efd0b8b398\",                        [{\"hovertemplate\":\"variable=TestSetObs<br>Area=%{x}<br>value=%{y}<extra></extra>\",\"legendgroup\":\"TestSetObs\",\"line\":{\"color\":\"#636efa\",\"dash\":\"solid\"},\"marker\":{\"symbol\":\"circle\"},\"mode\":\"lines+markers\",\"name\":\"TestSetObs\",\"orientation\":\"v\",\"showlegend\":true,\"x\":[\"A\",\"B\",\"C\",\"D\",\"E\",\"F\"],\"xaxis\":\"x\",\"y\":[0.05340574990375929,0.06147122959236422,0.06868587255477045,0.08375097011824546,0.09751275055853366,0.09460025599567672],\"yaxis\":\"y\",\"type\":\"scatter\"},{\"hovertemplate\":\"variable=GLM1<br>Area=%{x}<br>value=%{y}<extra></extra>\",\"legendgroup\":\"GLM1\",\"line\":{\"color\":\"#EF553B\",\"dash\":\"solid\"},\"marker\":{\"symbol\":\"circle\"},\"mode\":\"lines+markers\",\"name\":\"GLM1\",\"orientation\":\"v\",\"showlegend\":true,\"x\":[\"A\",\"B\",\"C\",\"D\",\"E\",\"F\"],\"xaxis\":\"x\",\"y\":[0.05452470809693918,0.06103059359202715,0.06877193303429,0.08216785989033441,0.09538526798006768,0.09871167513876977],\"yaxis\":\"y\",\"type\":\"scatter\"},{\"hovertemplate\":\"variable=GLM2<br>Area=%{x}<br>value=%{y}<extra></extra>\",\"legendgroup\":\"GLM2\",\"line\":{\"color\":\"#00cc96\",\"dash\":\"solid\"},\"marker\":{\"symbol\":\"circle\"},\"mode\":\"lines+markers\",\"name\":\"GLM2\",\"orientation\":\"v\",\"showlegend\":true,\"x\":[\"A\",\"B\",\"C\",\"D\",\"E\",\"F\"],\"xaxis\":\"x\",\"y\":[0.05482189718770232,0.061105334115350976,0.06864394507421397,0.08211961894457272,0.09531321765351168,0.09879745800822326],\"yaxis\":\"y\",\"type\":\"scatter\"},{\"hovertemplate\":\"variable=GLM3<br>Area=%{x}<br>value=%{y}<extra></extra>\",\"legendgroup\":\"GLM3\",\"line\":{\"color\":\"#ab63fa\",\"dash\":\"solid\"},\"marker\":{\"symbol\":\"circle\"},\"mode\":\"lines+markers\",\"name\":\"GLM3\",\"orientation\":\"v\",\"showlegend\":true,\"x\":[\"A\",\"B\",\"C\",\"D\",\"E\",\"F\"],\"xaxis\":\"x\",\"y\":[0.05494802919394195,0.06115344720445609,0.06851024486372914,0.08208342010493988,0.09536083029313557,0.09914182597244514],\"yaxis\":\"y\",\"type\":\"scatter\"}],                        {\"template\":{\"data\":{\"bar\":[{\"error_x\":{\"color\":\"#2a3f5f\"},\"error_y\":{\"color\":\"#2a3f5f\"},\"marker\":{\"line\":{\"color\":\"#E5ECF6\",\"width\":0.5},\"pattern\":{\"fillmode\":\"overlay\",\"size\":10,\"solidity\":0.2}},\"type\":\"bar\"}],\"barpolar\":[{\"marker\":{\"line\":{\"color\":\"#E5ECF6\",\"width\":0.5},\"pattern\":{\"fillmode\":\"overlay\",\"size\":10,\"solidity\":0.2}},\"type\":\"barpolar\"}],\"carpet\":[{\"aaxis\":{\"endlinecolor\":\"#2a3f5f\",\"gridcolor\":\"white\",\"linecolor\":\"white\",\"minorgridcolor\":\"white\",\"startlinecolor\":\"#2a3f5f\"},\"baxis\":{\"endlinecolor\":\"#2a3f5f\",\"gridcolor\":\"white\",\"linecolor\":\"white\",\"minorgridcolor\":\"white\",\"startlinecolor\":\"#2a3f5f\"},\"type\":\"carpet\"}],\"choropleth\":[{\"colorbar\":{\"outlinewidth\":0,\"ticks\":\"\"},\"type\":\"choropleth\"}],\"contour\":[{\"colorbar\":{\"outlinewidth\":0,\"ticks\":\"\"},\"colorscale\":[[0.0,\"#0d0887\"],[0.1111111111111111,\"#46039f\"],[0.2222222222222222,\"#7201a8\"],[0.3333333333333333,\"#9c179e\"],[0.4444444444444444,\"#bd3786\"],[0.5555555555555556,\"#d8576b\"],[0.6666666666666666,\"#ed7953\"],[0.7777777777777778,\"#fb9f3a\"],[0.8888888888888888,\"#fdca26\"],[1.0,\"#f0f921\"]],\"type\":\"contour\"}],\"contourcarpet\":[{\"colorbar\":{\"outlinewidth\":0,\"ticks\":\"\"},\"type\":\"contourcarpet\"}],\"heatmap\":[{\"colorbar\":{\"outlinewidth\":0,\"ticks\":\"\"},\"colorscale\":[[0.0,\"#0d0887\"],[0.1111111111111111,\"#46039f\"],[0.2222222222222222,\"#7201a8\"],[0.3333333333333333,\"#9c179e\"],[0.4444444444444444,\"#bd3786\"],[0.5555555555555556,\"#d8576b\"],[0.6666666666666666,\"#ed7953\"],[0.7777777777777778,\"#fb9f3a\"],[0.8888888888888888,\"#fdca26\"],[1.0,\"#f0f921\"]],\"type\":\"heatmap\"}],\"heatmapgl\":[{\"colorbar\":{\"outlinewidth\":0,\"ticks\":\"\"},\"colorscale\":[[0.0,\"#0d0887\"],[0.1111111111111111,\"#46039f\"],[0.2222222222222222,\"#7201a8\"],[0.3333333333333333,\"#9c179e\"],[0.4444444444444444,\"#bd3786\"],[0.5555555555555556,\"#d8576b\"],[0.6666666666666666,\"#ed7953\"],[0.7777777777777778,\"#fb9f3a\"],[0.8888888888888888,\"#fdca26\"],[1.0,\"#f0f921\"]],\"type\":\"heatmapgl\"}],\"histogram\":[{\"marker\":{\"pattern\":{\"fillmode\":\"overlay\",\"size\":10,\"solidity\":0.2}},\"type\":\"histogram\"}],\"histogram2d\":[{\"colorbar\":{\"outlinewidth\":0,\"ticks\":\"\"},\"colorscale\":[[0.0,\"#0d0887\"],[0.1111111111111111,\"#46039f\"],[0.2222222222222222,\"#7201a8\"],[0.3333333333333333,\"#9c179e\"],[0.4444444444444444,\"#bd3786\"],[0.5555555555555556,\"#d8576b\"],[0.6666666666666666,\"#ed7953\"],[0.7777777777777778,\"#fb9f3a\"],[0.8888888888888888,\"#fdca26\"],[1.0,\"#f0f921\"]],\"type\":\"histogram2d\"}],\"histogram2dcontour\":[{\"colorbar\":{\"outlinewidth\":0,\"ticks\":\"\"},\"colorscale\":[[0.0,\"#0d0887\"],[0.1111111111111111,\"#46039f\"],[0.2222222222222222,\"#7201a8\"],[0.3333333333333333,\"#9c179e\"],[0.4444444444444444,\"#bd3786\"],[0.5555555555555556,\"#d8576b\"],[0.6666666666666666,\"#ed7953\"],[0.7777777777777778,\"#fb9f3a\"],[0.8888888888888888,\"#fdca26\"],[1.0,\"#f0f921\"]],\"type\":\"histogram2dcontour\"}],\"mesh3d\":[{\"colorbar\":{\"outlinewidth\":0,\"ticks\":\"\"},\"type\":\"mesh3d\"}],\"parcoords\":[{\"line\":{\"colorbar\":{\"outlinewidth\":0,\"ticks\":\"\"}},\"type\":\"parcoords\"}],\"pie\":[{\"automargin\":true,\"type\":\"pie\"}],\"scatter\":[{\"marker\":{\"colorbar\":{\"outlinewidth\":0,\"ticks\":\"\"}},\"type\":\"scatter\"}],\"scatter3d\":[{\"line\":{\"colorbar\":{\"outlinewidth\":0,\"ticks\":\"\"}},\"marker\":{\"colorbar\":{\"outlinewidth\":0,\"ticks\":\"\"}},\"type\":\"scatter3d\"}],\"scattercarpet\":[{\"marker\":{\"colorbar\":{\"outlinewidth\":0,\"ticks\":\"\"}},\"type\":\"scattercarpet\"}],\"scattergeo\":[{\"marker\":{\"colorbar\":{\"outlinewidth\":0,\"ticks\":\"\"}},\"type\":\"scattergeo\"}],\"scattergl\":[{\"marker\":{\"colorbar\":{\"outlinewidth\":0,\"ticks\":\"\"}},\"type\":\"scattergl\"}],\"scattermapbox\":[{\"marker\":{\"colorbar\":{\"outlinewidth\":0,\"ticks\":\"\"}},\"type\":\"scattermapbox\"}],\"scatterpolar\":[{\"marker\":{\"colorbar\":{\"outlinewidth\":0,\"ticks\":\"\"}},\"type\":\"scatterpolar\"}],\"scatterpolargl\":[{\"marker\":{\"colorbar\":{\"outlinewidth\":0,\"ticks\":\"\"}},\"type\":\"scatterpolargl\"}],\"scatterternary\":[{\"marker\":{\"colorbar\":{\"outlinewidth\":0,\"ticks\":\"\"}},\"type\":\"scatterternary\"}],\"surface\":[{\"colorbar\":{\"outlinewidth\":0,\"ticks\":\"\"},\"colorscale\":[[0.0,\"#0d0887\"],[0.1111111111111111,\"#46039f\"],[0.2222222222222222,\"#7201a8\"],[0.3333333333333333,\"#9c179e\"],[0.4444444444444444,\"#bd3786\"],[0.5555555555555556,\"#d8576b\"],[0.6666666666666666,\"#ed7953\"],[0.7777777777777778,\"#fb9f3a\"],[0.8888888888888888,\"#fdca26\"],[1.0,\"#f0f921\"]],\"type\":\"surface\"}],\"table\":[{\"cells\":{\"fill\":{\"color\":\"#EBF0F8\"},\"line\":{\"color\":\"white\"}},\"header\":{\"fill\":{\"color\":\"#C8D4E3\"},\"line\":{\"color\":\"white\"}},\"type\":\"table\"}]},\"layout\":{\"annotationdefaults\":{\"arrowcolor\":\"#2a3f5f\",\"arrowhead\":0,\"arrowwidth\":1},\"autotypenumbers\":\"strict\",\"coloraxis\":{\"colorbar\":{\"outlinewidth\":0,\"ticks\":\"\"}},\"colorscale\":{\"diverging\":[[0,\"#8e0152\"],[0.1,\"#c51b7d\"],[0.2,\"#de77ae\"],[0.3,\"#f1b6da\"],[0.4,\"#fde0ef\"],[0.5,\"#f7f7f7\"],[0.6,\"#e6f5d0\"],[0.7,\"#b8e186\"],[0.8,\"#7fbc41\"],[0.9,\"#4d9221\"],[1,\"#276419\"]],\"sequential\":[[0.0,\"#0d0887\"],[0.1111111111111111,\"#46039f\"],[0.2222222222222222,\"#7201a8\"],[0.3333333333333333,\"#9c179e\"],[0.4444444444444444,\"#bd3786\"],[0.5555555555555556,\"#d8576b\"],[0.6666666666666666,\"#ed7953\"],[0.7777777777777778,\"#fb9f3a\"],[0.8888888888888888,\"#fdca26\"],[1.0,\"#f0f921\"]],\"sequentialminus\":[[0.0,\"#0d0887\"],[0.1111111111111111,\"#46039f\"],[0.2222222222222222,\"#7201a8\"],[0.3333333333333333,\"#9c179e\"],[0.4444444444444444,\"#bd3786\"],[0.5555555555555556,\"#d8576b\"],[0.6666666666666666,\"#ed7953\"],[0.7777777777777778,\"#fb9f3a\"],[0.8888888888888888,\"#fdca26\"],[1.0,\"#f0f921\"]]},\"colorway\":[\"#636efa\",\"#EF553B\",\"#00cc96\",\"#ab63fa\",\"#FFA15A\",\"#19d3f3\",\"#FF6692\",\"#B6E880\",\"#FF97FF\",\"#FECB52\"],\"font\":{\"color\":\"#2a3f5f\"},\"geo\":{\"bgcolor\":\"white\",\"lakecolor\":\"white\",\"landcolor\":\"#E5ECF6\",\"showlakes\":true,\"showland\":true,\"subunitcolor\":\"white\"},\"hoverlabel\":{\"align\":\"left\"},\"hovermode\":\"closest\",\"mapbox\":{\"style\":\"light\"},\"paper_bgcolor\":\"white\",\"plot_bgcolor\":\"#E5ECF6\",\"polar\":{\"angularaxis\":{\"gridcolor\":\"white\",\"linecolor\":\"white\",\"ticks\":\"\"},\"bgcolor\":\"#E5ECF6\",\"radialaxis\":{\"gridcolor\":\"white\",\"linecolor\":\"white\",\"ticks\":\"\"}},\"scene\":{\"xaxis\":{\"backgroundcolor\":\"#E5ECF6\",\"gridcolor\":\"white\",\"gridwidth\":2,\"linecolor\":\"white\",\"showbackground\":true,\"ticks\":\"\",\"zerolinecolor\":\"white\"},\"yaxis\":{\"backgroundcolor\":\"#E5ECF6\",\"gridcolor\":\"white\",\"gridwidth\":2,\"linecolor\":\"white\",\"showbackground\":true,\"ticks\":\"\",\"zerolinecolor\":\"white\"},\"zaxis\":{\"backgroundcolor\":\"#E5ECF6\",\"gridcolor\":\"white\",\"gridwidth\":2,\"linecolor\":\"white\",\"showbackground\":true,\"ticks\":\"\",\"zerolinecolor\":\"white\"}},\"shapedefaults\":{\"line\":{\"color\":\"#2a3f5f\"}},\"ternary\":{\"aaxis\":{\"gridcolor\":\"white\",\"linecolor\":\"white\",\"ticks\":\"\"},\"baxis\":{\"gridcolor\":\"white\",\"linecolor\":\"white\",\"ticks\":\"\"},\"bgcolor\":\"#E5ECF6\",\"caxis\":{\"gridcolor\":\"white\",\"linecolor\":\"white\",\"ticks\":\"\"}},\"title\":{\"x\":0.05},\"xaxis\":{\"automargin\":true,\"gridcolor\":\"white\",\"linecolor\":\"white\",\"ticks\":\"\",\"title\":{\"standoff\":15},\"zerolinecolor\":\"white\",\"zerolinewidth\":2},\"yaxis\":{\"automargin\":true,\"gridcolor\":\"white\",\"linecolor\":\"white\",\"ticks\":\"\",\"title\":{\"standoff\":15},\"zerolinecolor\":\"white\",\"zerolinewidth\":2}}},\"xaxis\":{\"anchor\":\"y\",\"domain\":[0.0,1.0],\"title\":{\"text\":\"Area\"}},\"yaxis\":{\"anchor\":\"x\",\"domain\":[0.0,1.0],\"title\":{\"text\":\"value\"}},\"legend\":{\"title\":{\"text\":\"variable\"},\"tracegroupgap\":0},\"title\":{\"text\":\"Freq by Area\"},\"autosize\":false,\"width\":800,\"height\":600},                        {\"responsive\": true}                    ).then(function(){\n",
       "                            \n",
       "var gd = document.getElementById('9a2e3f75-3532-4ae7-a913-51efd0b8b398');\n",
       "var x = new MutationObserver(function (mutations, observer) {{\n",
       "        var display = window.getComputedStyle(gd).display;\n",
       "        if (!display || display === 'none') {{\n",
       "            console.log([gd, 'removed!']);\n",
       "            Plotly.purge(gd);\n",
       "            observer.disconnect();\n",
       "        }}\n",
       "}});\n",
       "\n",
       "// Listen for the removal of the full notebook cells\n",
       "var notebookContainer = gd.closest('#notebook-container');\n",
       "if (notebookContainer) {{\n",
       "    x.observe(notebookContainer, {childList: true});\n",
       "}}\n",
       "\n",
       "// Listen for the clearing of the current output cell\n",
       "var outputEl = gd.closest('.output');\n",
       "if (outputEl) {{\n",
       "    x.observe(outputEl, {childList: true});\n",
       "}}\n",
       "\n",
       "                        })                };                            </script>        </div>\n",
       "</body>\n",
       "</html>"
      ]
     },
     "metadata": {},
     "output_type": "display_data"
    }
   ],
   "source": [
    "plot_freq_by_models('Area')"
   ]
  },
  {
   "cell_type": "code",
   "execution_count": null,
   "metadata": {
    "colab": {
     "base_uri": "https://localhost:8080/",
     "height": 638
    },
    "id": "9oE2NAa2hmZG",
    "outputId": "b17611d3-342f-49ab-b5b5-fea8f87e15e7"
   },
   "outputs": [
    {
     "data": {
      "text/html": [
       "<html>\n",
       "<head><meta charset=\"utf-8\" /></head>\n",
       "<body>\n",
       "    <div>            <script src=\"https://cdnjs.cloudflare.com/ajax/libs/mathjax/2.7.5/MathJax.js?config=TeX-AMS-MML_SVG\"></script><script type=\"text/javascript\">if (window.MathJax) {MathJax.Hub.Config({SVG: {font: \"STIX-Web\"}});}</script>                <script type=\"text/javascript\">window.PlotlyConfig = {MathJaxConfig: 'local'};</script>\n",
       "        <script src=\"https://cdn.plot.ly/plotly-2.8.3.min.js\"></script>                <div id=\"b819de33-af21-4752-8f06-60a9802de5d3\" class=\"plotly-graph-div\" style=\"height:600px; width:800px;\"></div>            <script type=\"text/javascript\">                                    window.PLOTLYENV=window.PLOTLYENV || {};                                    if (document.getElementById(\"b819de33-af21-4752-8f06-60a9802de5d3\")) {                    Plotly.newPlot(                        \"b819de33-af21-4752-8f06-60a9802de5d3\",                        [{\"hovertemplate\":\"variable=TestSetObs<br>VehPower=%{x}<br>value=%{y}<extra></extra>\",\"legendgroup\":\"TestSetObs\",\"line\":{\"color\":\"#636efa\",\"dash\":\"solid\"},\"marker\":{\"symbol\":\"circle\"},\"mode\":\"lines+markers\",\"name\":\"TestSetObs\",\"orientation\":\"v\",\"showlegend\":true,\"x\":[4,5,6,7,8,9,10,11,12,13,14,15],\"xaxis\":\"x\",\"y\":[0.07065020365086438,0.0750486454424093,0.07505538305196525,0.07104015700735083,0.07206299090470208,0.08275371510822127,0.07474814086506115,0.0875489876447892,0.08429531009335983,0.12378982249682464,0.061301311139618626,0.08056349612119487],\"yaxis\":\"y\",\"type\":\"scatter\"},{\"hovertemplate\":\"variable=GLM1<br>VehPower=%{x}<br>value=%{y}<extra></extra>\",\"legendgroup\":\"GLM1\",\"line\":{\"color\":\"#EF553B\",\"dash\":\"solid\"},\"marker\":{\"symbol\":\"circle\"},\"mode\":\"lines+markers\",\"name\":\"GLM1\",\"orientation\":\"v\",\"showlegend\":true,\"x\":[4,5,6,7,8,9,10,11,12,13,14,15],\"xaxis\":\"x\",\"y\":[0.06499402947570791,0.07496030709798117,0.07675509052854969,0.07241117291316167,0.07218278014026466,0.08078697680456383,0.08144856064651687,0.07777550739669199,0.0791408821898048,0.08608108488758409,0.08576721708148836,0.07261826572713309],\"yaxis\":\"y\",\"type\":\"scatter\"},{\"hovertemplate\":\"variable=GLM2<br>VehPower=%{x}<br>value=%{y}<extra></extra>\",\"legendgroup\":\"GLM2\",\"line\":{\"color\":\"#00cc96\",\"dash\":\"solid\"},\"marker\":{\"symbol\":\"circle\"},\"mode\":\"lines+markers\",\"name\":\"GLM2\",\"orientation\":\"v\",\"showlegend\":true,\"x\":[4,5,6,7,8,9,10,11,12,13,14,15],\"xaxis\":\"x\",\"y\":[0.06499282280444534,0.07496574168827673,0.07676192640494967,0.0724127756167972,0.07216595777814856,0.08078552249896495,0.08144298696486212,0.07778589079020874,0.07912701450898343,0.08609940647987001,0.08575868340014514,0.072586402116559],\"yaxis\":\"y\",\"type\":\"scatter\"},{\"hovertemplate\":\"variable=GLM3<br>VehPower=%{x}<br>value=%{y}<extra></extra>\",\"legendgroup\":\"GLM3\",\"line\":{\"color\":\"#ab63fa\",\"dash\":\"solid\"},\"marker\":{\"symbol\":\"circle\"},\"mode\":\"lines+markers\",\"name\":\"GLM3\",\"orientation\":\"v\",\"showlegend\":true,\"x\":[4,5,6,7,8,9,10,11,12,13,14,15],\"xaxis\":\"x\",\"y\":[0.06491305393227216,0.07502921123992073,0.0767608223603986,0.07236917320238122,0.07210746388271828,0.07957510690501095,0.08328685459653062,0.07811971146173809,0.08118968294590792,0.07722952575825778,0.08046035903355936,0.07545891374073065],\"yaxis\":\"y\",\"type\":\"scatter\"}],                        {\"template\":{\"data\":{\"bar\":[{\"error_x\":{\"color\":\"#2a3f5f\"},\"error_y\":{\"color\":\"#2a3f5f\"},\"marker\":{\"line\":{\"color\":\"#E5ECF6\",\"width\":0.5},\"pattern\":{\"fillmode\":\"overlay\",\"size\":10,\"solidity\":0.2}},\"type\":\"bar\"}],\"barpolar\":[{\"marker\":{\"line\":{\"color\":\"#E5ECF6\",\"width\":0.5},\"pattern\":{\"fillmode\":\"overlay\",\"size\":10,\"solidity\":0.2}},\"type\":\"barpolar\"}],\"carpet\":[{\"aaxis\":{\"endlinecolor\":\"#2a3f5f\",\"gridcolor\":\"white\",\"linecolor\":\"white\",\"minorgridcolor\":\"white\",\"startlinecolor\":\"#2a3f5f\"},\"baxis\":{\"endlinecolor\":\"#2a3f5f\",\"gridcolor\":\"white\",\"linecolor\":\"white\",\"minorgridcolor\":\"white\",\"startlinecolor\":\"#2a3f5f\"},\"type\":\"carpet\"}],\"choropleth\":[{\"colorbar\":{\"outlinewidth\":0,\"ticks\":\"\"},\"type\":\"choropleth\"}],\"contour\":[{\"colorbar\":{\"outlinewidth\":0,\"ticks\":\"\"},\"colorscale\":[[0.0,\"#0d0887\"],[0.1111111111111111,\"#46039f\"],[0.2222222222222222,\"#7201a8\"],[0.3333333333333333,\"#9c179e\"],[0.4444444444444444,\"#bd3786\"],[0.5555555555555556,\"#d8576b\"],[0.6666666666666666,\"#ed7953\"],[0.7777777777777778,\"#fb9f3a\"],[0.8888888888888888,\"#fdca26\"],[1.0,\"#f0f921\"]],\"type\":\"contour\"}],\"contourcarpet\":[{\"colorbar\":{\"outlinewidth\":0,\"ticks\":\"\"},\"type\":\"contourcarpet\"}],\"heatmap\":[{\"colorbar\":{\"outlinewidth\":0,\"ticks\":\"\"},\"colorscale\":[[0.0,\"#0d0887\"],[0.1111111111111111,\"#46039f\"],[0.2222222222222222,\"#7201a8\"],[0.3333333333333333,\"#9c179e\"],[0.4444444444444444,\"#bd3786\"],[0.5555555555555556,\"#d8576b\"],[0.6666666666666666,\"#ed7953\"],[0.7777777777777778,\"#fb9f3a\"],[0.8888888888888888,\"#fdca26\"],[1.0,\"#f0f921\"]],\"type\":\"heatmap\"}],\"heatmapgl\":[{\"colorbar\":{\"outlinewidth\":0,\"ticks\":\"\"},\"colorscale\":[[0.0,\"#0d0887\"],[0.1111111111111111,\"#46039f\"],[0.2222222222222222,\"#7201a8\"],[0.3333333333333333,\"#9c179e\"],[0.4444444444444444,\"#bd3786\"],[0.5555555555555556,\"#d8576b\"],[0.6666666666666666,\"#ed7953\"],[0.7777777777777778,\"#fb9f3a\"],[0.8888888888888888,\"#fdca26\"],[1.0,\"#f0f921\"]],\"type\":\"heatmapgl\"}],\"histogram\":[{\"marker\":{\"pattern\":{\"fillmode\":\"overlay\",\"size\":10,\"solidity\":0.2}},\"type\":\"histogram\"}],\"histogram2d\":[{\"colorbar\":{\"outlinewidth\":0,\"ticks\":\"\"},\"colorscale\":[[0.0,\"#0d0887\"],[0.1111111111111111,\"#46039f\"],[0.2222222222222222,\"#7201a8\"],[0.3333333333333333,\"#9c179e\"],[0.4444444444444444,\"#bd3786\"],[0.5555555555555556,\"#d8576b\"],[0.6666666666666666,\"#ed7953\"],[0.7777777777777778,\"#fb9f3a\"],[0.8888888888888888,\"#fdca26\"],[1.0,\"#f0f921\"]],\"type\":\"histogram2d\"}],\"histogram2dcontour\":[{\"colorbar\":{\"outlinewidth\":0,\"ticks\":\"\"},\"colorscale\":[[0.0,\"#0d0887\"],[0.1111111111111111,\"#46039f\"],[0.2222222222222222,\"#7201a8\"],[0.3333333333333333,\"#9c179e\"],[0.4444444444444444,\"#bd3786\"],[0.5555555555555556,\"#d8576b\"],[0.6666666666666666,\"#ed7953\"],[0.7777777777777778,\"#fb9f3a\"],[0.8888888888888888,\"#fdca26\"],[1.0,\"#f0f921\"]],\"type\":\"histogram2dcontour\"}],\"mesh3d\":[{\"colorbar\":{\"outlinewidth\":0,\"ticks\":\"\"},\"type\":\"mesh3d\"}],\"parcoords\":[{\"line\":{\"colorbar\":{\"outlinewidth\":0,\"ticks\":\"\"}},\"type\":\"parcoords\"}],\"pie\":[{\"automargin\":true,\"type\":\"pie\"}],\"scatter\":[{\"marker\":{\"colorbar\":{\"outlinewidth\":0,\"ticks\":\"\"}},\"type\":\"scatter\"}],\"scatter3d\":[{\"line\":{\"colorbar\":{\"outlinewidth\":0,\"ticks\":\"\"}},\"marker\":{\"colorbar\":{\"outlinewidth\":0,\"ticks\":\"\"}},\"type\":\"scatter3d\"}],\"scattercarpet\":[{\"marker\":{\"colorbar\":{\"outlinewidth\":0,\"ticks\":\"\"}},\"type\":\"scattercarpet\"}],\"scattergeo\":[{\"marker\":{\"colorbar\":{\"outlinewidth\":0,\"ticks\":\"\"}},\"type\":\"scattergeo\"}],\"scattergl\":[{\"marker\":{\"colorbar\":{\"outlinewidth\":0,\"ticks\":\"\"}},\"type\":\"scattergl\"}],\"scattermapbox\":[{\"marker\":{\"colorbar\":{\"outlinewidth\":0,\"ticks\":\"\"}},\"type\":\"scattermapbox\"}],\"scatterpolar\":[{\"marker\":{\"colorbar\":{\"outlinewidth\":0,\"ticks\":\"\"}},\"type\":\"scatterpolar\"}],\"scatterpolargl\":[{\"marker\":{\"colorbar\":{\"outlinewidth\":0,\"ticks\":\"\"}},\"type\":\"scatterpolargl\"}],\"scatterternary\":[{\"marker\":{\"colorbar\":{\"outlinewidth\":0,\"ticks\":\"\"}},\"type\":\"scatterternary\"}],\"surface\":[{\"colorbar\":{\"outlinewidth\":0,\"ticks\":\"\"},\"colorscale\":[[0.0,\"#0d0887\"],[0.1111111111111111,\"#46039f\"],[0.2222222222222222,\"#7201a8\"],[0.3333333333333333,\"#9c179e\"],[0.4444444444444444,\"#bd3786\"],[0.5555555555555556,\"#d8576b\"],[0.6666666666666666,\"#ed7953\"],[0.7777777777777778,\"#fb9f3a\"],[0.8888888888888888,\"#fdca26\"],[1.0,\"#f0f921\"]],\"type\":\"surface\"}],\"table\":[{\"cells\":{\"fill\":{\"color\":\"#EBF0F8\"},\"line\":{\"color\":\"white\"}},\"header\":{\"fill\":{\"color\":\"#C8D4E3\"},\"line\":{\"color\":\"white\"}},\"type\":\"table\"}]},\"layout\":{\"annotationdefaults\":{\"arrowcolor\":\"#2a3f5f\",\"arrowhead\":0,\"arrowwidth\":1},\"autotypenumbers\":\"strict\",\"coloraxis\":{\"colorbar\":{\"outlinewidth\":0,\"ticks\":\"\"}},\"colorscale\":{\"diverging\":[[0,\"#8e0152\"],[0.1,\"#c51b7d\"],[0.2,\"#de77ae\"],[0.3,\"#f1b6da\"],[0.4,\"#fde0ef\"],[0.5,\"#f7f7f7\"],[0.6,\"#e6f5d0\"],[0.7,\"#b8e186\"],[0.8,\"#7fbc41\"],[0.9,\"#4d9221\"],[1,\"#276419\"]],\"sequential\":[[0.0,\"#0d0887\"],[0.1111111111111111,\"#46039f\"],[0.2222222222222222,\"#7201a8\"],[0.3333333333333333,\"#9c179e\"],[0.4444444444444444,\"#bd3786\"],[0.5555555555555556,\"#d8576b\"],[0.6666666666666666,\"#ed7953\"],[0.7777777777777778,\"#fb9f3a\"],[0.8888888888888888,\"#fdca26\"],[1.0,\"#f0f921\"]],\"sequentialminus\":[[0.0,\"#0d0887\"],[0.1111111111111111,\"#46039f\"],[0.2222222222222222,\"#7201a8\"],[0.3333333333333333,\"#9c179e\"],[0.4444444444444444,\"#bd3786\"],[0.5555555555555556,\"#d8576b\"],[0.6666666666666666,\"#ed7953\"],[0.7777777777777778,\"#fb9f3a\"],[0.8888888888888888,\"#fdca26\"],[1.0,\"#f0f921\"]]},\"colorway\":[\"#636efa\",\"#EF553B\",\"#00cc96\",\"#ab63fa\",\"#FFA15A\",\"#19d3f3\",\"#FF6692\",\"#B6E880\",\"#FF97FF\",\"#FECB52\"],\"font\":{\"color\":\"#2a3f5f\"},\"geo\":{\"bgcolor\":\"white\",\"lakecolor\":\"white\",\"landcolor\":\"#E5ECF6\",\"showlakes\":true,\"showland\":true,\"subunitcolor\":\"white\"},\"hoverlabel\":{\"align\":\"left\"},\"hovermode\":\"closest\",\"mapbox\":{\"style\":\"light\"},\"paper_bgcolor\":\"white\",\"plot_bgcolor\":\"#E5ECF6\",\"polar\":{\"angularaxis\":{\"gridcolor\":\"white\",\"linecolor\":\"white\",\"ticks\":\"\"},\"bgcolor\":\"#E5ECF6\",\"radialaxis\":{\"gridcolor\":\"white\",\"linecolor\":\"white\",\"ticks\":\"\"}},\"scene\":{\"xaxis\":{\"backgroundcolor\":\"#E5ECF6\",\"gridcolor\":\"white\",\"gridwidth\":2,\"linecolor\":\"white\",\"showbackground\":true,\"ticks\":\"\",\"zerolinecolor\":\"white\"},\"yaxis\":{\"backgroundcolor\":\"#E5ECF6\",\"gridcolor\":\"white\",\"gridwidth\":2,\"linecolor\":\"white\",\"showbackground\":true,\"ticks\":\"\",\"zerolinecolor\":\"white\"},\"zaxis\":{\"backgroundcolor\":\"#E5ECF6\",\"gridcolor\":\"white\",\"gridwidth\":2,\"linecolor\":\"white\",\"showbackground\":true,\"ticks\":\"\",\"zerolinecolor\":\"white\"}},\"shapedefaults\":{\"line\":{\"color\":\"#2a3f5f\"}},\"ternary\":{\"aaxis\":{\"gridcolor\":\"white\",\"linecolor\":\"white\",\"ticks\":\"\"},\"baxis\":{\"gridcolor\":\"white\",\"linecolor\":\"white\",\"ticks\":\"\"},\"bgcolor\":\"#E5ECF6\",\"caxis\":{\"gridcolor\":\"white\",\"linecolor\":\"white\",\"ticks\":\"\"}},\"title\":{\"x\":0.05},\"xaxis\":{\"automargin\":true,\"gridcolor\":\"white\",\"linecolor\":\"white\",\"ticks\":\"\",\"title\":{\"standoff\":15},\"zerolinecolor\":\"white\",\"zerolinewidth\":2},\"yaxis\":{\"automargin\":true,\"gridcolor\":\"white\",\"linecolor\":\"white\",\"ticks\":\"\",\"title\":{\"standoff\":15},\"zerolinecolor\":\"white\",\"zerolinewidth\":2}}},\"xaxis\":{\"anchor\":\"y\",\"domain\":[0.0,1.0],\"title\":{\"text\":\"VehPower\"}},\"yaxis\":{\"anchor\":\"x\",\"domain\":[0.0,1.0],\"title\":{\"text\":\"value\"}},\"legend\":{\"title\":{\"text\":\"variable\"},\"tracegroupgap\":0},\"title\":{\"text\":\"Freq by VehPower\"},\"autosize\":false,\"width\":800,\"height\":600},                        {\"responsive\": true}                    ).then(function(){\n",
       "                            \n",
       "var gd = document.getElementById('b819de33-af21-4752-8f06-60a9802de5d3');\n",
       "var x = new MutationObserver(function (mutations, observer) {{\n",
       "        var display = window.getComputedStyle(gd).display;\n",
       "        if (!display || display === 'none') {{\n",
       "            console.log([gd, 'removed!']);\n",
       "            Plotly.purge(gd);\n",
       "            observer.disconnect();\n",
       "        }}\n",
       "}});\n",
       "\n",
       "// Listen for the removal of the full notebook cells\n",
       "var notebookContainer = gd.closest('#notebook-container');\n",
       "if (notebookContainer) {{\n",
       "    x.observe(notebookContainer, {childList: true});\n",
       "}}\n",
       "\n",
       "// Listen for the clearing of the current output cell\n",
       "var outputEl = gd.closest('.output');\n",
       "if (outputEl) {{\n",
       "    x.observe(outputEl, {childList: true});\n",
       "}}\n",
       "\n",
       "                        })                };                            </script>        </div>\n",
       "</body>\n",
       "</html>"
      ]
     },
     "metadata": {},
     "output_type": "display_data"
    }
   ],
   "source": [
    "plot_freq_by_models('VehPower')"
   ]
  },
  {
   "cell_type": "code",
   "execution_count": null,
   "metadata": {
    "colab": {
     "base_uri": "https://localhost:8080/",
     "height": 638
    },
    "id": "pggbpumlltoz",
    "outputId": "c88d8547-10b4-46c6-f6f7-8555aa4ced61"
   },
   "outputs": [
    {
     "data": {
      "text/html": [
       "<html>\n",
       "<head><meta charset=\"utf-8\" /></head>\n",
       "<body>\n",
       "    <div>            <script src=\"https://cdnjs.cloudflare.com/ajax/libs/mathjax/2.7.5/MathJax.js?config=TeX-AMS-MML_SVG\"></script><script type=\"text/javascript\">if (window.MathJax) {MathJax.Hub.Config({SVG: {font: \"STIX-Web\"}});}</script>                <script type=\"text/javascript\">window.PlotlyConfig = {MathJaxConfig: 'local'};</script>\n",
       "        <script src=\"https://cdn.plot.ly/plotly-2.8.3.min.js\"></script>                <div id=\"11b12851-ca61-4431-ad67-348e281b901e\" class=\"plotly-graph-div\" style=\"height:600px; width:800px;\"></div>            <script type=\"text/javascript\">                                    window.PLOTLYENV=window.PLOTLYENV || {};                                    if (document.getElementById(\"11b12851-ca61-4431-ad67-348e281b901e\")) {                    Plotly.newPlot(                        \"11b12851-ca61-4431-ad67-348e281b901e\",                        [{\"hovertemplate\":\"variable=TestSetObs<br>VehBrand=%{x}<br>value=%{y}<extra></extra>\",\"legendgroup\":\"TestSetObs\",\"line\":{\"color\":\"#636efa\",\"dash\":\"solid\"},\"marker\":{\"symbol\":\"circle\"},\"mode\":\"lines+markers\",\"name\":\"TestSetObs\",\"orientation\":\"v\",\"showlegend\":true,\"x\":[\"B1\",\"B10\",\"B11\",\"B12\",\"B13\",\"B14\",\"B2\",\"B3\",\"B4\",\"B5\",\"B6\"],\"xaxis\":\"x\",\"y\":[0.07332218507680137,0.08723911369235779,0.09837042930725749,0.06539839351851763,0.08654465854834513,0.04129661520825936,0.07119907839895759,0.0877977143871498,0.07938278321187203,0.07840569578850964,0.07972575317515557],\"yaxis\":\"y\",\"type\":\"scatter\"},{\"hovertemplate\":\"variable=GLM1<br>VehBrand=%{x}<br>value=%{y}<extra></extra>\",\"legendgroup\":\"GLM1\",\"line\":{\"color\":\"#EF553B\",\"dash\":\"solid\"},\"marker\":{\"symbol\":\"circle\"},\"mode\":\"lines+markers\",\"name\":\"GLM1\",\"orientation\":\"v\",\"showlegend\":true,\"x\":[\"B1\",\"B10\",\"B11\",\"B12\",\"B13\",\"B14\",\"B2\",\"B3\",\"B4\",\"B5\",\"B6\"],\"xaxis\":\"x\",\"y\":[0.07169121963819129,0.0790426192595639,0.09780057189936207,0.06485236835510307,0.07693010164827885,0.05930553121939493,0.07178250939347877,0.08548369765415674,0.0800011730223905,0.08524663950181668,0.07963589166555005],\"yaxis\":\"y\",\"type\":\"scatter\"},{\"hovertemplate\":\"variable=GLM2<br>VehBrand=%{x}<br>value=%{y}<extra></extra>\",\"legendgroup\":\"GLM2\",\"line\":{\"color\":\"#00cc96\",\"dash\":\"solid\"},\"marker\":{\"symbol\":\"circle\"},\"mode\":\"lines+markers\",\"name\":\"GLM2\",\"orientation\":\"v\",\"showlegend\":true,\"x\":[\"B1\",\"B10\",\"B11\",\"B12\",\"B13\",\"B14\",\"B2\",\"B3\",\"B4\",\"B5\",\"B6\"],\"xaxis\":\"x\",\"y\":[0.07168907273914947,0.07905391088973074,0.09780666629924946,0.0648551773695404,0.07693331466548992,0.059311544407260164,0.07178759367217769,0.08547582852266752,0.08001988452782427,0.08524461005629619,0.07962801482928922],\"yaxis\":\"y\",\"type\":\"scatter\"},{\"hovertemplate\":\"variable=GLM3<br>VehBrand=%{x}<br>value=%{y}<extra></extra>\",\"legendgroup\":\"GLM3\",\"line\":{\"color\":\"#ab63fa\",\"dash\":\"solid\"},\"marker\":{\"symbol\":\"circle\"},\"mode\":\"lines+markers\",\"name\":\"GLM3\",\"orientation\":\"v\",\"showlegend\":true,\"x\":[\"B1\",\"B10\",\"B11\",\"B12\",\"B13\",\"B14\",\"B2\",\"B3\",\"B4\",\"B5\",\"B6\"],\"xaxis\":\"x\",\"y\":[0.07119513883443647,0.07827612428208816,0.07825469973403724,0.07682158194707663,0.07406468753248736,0.064771643312366,0.07069243042531047,0.0798372356652811,0.07579213658303566,0.07647324857855332,0.07435120854124148],\"yaxis\":\"y\",\"type\":\"scatter\"}],                        {\"template\":{\"data\":{\"bar\":[{\"error_x\":{\"color\":\"#2a3f5f\"},\"error_y\":{\"color\":\"#2a3f5f\"},\"marker\":{\"line\":{\"color\":\"#E5ECF6\",\"width\":0.5},\"pattern\":{\"fillmode\":\"overlay\",\"size\":10,\"solidity\":0.2}},\"type\":\"bar\"}],\"barpolar\":[{\"marker\":{\"line\":{\"color\":\"#E5ECF6\",\"width\":0.5},\"pattern\":{\"fillmode\":\"overlay\",\"size\":10,\"solidity\":0.2}},\"type\":\"barpolar\"}],\"carpet\":[{\"aaxis\":{\"endlinecolor\":\"#2a3f5f\",\"gridcolor\":\"white\",\"linecolor\":\"white\",\"minorgridcolor\":\"white\",\"startlinecolor\":\"#2a3f5f\"},\"baxis\":{\"endlinecolor\":\"#2a3f5f\",\"gridcolor\":\"white\",\"linecolor\":\"white\",\"minorgridcolor\":\"white\",\"startlinecolor\":\"#2a3f5f\"},\"type\":\"carpet\"}],\"choropleth\":[{\"colorbar\":{\"outlinewidth\":0,\"ticks\":\"\"},\"type\":\"choropleth\"}],\"contour\":[{\"colorbar\":{\"outlinewidth\":0,\"ticks\":\"\"},\"colorscale\":[[0.0,\"#0d0887\"],[0.1111111111111111,\"#46039f\"],[0.2222222222222222,\"#7201a8\"],[0.3333333333333333,\"#9c179e\"],[0.4444444444444444,\"#bd3786\"],[0.5555555555555556,\"#d8576b\"],[0.6666666666666666,\"#ed7953\"],[0.7777777777777778,\"#fb9f3a\"],[0.8888888888888888,\"#fdca26\"],[1.0,\"#f0f921\"]],\"type\":\"contour\"}],\"contourcarpet\":[{\"colorbar\":{\"outlinewidth\":0,\"ticks\":\"\"},\"type\":\"contourcarpet\"}],\"heatmap\":[{\"colorbar\":{\"outlinewidth\":0,\"ticks\":\"\"},\"colorscale\":[[0.0,\"#0d0887\"],[0.1111111111111111,\"#46039f\"],[0.2222222222222222,\"#7201a8\"],[0.3333333333333333,\"#9c179e\"],[0.4444444444444444,\"#bd3786\"],[0.5555555555555556,\"#d8576b\"],[0.6666666666666666,\"#ed7953\"],[0.7777777777777778,\"#fb9f3a\"],[0.8888888888888888,\"#fdca26\"],[1.0,\"#f0f921\"]],\"type\":\"heatmap\"}],\"heatmapgl\":[{\"colorbar\":{\"outlinewidth\":0,\"ticks\":\"\"},\"colorscale\":[[0.0,\"#0d0887\"],[0.1111111111111111,\"#46039f\"],[0.2222222222222222,\"#7201a8\"],[0.3333333333333333,\"#9c179e\"],[0.4444444444444444,\"#bd3786\"],[0.5555555555555556,\"#d8576b\"],[0.6666666666666666,\"#ed7953\"],[0.7777777777777778,\"#fb9f3a\"],[0.8888888888888888,\"#fdca26\"],[1.0,\"#f0f921\"]],\"type\":\"heatmapgl\"}],\"histogram\":[{\"marker\":{\"pattern\":{\"fillmode\":\"overlay\",\"size\":10,\"solidity\":0.2}},\"type\":\"histogram\"}],\"histogram2d\":[{\"colorbar\":{\"outlinewidth\":0,\"ticks\":\"\"},\"colorscale\":[[0.0,\"#0d0887\"],[0.1111111111111111,\"#46039f\"],[0.2222222222222222,\"#7201a8\"],[0.3333333333333333,\"#9c179e\"],[0.4444444444444444,\"#bd3786\"],[0.5555555555555556,\"#d8576b\"],[0.6666666666666666,\"#ed7953\"],[0.7777777777777778,\"#fb9f3a\"],[0.8888888888888888,\"#fdca26\"],[1.0,\"#f0f921\"]],\"type\":\"histogram2d\"}],\"histogram2dcontour\":[{\"colorbar\":{\"outlinewidth\":0,\"ticks\":\"\"},\"colorscale\":[[0.0,\"#0d0887\"],[0.1111111111111111,\"#46039f\"],[0.2222222222222222,\"#7201a8\"],[0.3333333333333333,\"#9c179e\"],[0.4444444444444444,\"#bd3786\"],[0.5555555555555556,\"#d8576b\"],[0.6666666666666666,\"#ed7953\"],[0.7777777777777778,\"#fb9f3a\"],[0.8888888888888888,\"#fdca26\"],[1.0,\"#f0f921\"]],\"type\":\"histogram2dcontour\"}],\"mesh3d\":[{\"colorbar\":{\"outlinewidth\":0,\"ticks\":\"\"},\"type\":\"mesh3d\"}],\"parcoords\":[{\"line\":{\"colorbar\":{\"outlinewidth\":0,\"ticks\":\"\"}},\"type\":\"parcoords\"}],\"pie\":[{\"automargin\":true,\"type\":\"pie\"}],\"scatter\":[{\"marker\":{\"colorbar\":{\"outlinewidth\":0,\"ticks\":\"\"}},\"type\":\"scatter\"}],\"scatter3d\":[{\"line\":{\"colorbar\":{\"outlinewidth\":0,\"ticks\":\"\"}},\"marker\":{\"colorbar\":{\"outlinewidth\":0,\"ticks\":\"\"}},\"type\":\"scatter3d\"}],\"scattercarpet\":[{\"marker\":{\"colorbar\":{\"outlinewidth\":0,\"ticks\":\"\"}},\"type\":\"scattercarpet\"}],\"scattergeo\":[{\"marker\":{\"colorbar\":{\"outlinewidth\":0,\"ticks\":\"\"}},\"type\":\"scattergeo\"}],\"scattergl\":[{\"marker\":{\"colorbar\":{\"outlinewidth\":0,\"ticks\":\"\"}},\"type\":\"scattergl\"}],\"scattermapbox\":[{\"marker\":{\"colorbar\":{\"outlinewidth\":0,\"ticks\":\"\"}},\"type\":\"scattermapbox\"}],\"scatterpolar\":[{\"marker\":{\"colorbar\":{\"outlinewidth\":0,\"ticks\":\"\"}},\"type\":\"scatterpolar\"}],\"scatterpolargl\":[{\"marker\":{\"colorbar\":{\"outlinewidth\":0,\"ticks\":\"\"}},\"type\":\"scatterpolargl\"}],\"scatterternary\":[{\"marker\":{\"colorbar\":{\"outlinewidth\":0,\"ticks\":\"\"}},\"type\":\"scatterternary\"}],\"surface\":[{\"colorbar\":{\"outlinewidth\":0,\"ticks\":\"\"},\"colorscale\":[[0.0,\"#0d0887\"],[0.1111111111111111,\"#46039f\"],[0.2222222222222222,\"#7201a8\"],[0.3333333333333333,\"#9c179e\"],[0.4444444444444444,\"#bd3786\"],[0.5555555555555556,\"#d8576b\"],[0.6666666666666666,\"#ed7953\"],[0.7777777777777778,\"#fb9f3a\"],[0.8888888888888888,\"#fdca26\"],[1.0,\"#f0f921\"]],\"type\":\"surface\"}],\"table\":[{\"cells\":{\"fill\":{\"color\":\"#EBF0F8\"},\"line\":{\"color\":\"white\"}},\"header\":{\"fill\":{\"color\":\"#C8D4E3\"},\"line\":{\"color\":\"white\"}},\"type\":\"table\"}]},\"layout\":{\"annotationdefaults\":{\"arrowcolor\":\"#2a3f5f\",\"arrowhead\":0,\"arrowwidth\":1},\"autotypenumbers\":\"strict\",\"coloraxis\":{\"colorbar\":{\"outlinewidth\":0,\"ticks\":\"\"}},\"colorscale\":{\"diverging\":[[0,\"#8e0152\"],[0.1,\"#c51b7d\"],[0.2,\"#de77ae\"],[0.3,\"#f1b6da\"],[0.4,\"#fde0ef\"],[0.5,\"#f7f7f7\"],[0.6,\"#e6f5d0\"],[0.7,\"#b8e186\"],[0.8,\"#7fbc41\"],[0.9,\"#4d9221\"],[1,\"#276419\"]],\"sequential\":[[0.0,\"#0d0887\"],[0.1111111111111111,\"#46039f\"],[0.2222222222222222,\"#7201a8\"],[0.3333333333333333,\"#9c179e\"],[0.4444444444444444,\"#bd3786\"],[0.5555555555555556,\"#d8576b\"],[0.6666666666666666,\"#ed7953\"],[0.7777777777777778,\"#fb9f3a\"],[0.8888888888888888,\"#fdca26\"],[1.0,\"#f0f921\"]],\"sequentialminus\":[[0.0,\"#0d0887\"],[0.1111111111111111,\"#46039f\"],[0.2222222222222222,\"#7201a8\"],[0.3333333333333333,\"#9c179e\"],[0.4444444444444444,\"#bd3786\"],[0.5555555555555556,\"#d8576b\"],[0.6666666666666666,\"#ed7953\"],[0.7777777777777778,\"#fb9f3a\"],[0.8888888888888888,\"#fdca26\"],[1.0,\"#f0f921\"]]},\"colorway\":[\"#636efa\",\"#EF553B\",\"#00cc96\",\"#ab63fa\",\"#FFA15A\",\"#19d3f3\",\"#FF6692\",\"#B6E880\",\"#FF97FF\",\"#FECB52\"],\"font\":{\"color\":\"#2a3f5f\"},\"geo\":{\"bgcolor\":\"white\",\"lakecolor\":\"white\",\"landcolor\":\"#E5ECF6\",\"showlakes\":true,\"showland\":true,\"subunitcolor\":\"white\"},\"hoverlabel\":{\"align\":\"left\"},\"hovermode\":\"closest\",\"mapbox\":{\"style\":\"light\"},\"paper_bgcolor\":\"white\",\"plot_bgcolor\":\"#E5ECF6\",\"polar\":{\"angularaxis\":{\"gridcolor\":\"white\",\"linecolor\":\"white\",\"ticks\":\"\"},\"bgcolor\":\"#E5ECF6\",\"radialaxis\":{\"gridcolor\":\"white\",\"linecolor\":\"white\",\"ticks\":\"\"}},\"scene\":{\"xaxis\":{\"backgroundcolor\":\"#E5ECF6\",\"gridcolor\":\"white\",\"gridwidth\":2,\"linecolor\":\"white\",\"showbackground\":true,\"ticks\":\"\",\"zerolinecolor\":\"white\"},\"yaxis\":{\"backgroundcolor\":\"#E5ECF6\",\"gridcolor\":\"white\",\"gridwidth\":2,\"linecolor\":\"white\",\"showbackground\":true,\"ticks\":\"\",\"zerolinecolor\":\"white\"},\"zaxis\":{\"backgroundcolor\":\"#E5ECF6\",\"gridcolor\":\"white\",\"gridwidth\":2,\"linecolor\":\"white\",\"showbackground\":true,\"ticks\":\"\",\"zerolinecolor\":\"white\"}},\"shapedefaults\":{\"line\":{\"color\":\"#2a3f5f\"}},\"ternary\":{\"aaxis\":{\"gridcolor\":\"white\",\"linecolor\":\"white\",\"ticks\":\"\"},\"baxis\":{\"gridcolor\":\"white\",\"linecolor\":\"white\",\"ticks\":\"\"},\"bgcolor\":\"#E5ECF6\",\"caxis\":{\"gridcolor\":\"white\",\"linecolor\":\"white\",\"ticks\":\"\"}},\"title\":{\"x\":0.05},\"xaxis\":{\"automargin\":true,\"gridcolor\":\"white\",\"linecolor\":\"white\",\"ticks\":\"\",\"title\":{\"standoff\":15},\"zerolinecolor\":\"white\",\"zerolinewidth\":2},\"yaxis\":{\"automargin\":true,\"gridcolor\":\"white\",\"linecolor\":\"white\",\"ticks\":\"\",\"title\":{\"standoff\":15},\"zerolinecolor\":\"white\",\"zerolinewidth\":2}}},\"xaxis\":{\"anchor\":\"y\",\"domain\":[0.0,1.0],\"title\":{\"text\":\"VehBrand\"}},\"yaxis\":{\"anchor\":\"x\",\"domain\":[0.0,1.0],\"title\":{\"text\":\"value\"}},\"legend\":{\"title\":{\"text\":\"variable\"},\"tracegroupgap\":0},\"title\":{\"text\":\"Freq by VehBrand\"},\"autosize\":false,\"width\":800,\"height\":600},                        {\"responsive\": true}                    ).then(function(){\n",
       "                            \n",
       "var gd = document.getElementById('11b12851-ca61-4431-ad67-348e281b901e');\n",
       "var x = new MutationObserver(function (mutations, observer) {{\n",
       "        var display = window.getComputedStyle(gd).display;\n",
       "        if (!display || display === 'none') {{\n",
       "            console.log([gd, 'removed!']);\n",
       "            Plotly.purge(gd);\n",
       "            observer.disconnect();\n",
       "        }}\n",
       "}});\n",
       "\n",
       "// Listen for the removal of the full notebook cells\n",
       "var notebookContainer = gd.closest('#notebook-container');\n",
       "if (notebookContainer) {{\n",
       "    x.observe(notebookContainer, {childList: true});\n",
       "}}\n",
       "\n",
       "// Listen for the clearing of the current output cell\n",
       "var outputEl = gd.closest('.output');\n",
       "if (outputEl) {{\n",
       "    x.observe(outputEl, {childList: true});\n",
       "}}\n",
       "\n",
       "                        })                };                            </script>        </div>\n",
       "</body>\n",
       "</html>"
      ]
     },
     "metadata": {},
     "output_type": "display_data"
    }
   ],
   "source": [
    "plot_freq_by_models('VehBrand')"
   ]
  },
  {
   "cell_type": "code",
   "execution_count": null,
   "metadata": {
    "colab": {
     "base_uri": "https://localhost:8080/",
     "height": 638
    },
    "id": "2EVAva8LO7ye",
    "outputId": "a20a69a9-9b13-4ac0-bfe0-c9c2effad822"
   },
   "outputs": [
    {
     "data": {
      "text/html": [
       "<html>\n",
       "<head><meta charset=\"utf-8\" /></head>\n",
       "<body>\n",
       "    <div>            <script src=\"https://cdnjs.cloudflare.com/ajax/libs/mathjax/2.7.5/MathJax.js?config=TeX-AMS-MML_SVG\"></script><script type=\"text/javascript\">if (window.MathJax) {MathJax.Hub.Config({SVG: {font: \"STIX-Web\"}});}</script>                <script type=\"text/javascript\">window.PlotlyConfig = {MathJaxConfig: 'local'};</script>\n",
       "        <script src=\"https://cdn.plot.ly/plotly-2.8.3.min.js\"></script>                <div id=\"4fa967fd-cf8b-4240-9944-9907f34f657d\" class=\"plotly-graph-div\" style=\"height:600px; width:800px;\"></div>            <script type=\"text/javascript\">                                    window.PLOTLYENV=window.PLOTLYENV || {};                                    if (document.getElementById(\"4fa967fd-cf8b-4240-9944-9907f34f657d\")) {                    Plotly.newPlot(                        \"4fa967fd-cf8b-4240-9944-9907f34f657d\",                        [{\"hovertemplate\":\"variable=TestSetObs<br>DrivAge=%{x}<br>value=%{y}<extra></extra>\",\"legendgroup\":\"TestSetObs\",\"line\":{\"color\":\"#636efa\",\"dash\":\"solid\"},\"marker\":{\"symbol\":\"circle\"},\"mode\":\"lines+markers\",\"name\":\"TestSetObs\",\"orientation\":\"v\",\"showlegend\":true,\"x\":[18,19,20,21,22,23,24,25,26,27,28,29,30,31,32,33,34,35,36,37,38,39,40,41,42,43,44,45,46,47,48,49,50,51,52,53,54,55,56,57,58,59,60,61,62,63,64,65,66,67,68,69,70,71,72,73,74,75,76,77,78,79,80,81,82,83,84,85,86,87,88,89,90],\"xaxis\":\"x\",\"y\":[0.3781704149859093,0.24248290588387553,0.18975899154133968,0.1837799049817668,0.13918949000596897,0.15408388505498505,0.10115865836398402,0.09654378564835382,0.10921372139005367,0.07366787481489655,0.07826931201977225,0.0742592764504078,0.08638553489245003,0.07559180815459461,0.07510597421809832,0.0772441629092637,0.06281974649787002,0.07318182027245698,0.06282387967570198,0.06744589923856487,0.061257701740977874,0.0651589377052105,0.06617113012348928,0.07458586071283767,0.06916749350007838,0.07346855179071397,0.07206357472559595,0.06916357123046019,0.0667231503168983,0.08555226106914007,0.07879451632792081,0.08016360942454068,0.07417977727843994,0.09404616185563902,0.06981984841860736,0.07054648585949802,0.07514820655364543,0.06568316978898696,0.06791528700099618,0.07376602735626232,0.0691386856147052,0.05125656563051046,0.06667365166517239,0.0830952127376526,0.07798713701997492,0.0722663360742927,0.06770314365417025,0.06683311807232456,0.0658851187994193,0.05660728316258725,0.0547898870492872,0.05240689573086971,0.061443609697066595,0.060564585981097735,0.05669691288062724,0.047486055084756305,0.06565773121231741,0.053473879687395885,0.06142785639532238,0.06650960994967098,0.053693886007144476,0.04893861310205109,0.05287348284929387,0.038770007852642896,0.0702168508773462,0.07128091809822511,0.07505092741503164,0.041050903119868636,0.05271227522065743,0.01986491855383393,0.056625141562853906,0.11841326228537596,0.0779510022271715],\"yaxis\":\"y\",\"type\":\"scatter\"},{\"hovertemplate\":\"variable=GLM1<br>DrivAge=%{x}<br>value=%{y}<extra></extra>\",\"legendgroup\":\"GLM1\",\"line\":{\"color\":\"#EF553B\",\"dash\":\"solid\"},\"marker\":{\"symbol\":\"circle\"},\"mode\":\"lines+markers\",\"name\":\"GLM1\",\"orientation\":\"v\",\"showlegend\":true,\"x\":[18,19,20,21,22,23,24,25,26,27,28,29,30,31,32,33,34,35,36,37,38,39,40,41,42,43,44,45,46,47,48,49,50,51,52,53,54,55,56,57,58,59,60,61,62,63,64,65,66,67,68,69,70,71,72,73,74,75,76,77,78,79,80,81,82,83,84,85,86,87,88,89,90],\"xaxis\":\"x\",\"y\":[0.19313541537762233,0.21676242862844275,0.22167724168292988,0.2037163625559429,0.13708545624202206,0.13107027158417764,0.12105977031775977,0.11639735352454658,0.10717028055442888,0.08800768945486934,0.08261026542600841,0.075696330842459,0.07135463006039944,0.0678248612157265,0.07889488292609396,0.07577148814600278,0.0745982073314889,0.07213556275755693,0.06873318407956616,0.06620754337465677,0.0660525059666707,0.06551094487847592,0.06501092503599296,0.06234392022656983,0.0813293669646565,0.07880719919116909,0.07751486199802894,0.07602183563271979,0.07465755031283192,0.07548656648063633,0.07475032397383967,0.0733069156452325,0.07558841096023544,0.07347324313685541,0.06648313547554913,0.06589848198303089,0.06550356226069871,0.06449681706795753,0.06612075668202935,0.0649026648591888,0.06665745296691473,0.06562203438615284,0.06543705686305441,0.06757091590223559,0.06745153786725194,0.06315096488830219,0.061316451549763104,0.06178211004349474,0.060651160245385756,0.060694635115594135,0.06029240355323643,0.060361115200290125,0.059171616091872374,0.058416734239689266,0.06171774771721483,0.06112175491292564,0.061062652843154555,0.06121101504743036,0.06439580905004658,0.06227318831652078,0.0641227759067377,0.0642000826547068,0.06193200255352127,0.060976107311325106,0.0586839486066383,0.05919878906315477,0.07093682747556135,0.05940541111939191,0.07296281137099153,0.06245486001385815,0.06039702575650879,0.06790434735689524,0.0640263300884036],\"yaxis\":\"y\",\"type\":\"scatter\"},{\"hovertemplate\":\"variable=GLM2<br>DrivAge=%{x}<br>value=%{y}<extra></extra>\",\"legendgroup\":\"GLM2\",\"line\":{\"color\":\"#00cc96\",\"dash\":\"solid\"},\"marker\":{\"symbol\":\"circle\"},\"mode\":\"lines+markers\",\"name\":\"GLM2\",\"orientation\":\"v\",\"showlegend\":true,\"x\":[18,19,20,21,22,23,24,25,26,27,28,29,30,31,32,33,34,35,36,37,38,39,40,41,42,43,44,45,46,47,48,49,50,51,52,53,54,55,56,57,58,59,60,61,62,63,64,65,66,67,68,69,70,71,72,73,74,75,76,77,78,79,80,81,82,83,84,85,86,87,88,89,90],\"xaxis\":\"x\",\"y\":[0.19311399573620372,0.2167516452721589,0.2217773090876294,0.2037409863355406,0.1370911927757826,0.1310568212333979,0.12109375546209797,0.11639349505124941,0.10718581626869449,0.08802677664687422,0.0826029513821112,0.07568422922068889,0.07135159455722546,0.06781582487797393,0.07888001942510689,0.07575135097930463,0.07459864409486595,0.07212910052621528,0.06876220660538698,0.06621495822218113,0.06604901331532081,0.06550472565495491,0.06502877607769551,0.06235882657974195,0.0813225648956618,0.07878994573329282,0.07749626216702951,0.07602391228947213,0.07467227479410558,0.07550892552837983,0.0747784155496893,0.07331623772702973,0.07557278445282145,0.07348599268833508,0.06648737029346537,0.06589368275668724,0.0655017610300661,0.0644860686146167,0.06613558950062762,0.06489596525402676,0.06663417898409442,0.06561180159374988,0.06543948602309417,0.06756692417320981,0.06745700187071584,0.06314627678665068,0.061311533301704586,0.06180208691184559,0.060645807297482514,0.06069754000731852,0.060274825326124035,0.06036929530305066,0.05915819694833551,0.058413980851978665,0.061713187229137344,0.06113993063416319,0.06103553637218922,0.06124460398437549,0.06440904630218686,0.06229586870424153,0.06414220454319487,0.06422016650679366,0.06192856182656978,0.06097754058030788,0.058710356518699366,0.059173845221510674,0.07082809219486116,0.059339468549513975,0.07287107917015012,0.06244656409112122,0.06044827611155918,0.06794439913470918,0.06408307713016101],\"yaxis\":\"y\",\"type\":\"scatter\"},{\"hovertemplate\":\"variable=GLM3<br>DrivAge=%{x}<br>value=%{y}<extra></extra>\",\"legendgroup\":\"GLM3\",\"line\":{\"color\":\"#ab63fa\",\"dash\":\"solid\"},\"marker\":{\"symbol\":\"circle\"},\"mode\":\"lines+markers\",\"name\":\"GLM3\",\"orientation\":\"v\",\"showlegend\":true,\"x\":[18,19,20,21,22,23,24,25,26,27,28,29,30,31,32,33,34,35,36,37,38,39,40,41,42,43,44,45,46,47,48,49,50,51,52,53,54,55,56,57,58,59,60,61,62,63,64,65,66,67,68,69,70,71,72,73,74,75,76,77,78,79,80,81,82,83,84,85,86,87,88,89,90],\"xaxis\":\"x\",\"y\":[0.19331706504637733,0.21622154697072046,0.2213233467938356,0.20584326705480338,0.13625821799757656,0.12990200990159131,0.12146248711449663,0.11639632232623497,0.10766253440751748,0.08763768641291968,0.082190439493422,0.0754550729835837,0.07094366073731266,0.06767757078933115,0.07879141302611457,0.07541683631498003,0.07468065171245222,0.07205209405701966,0.06878467265943637,0.06641021999992075,0.06636797244818399,0.0657546579658771,0.06555364133845464,0.06268645317903995,0.08138405576182224,0.07916068481301147,0.07781806875607195,0.07624896341171737,0.0748027426285473,0.07538802213578376,0.07476173853150993,0.07287380251227935,0.07524469267870616,0.07296377521838665,0.06589868875493644,0.06556332187241284,0.06530892976396224,0.0642788731082952,0.06597551899527913,0.06509732905129689,0.06676877676113563,0.06582901777692116,0.0653533188153896,0.06765998585850302,0.06755393133771251,0.06355328576146022,0.06214908370074451,0.06207894965321381,0.06052318932043743,0.060986783850435176,0.06029554318007397,0.0606628791194732,0.059225530513927226,0.0585825028198043,0.062077499767152926,0.06121849660579703,0.06134397067159684,0.06169177395264182,0.0642996246158764,0.062653262377856,0.0645597431290085,0.06407513831074897,0.061911384932638154,0.060941568440230465,0.05805674683874534,0.059429819327253774,0.0708015107063834,0.058392956011190184,0.07153435813964817,0.06224676507450486,0.05934184993856955,0.0670347057052084,0.06290560908332589],\"yaxis\":\"y\",\"type\":\"scatter\"}],                        {\"template\":{\"data\":{\"bar\":[{\"error_x\":{\"color\":\"#2a3f5f\"},\"error_y\":{\"color\":\"#2a3f5f\"},\"marker\":{\"line\":{\"color\":\"#E5ECF6\",\"width\":0.5},\"pattern\":{\"fillmode\":\"overlay\",\"size\":10,\"solidity\":0.2}},\"type\":\"bar\"}],\"barpolar\":[{\"marker\":{\"line\":{\"color\":\"#E5ECF6\",\"width\":0.5},\"pattern\":{\"fillmode\":\"overlay\",\"size\":10,\"solidity\":0.2}},\"type\":\"barpolar\"}],\"carpet\":[{\"aaxis\":{\"endlinecolor\":\"#2a3f5f\",\"gridcolor\":\"white\",\"linecolor\":\"white\",\"minorgridcolor\":\"white\",\"startlinecolor\":\"#2a3f5f\"},\"baxis\":{\"endlinecolor\":\"#2a3f5f\",\"gridcolor\":\"white\",\"linecolor\":\"white\",\"minorgridcolor\":\"white\",\"startlinecolor\":\"#2a3f5f\"},\"type\":\"carpet\"}],\"choropleth\":[{\"colorbar\":{\"outlinewidth\":0,\"ticks\":\"\"},\"type\":\"choropleth\"}],\"contour\":[{\"colorbar\":{\"outlinewidth\":0,\"ticks\":\"\"},\"colorscale\":[[0.0,\"#0d0887\"],[0.1111111111111111,\"#46039f\"],[0.2222222222222222,\"#7201a8\"],[0.3333333333333333,\"#9c179e\"],[0.4444444444444444,\"#bd3786\"],[0.5555555555555556,\"#d8576b\"],[0.6666666666666666,\"#ed7953\"],[0.7777777777777778,\"#fb9f3a\"],[0.8888888888888888,\"#fdca26\"],[1.0,\"#f0f921\"]],\"type\":\"contour\"}],\"contourcarpet\":[{\"colorbar\":{\"outlinewidth\":0,\"ticks\":\"\"},\"type\":\"contourcarpet\"}],\"heatmap\":[{\"colorbar\":{\"outlinewidth\":0,\"ticks\":\"\"},\"colorscale\":[[0.0,\"#0d0887\"],[0.1111111111111111,\"#46039f\"],[0.2222222222222222,\"#7201a8\"],[0.3333333333333333,\"#9c179e\"],[0.4444444444444444,\"#bd3786\"],[0.5555555555555556,\"#d8576b\"],[0.6666666666666666,\"#ed7953\"],[0.7777777777777778,\"#fb9f3a\"],[0.8888888888888888,\"#fdca26\"],[1.0,\"#f0f921\"]],\"type\":\"heatmap\"}],\"heatmapgl\":[{\"colorbar\":{\"outlinewidth\":0,\"ticks\":\"\"},\"colorscale\":[[0.0,\"#0d0887\"],[0.1111111111111111,\"#46039f\"],[0.2222222222222222,\"#7201a8\"],[0.3333333333333333,\"#9c179e\"],[0.4444444444444444,\"#bd3786\"],[0.5555555555555556,\"#d8576b\"],[0.6666666666666666,\"#ed7953\"],[0.7777777777777778,\"#fb9f3a\"],[0.8888888888888888,\"#fdca26\"],[1.0,\"#f0f921\"]],\"type\":\"heatmapgl\"}],\"histogram\":[{\"marker\":{\"pattern\":{\"fillmode\":\"overlay\",\"size\":10,\"solidity\":0.2}},\"type\":\"histogram\"}],\"histogram2d\":[{\"colorbar\":{\"outlinewidth\":0,\"ticks\":\"\"},\"colorscale\":[[0.0,\"#0d0887\"],[0.1111111111111111,\"#46039f\"],[0.2222222222222222,\"#7201a8\"],[0.3333333333333333,\"#9c179e\"],[0.4444444444444444,\"#bd3786\"],[0.5555555555555556,\"#d8576b\"],[0.6666666666666666,\"#ed7953\"],[0.7777777777777778,\"#fb9f3a\"],[0.8888888888888888,\"#fdca26\"],[1.0,\"#f0f921\"]],\"type\":\"histogram2d\"}],\"histogram2dcontour\":[{\"colorbar\":{\"outlinewidth\":0,\"ticks\":\"\"},\"colorscale\":[[0.0,\"#0d0887\"],[0.1111111111111111,\"#46039f\"],[0.2222222222222222,\"#7201a8\"],[0.3333333333333333,\"#9c179e\"],[0.4444444444444444,\"#bd3786\"],[0.5555555555555556,\"#d8576b\"],[0.6666666666666666,\"#ed7953\"],[0.7777777777777778,\"#fb9f3a\"],[0.8888888888888888,\"#fdca26\"],[1.0,\"#f0f921\"]],\"type\":\"histogram2dcontour\"}],\"mesh3d\":[{\"colorbar\":{\"outlinewidth\":0,\"ticks\":\"\"},\"type\":\"mesh3d\"}],\"parcoords\":[{\"line\":{\"colorbar\":{\"outlinewidth\":0,\"ticks\":\"\"}},\"type\":\"parcoords\"}],\"pie\":[{\"automargin\":true,\"type\":\"pie\"}],\"scatter\":[{\"marker\":{\"colorbar\":{\"outlinewidth\":0,\"ticks\":\"\"}},\"type\":\"scatter\"}],\"scatter3d\":[{\"line\":{\"colorbar\":{\"outlinewidth\":0,\"ticks\":\"\"}},\"marker\":{\"colorbar\":{\"outlinewidth\":0,\"ticks\":\"\"}},\"type\":\"scatter3d\"}],\"scattercarpet\":[{\"marker\":{\"colorbar\":{\"outlinewidth\":0,\"ticks\":\"\"}},\"type\":\"scattercarpet\"}],\"scattergeo\":[{\"marker\":{\"colorbar\":{\"outlinewidth\":0,\"ticks\":\"\"}},\"type\":\"scattergeo\"}],\"scattergl\":[{\"marker\":{\"colorbar\":{\"outlinewidth\":0,\"ticks\":\"\"}},\"type\":\"scattergl\"}],\"scattermapbox\":[{\"marker\":{\"colorbar\":{\"outlinewidth\":0,\"ticks\":\"\"}},\"type\":\"scattermapbox\"}],\"scatterpolar\":[{\"marker\":{\"colorbar\":{\"outlinewidth\":0,\"ticks\":\"\"}},\"type\":\"scatterpolar\"}],\"scatterpolargl\":[{\"marker\":{\"colorbar\":{\"outlinewidth\":0,\"ticks\":\"\"}},\"type\":\"scatterpolargl\"}],\"scatterternary\":[{\"marker\":{\"colorbar\":{\"outlinewidth\":0,\"ticks\":\"\"}},\"type\":\"scatterternary\"}],\"surface\":[{\"colorbar\":{\"outlinewidth\":0,\"ticks\":\"\"},\"colorscale\":[[0.0,\"#0d0887\"],[0.1111111111111111,\"#46039f\"],[0.2222222222222222,\"#7201a8\"],[0.3333333333333333,\"#9c179e\"],[0.4444444444444444,\"#bd3786\"],[0.5555555555555556,\"#d8576b\"],[0.6666666666666666,\"#ed7953\"],[0.7777777777777778,\"#fb9f3a\"],[0.8888888888888888,\"#fdca26\"],[1.0,\"#f0f921\"]],\"type\":\"surface\"}],\"table\":[{\"cells\":{\"fill\":{\"color\":\"#EBF0F8\"},\"line\":{\"color\":\"white\"}},\"header\":{\"fill\":{\"color\":\"#C8D4E3\"},\"line\":{\"color\":\"white\"}},\"type\":\"table\"}]},\"layout\":{\"annotationdefaults\":{\"arrowcolor\":\"#2a3f5f\",\"arrowhead\":0,\"arrowwidth\":1},\"autotypenumbers\":\"strict\",\"coloraxis\":{\"colorbar\":{\"outlinewidth\":0,\"ticks\":\"\"}},\"colorscale\":{\"diverging\":[[0,\"#8e0152\"],[0.1,\"#c51b7d\"],[0.2,\"#de77ae\"],[0.3,\"#f1b6da\"],[0.4,\"#fde0ef\"],[0.5,\"#f7f7f7\"],[0.6,\"#e6f5d0\"],[0.7,\"#b8e186\"],[0.8,\"#7fbc41\"],[0.9,\"#4d9221\"],[1,\"#276419\"]],\"sequential\":[[0.0,\"#0d0887\"],[0.1111111111111111,\"#46039f\"],[0.2222222222222222,\"#7201a8\"],[0.3333333333333333,\"#9c179e\"],[0.4444444444444444,\"#bd3786\"],[0.5555555555555556,\"#d8576b\"],[0.6666666666666666,\"#ed7953\"],[0.7777777777777778,\"#fb9f3a\"],[0.8888888888888888,\"#fdca26\"],[1.0,\"#f0f921\"]],\"sequentialminus\":[[0.0,\"#0d0887\"],[0.1111111111111111,\"#46039f\"],[0.2222222222222222,\"#7201a8\"],[0.3333333333333333,\"#9c179e\"],[0.4444444444444444,\"#bd3786\"],[0.5555555555555556,\"#d8576b\"],[0.6666666666666666,\"#ed7953\"],[0.7777777777777778,\"#fb9f3a\"],[0.8888888888888888,\"#fdca26\"],[1.0,\"#f0f921\"]]},\"colorway\":[\"#636efa\",\"#EF553B\",\"#00cc96\",\"#ab63fa\",\"#FFA15A\",\"#19d3f3\",\"#FF6692\",\"#B6E880\",\"#FF97FF\",\"#FECB52\"],\"font\":{\"color\":\"#2a3f5f\"},\"geo\":{\"bgcolor\":\"white\",\"lakecolor\":\"white\",\"landcolor\":\"#E5ECF6\",\"showlakes\":true,\"showland\":true,\"subunitcolor\":\"white\"},\"hoverlabel\":{\"align\":\"left\"},\"hovermode\":\"closest\",\"mapbox\":{\"style\":\"light\"},\"paper_bgcolor\":\"white\",\"plot_bgcolor\":\"#E5ECF6\",\"polar\":{\"angularaxis\":{\"gridcolor\":\"white\",\"linecolor\":\"white\",\"ticks\":\"\"},\"bgcolor\":\"#E5ECF6\",\"radialaxis\":{\"gridcolor\":\"white\",\"linecolor\":\"white\",\"ticks\":\"\"}},\"scene\":{\"xaxis\":{\"backgroundcolor\":\"#E5ECF6\",\"gridcolor\":\"white\",\"gridwidth\":2,\"linecolor\":\"white\",\"showbackground\":true,\"ticks\":\"\",\"zerolinecolor\":\"white\"},\"yaxis\":{\"backgroundcolor\":\"#E5ECF6\",\"gridcolor\":\"white\",\"gridwidth\":2,\"linecolor\":\"white\",\"showbackground\":true,\"ticks\":\"\",\"zerolinecolor\":\"white\"},\"zaxis\":{\"backgroundcolor\":\"#E5ECF6\",\"gridcolor\":\"white\",\"gridwidth\":2,\"linecolor\":\"white\",\"showbackground\":true,\"ticks\":\"\",\"zerolinecolor\":\"white\"}},\"shapedefaults\":{\"line\":{\"color\":\"#2a3f5f\"}},\"ternary\":{\"aaxis\":{\"gridcolor\":\"white\",\"linecolor\":\"white\",\"ticks\":\"\"},\"baxis\":{\"gridcolor\":\"white\",\"linecolor\":\"white\",\"ticks\":\"\"},\"bgcolor\":\"#E5ECF6\",\"caxis\":{\"gridcolor\":\"white\",\"linecolor\":\"white\",\"ticks\":\"\"}},\"title\":{\"x\":0.05},\"xaxis\":{\"automargin\":true,\"gridcolor\":\"white\",\"linecolor\":\"white\",\"ticks\":\"\",\"title\":{\"standoff\":15},\"zerolinecolor\":\"white\",\"zerolinewidth\":2},\"yaxis\":{\"automargin\":true,\"gridcolor\":\"white\",\"linecolor\":\"white\",\"ticks\":\"\",\"title\":{\"standoff\":15},\"zerolinecolor\":\"white\",\"zerolinewidth\":2}}},\"xaxis\":{\"anchor\":\"y\",\"domain\":[0.0,1.0],\"title\":{\"text\":\"DrivAge\"}},\"yaxis\":{\"anchor\":\"x\",\"domain\":[0.0,1.0],\"title\":{\"text\":\"value\"}},\"legend\":{\"title\":{\"text\":\"variable\"},\"tracegroupgap\":0},\"title\":{\"text\":\"Freq by DrivAge\"},\"autosize\":false,\"width\":800,\"height\":600},                        {\"responsive\": true}                    ).then(function(){\n",
       "                            \n",
       "var gd = document.getElementById('4fa967fd-cf8b-4240-9944-9907f34f657d');\n",
       "var x = new MutationObserver(function (mutations, observer) {{\n",
       "        var display = window.getComputedStyle(gd).display;\n",
       "        if (!display || display === 'none') {{\n",
       "            console.log([gd, 'removed!']);\n",
       "            Plotly.purge(gd);\n",
       "            observer.disconnect();\n",
       "        }}\n",
       "}});\n",
       "\n",
       "// Listen for the removal of the full notebook cells\n",
       "var notebookContainer = gd.closest('#notebook-container');\n",
       "if (notebookContainer) {{\n",
       "    x.observe(notebookContainer, {childList: true});\n",
       "}}\n",
       "\n",
       "// Listen for the clearing of the current output cell\n",
       "var outputEl = gd.closest('.output');\n",
       "if (outputEl) {{\n",
       "    x.observe(outputEl, {childList: true});\n",
       "}}\n",
       "\n",
       "                        })                };                            </script>        </div>\n",
       "</body>\n",
       "</html>"
      ]
     },
     "metadata": {},
     "output_type": "display_data"
    }
   ],
   "source": [
    "plot_freq_by_models('DrivAge')"
   ]
  },
  {
   "cell_type": "code",
   "execution_count": null,
   "metadata": {
    "colab": {
     "base_uri": "https://localhost:8080/",
     "height": 638
    },
    "id": "LDjMhR4cPAWn",
    "outputId": "9e5916ed-7b2e-4e24-82be-8a9467be083b"
   },
   "outputs": [
    {
     "data": {
      "text/html": [
       "<html>\n",
       "<head><meta charset=\"utf-8\" /></head>\n",
       "<body>\n",
       "    <div>            <script src=\"https://cdnjs.cloudflare.com/ajax/libs/mathjax/2.7.5/MathJax.js?config=TeX-AMS-MML_SVG\"></script><script type=\"text/javascript\">if (window.MathJax) {MathJax.Hub.Config({SVG: {font: \"STIX-Web\"}});}</script>                <script type=\"text/javascript\">window.PlotlyConfig = {MathJaxConfig: 'local'};</script>\n",
       "        <script src=\"https://cdn.plot.ly/plotly-2.8.3.min.js\"></script>                <div id=\"29f1c464-42aa-4bcd-a1c0-bed9c3654dac\" class=\"plotly-graph-div\" style=\"height:600px; width:800px;\"></div>            <script type=\"text/javascript\">                                    window.PLOTLYENV=window.PLOTLYENV || {};                                    if (document.getElementById(\"29f1c464-42aa-4bcd-a1c0-bed9c3654dac\")) {                    Plotly.newPlot(                        \"29f1c464-42aa-4bcd-a1c0-bed9c3654dac\",                        [{\"hovertemplate\":\"variable=TestSetObs<br>Region=%{x}<br>value=%{y}<extra></extra>\",\"legendgroup\":\"TestSetObs\",\"line\":{\"color\":\"#636efa\",\"dash\":\"solid\"},\"marker\":{\"symbol\":\"circle\"},\"mode\":\"lines+markers\",\"name\":\"TestSetObs\",\"orientation\":\"v\",\"showlegend\":true,\"x\":[\"R11\",\"R21\",\"R22\",\"R23\",\"R24\",\"R25\",\"R26\",\"R31\",\"R41\",\"R42\",\"R43\",\"R52\",\"R53\",\"R54\",\"R72\",\"R73\",\"R74\",\"R82\",\"R83\",\"R91\",\"R93\",\"R94\"],\"xaxis\":\"x\",\"y\":[0.08555542376580626,0.05227809079751357,0.09653692321681742,0.07172399971279307,0.06225259523486844,0.08535995267232104,0.08536613598196331,0.07439166191885986,0.05363049817791363,0.10428325045067616,0.13445567493564986,0.07064223231415288,0.07275118242458231,0.07866343593787305,0.07361826385397051,0.05177380186419633,0.06356380791614631,0.09345870496617562,0.06859283286362458,0.06128632464073703,0.08627591419362148,0.037467991869743277],\"yaxis\":\"y\",\"type\":\"scatter\"},{\"hovertemplate\":\"variable=GLM1<br>Region=%{x}<br>value=%{y}<extra></extra>\",\"legendgroup\":\"GLM1\",\"line\":{\"color\":\"#EF553B\",\"dash\":\"solid\"},\"marker\":{\"symbol\":\"circle\"},\"mode\":\"lines+markers\",\"name\":\"GLM1\",\"orientation\":\"v\",\"showlegend\":true,\"x\":[\"R11\",\"R21\",\"R22\",\"R23\",\"R24\",\"R25\",\"R26\",\"R31\",\"R41\",\"R42\",\"R43\",\"R52\",\"R53\",\"R54\",\"R72\",\"R73\",\"R74\",\"R82\",\"R83\",\"R91\",\"R93\",\"R94\"],\"xaxis\":\"x\",\"y\":[0.08639089222149107,0.07061653682615252,0.08535272539346549,0.06889712747836471,0.06350830407008023,0.06319381887908002,0.061939781915700744,0.08451594919750384,0.058623511542760895,0.07397092729943752,0.05502035945044999,0.07243799984151565,0.0655314821243591,0.07000944469295,0.07297981515591095,0.05332469234703216,0.08728139374382048,0.09386698782684451,0.058076897167442534,0.06959295986434424,0.08328755410447335,0.08445184147460501],\"yaxis\":\"y\",\"type\":\"scatter\"},{\"hovertemplate\":\"variable=GLM2<br>Region=%{x}<br>value=%{y}<extra></extra>\",\"legendgroup\":\"GLM2\",\"line\":{\"color\":\"#00cc96\",\"dash\":\"solid\"},\"marker\":{\"symbol\":\"circle\"},\"mode\":\"lines+markers\",\"name\":\"GLM2\",\"orientation\":\"v\",\"showlegend\":true,\"x\":[\"R11\",\"R21\",\"R22\",\"R23\",\"R24\",\"R25\",\"R26\",\"R31\",\"R41\",\"R42\",\"R43\",\"R52\",\"R53\",\"R54\",\"R72\",\"R73\",\"R74\",\"R82\",\"R83\",\"R91\",\"R93\",\"R94\"],\"xaxis\":\"x\",\"y\":[0.08638617125293352,0.07060744068586305,0.08536117972470854,0.068920670037506,0.06350917123785843,0.06318879254409829,0.06194894093674151,0.08452719124385373,0.058642588530680675,0.0739498265886839,0.05500709124747853,0.07243873636819877,0.06552479308461227,0.07002137739690328,0.07297249882847065,0.05331290520662505,0.08730382431282105,0.09387709807530611,0.05806036571523128,0.06958339907669082,0.0832916699143297,0.08442705073509764],\"yaxis\":\"y\",\"type\":\"scatter\"},{\"hovertemplate\":\"variable=GLM3<br>Region=%{x}<br>value=%{y}<extra></extra>\",\"legendgroup\":\"GLM3\",\"line\":{\"color\":\"#ab63fa\",\"dash\":\"solid\"},\"marker\":{\"symbol\":\"circle\"},\"mode\":\"lines+markers\",\"name\":\"GLM3\",\"orientation\":\"v\",\"showlegend\":true,\"x\":[\"R11\",\"R21\",\"R22\",\"R23\",\"R24\",\"R25\",\"R26\",\"R31\",\"R41\",\"R42\",\"R43\",\"R52\",\"R53\",\"R54\",\"R72\",\"R73\",\"R74\",\"R82\",\"R83\",\"R91\",\"R93\",\"R94\"],\"xaxis\":\"x\",\"y\":[0.08626007417963827,0.07046762574999017,0.08529074838506094,0.06910301282251624,0.06356487707738147,0.06305992940488747,0.06196878194322828,0.08446961509057199,0.05858325754103414,0.07340562045838087,0.054964561870588104,0.07248268475580347,0.06556892775676654,0.06981350823803553,0.07280535878070538,0.05327351949159396,0.08792719279498963,0.09375951827052564,0.05868863374581896,0.0694991365284001,0.0834696506329619,0.08422238142731228],\"yaxis\":\"y\",\"type\":\"scatter\"}],                        {\"template\":{\"data\":{\"bar\":[{\"error_x\":{\"color\":\"#2a3f5f\"},\"error_y\":{\"color\":\"#2a3f5f\"},\"marker\":{\"line\":{\"color\":\"#E5ECF6\",\"width\":0.5},\"pattern\":{\"fillmode\":\"overlay\",\"size\":10,\"solidity\":0.2}},\"type\":\"bar\"}],\"barpolar\":[{\"marker\":{\"line\":{\"color\":\"#E5ECF6\",\"width\":0.5},\"pattern\":{\"fillmode\":\"overlay\",\"size\":10,\"solidity\":0.2}},\"type\":\"barpolar\"}],\"carpet\":[{\"aaxis\":{\"endlinecolor\":\"#2a3f5f\",\"gridcolor\":\"white\",\"linecolor\":\"white\",\"minorgridcolor\":\"white\",\"startlinecolor\":\"#2a3f5f\"},\"baxis\":{\"endlinecolor\":\"#2a3f5f\",\"gridcolor\":\"white\",\"linecolor\":\"white\",\"minorgridcolor\":\"white\",\"startlinecolor\":\"#2a3f5f\"},\"type\":\"carpet\"}],\"choropleth\":[{\"colorbar\":{\"outlinewidth\":0,\"ticks\":\"\"},\"type\":\"choropleth\"}],\"contour\":[{\"colorbar\":{\"outlinewidth\":0,\"ticks\":\"\"},\"colorscale\":[[0.0,\"#0d0887\"],[0.1111111111111111,\"#46039f\"],[0.2222222222222222,\"#7201a8\"],[0.3333333333333333,\"#9c179e\"],[0.4444444444444444,\"#bd3786\"],[0.5555555555555556,\"#d8576b\"],[0.6666666666666666,\"#ed7953\"],[0.7777777777777778,\"#fb9f3a\"],[0.8888888888888888,\"#fdca26\"],[1.0,\"#f0f921\"]],\"type\":\"contour\"}],\"contourcarpet\":[{\"colorbar\":{\"outlinewidth\":0,\"ticks\":\"\"},\"type\":\"contourcarpet\"}],\"heatmap\":[{\"colorbar\":{\"outlinewidth\":0,\"ticks\":\"\"},\"colorscale\":[[0.0,\"#0d0887\"],[0.1111111111111111,\"#46039f\"],[0.2222222222222222,\"#7201a8\"],[0.3333333333333333,\"#9c179e\"],[0.4444444444444444,\"#bd3786\"],[0.5555555555555556,\"#d8576b\"],[0.6666666666666666,\"#ed7953\"],[0.7777777777777778,\"#fb9f3a\"],[0.8888888888888888,\"#fdca26\"],[1.0,\"#f0f921\"]],\"type\":\"heatmap\"}],\"heatmapgl\":[{\"colorbar\":{\"outlinewidth\":0,\"ticks\":\"\"},\"colorscale\":[[0.0,\"#0d0887\"],[0.1111111111111111,\"#46039f\"],[0.2222222222222222,\"#7201a8\"],[0.3333333333333333,\"#9c179e\"],[0.4444444444444444,\"#bd3786\"],[0.5555555555555556,\"#d8576b\"],[0.6666666666666666,\"#ed7953\"],[0.7777777777777778,\"#fb9f3a\"],[0.8888888888888888,\"#fdca26\"],[1.0,\"#f0f921\"]],\"type\":\"heatmapgl\"}],\"histogram\":[{\"marker\":{\"pattern\":{\"fillmode\":\"overlay\",\"size\":10,\"solidity\":0.2}},\"type\":\"histogram\"}],\"histogram2d\":[{\"colorbar\":{\"outlinewidth\":0,\"ticks\":\"\"},\"colorscale\":[[0.0,\"#0d0887\"],[0.1111111111111111,\"#46039f\"],[0.2222222222222222,\"#7201a8\"],[0.3333333333333333,\"#9c179e\"],[0.4444444444444444,\"#bd3786\"],[0.5555555555555556,\"#d8576b\"],[0.6666666666666666,\"#ed7953\"],[0.7777777777777778,\"#fb9f3a\"],[0.8888888888888888,\"#fdca26\"],[1.0,\"#f0f921\"]],\"type\":\"histogram2d\"}],\"histogram2dcontour\":[{\"colorbar\":{\"outlinewidth\":0,\"ticks\":\"\"},\"colorscale\":[[0.0,\"#0d0887\"],[0.1111111111111111,\"#46039f\"],[0.2222222222222222,\"#7201a8\"],[0.3333333333333333,\"#9c179e\"],[0.4444444444444444,\"#bd3786\"],[0.5555555555555556,\"#d8576b\"],[0.6666666666666666,\"#ed7953\"],[0.7777777777777778,\"#fb9f3a\"],[0.8888888888888888,\"#fdca26\"],[1.0,\"#f0f921\"]],\"type\":\"histogram2dcontour\"}],\"mesh3d\":[{\"colorbar\":{\"outlinewidth\":0,\"ticks\":\"\"},\"type\":\"mesh3d\"}],\"parcoords\":[{\"line\":{\"colorbar\":{\"outlinewidth\":0,\"ticks\":\"\"}},\"type\":\"parcoords\"}],\"pie\":[{\"automargin\":true,\"type\":\"pie\"}],\"scatter\":[{\"marker\":{\"colorbar\":{\"outlinewidth\":0,\"ticks\":\"\"}},\"type\":\"scatter\"}],\"scatter3d\":[{\"line\":{\"colorbar\":{\"outlinewidth\":0,\"ticks\":\"\"}},\"marker\":{\"colorbar\":{\"outlinewidth\":0,\"ticks\":\"\"}},\"type\":\"scatter3d\"}],\"scattercarpet\":[{\"marker\":{\"colorbar\":{\"outlinewidth\":0,\"ticks\":\"\"}},\"type\":\"scattercarpet\"}],\"scattergeo\":[{\"marker\":{\"colorbar\":{\"outlinewidth\":0,\"ticks\":\"\"}},\"type\":\"scattergeo\"}],\"scattergl\":[{\"marker\":{\"colorbar\":{\"outlinewidth\":0,\"ticks\":\"\"}},\"type\":\"scattergl\"}],\"scattermapbox\":[{\"marker\":{\"colorbar\":{\"outlinewidth\":0,\"ticks\":\"\"}},\"type\":\"scattermapbox\"}],\"scatterpolar\":[{\"marker\":{\"colorbar\":{\"outlinewidth\":0,\"ticks\":\"\"}},\"type\":\"scatterpolar\"}],\"scatterpolargl\":[{\"marker\":{\"colorbar\":{\"outlinewidth\":0,\"ticks\":\"\"}},\"type\":\"scatterpolargl\"}],\"scatterternary\":[{\"marker\":{\"colorbar\":{\"outlinewidth\":0,\"ticks\":\"\"}},\"type\":\"scatterternary\"}],\"surface\":[{\"colorbar\":{\"outlinewidth\":0,\"ticks\":\"\"},\"colorscale\":[[0.0,\"#0d0887\"],[0.1111111111111111,\"#46039f\"],[0.2222222222222222,\"#7201a8\"],[0.3333333333333333,\"#9c179e\"],[0.4444444444444444,\"#bd3786\"],[0.5555555555555556,\"#d8576b\"],[0.6666666666666666,\"#ed7953\"],[0.7777777777777778,\"#fb9f3a\"],[0.8888888888888888,\"#fdca26\"],[1.0,\"#f0f921\"]],\"type\":\"surface\"}],\"table\":[{\"cells\":{\"fill\":{\"color\":\"#EBF0F8\"},\"line\":{\"color\":\"white\"}},\"header\":{\"fill\":{\"color\":\"#C8D4E3\"},\"line\":{\"color\":\"white\"}},\"type\":\"table\"}]},\"layout\":{\"annotationdefaults\":{\"arrowcolor\":\"#2a3f5f\",\"arrowhead\":0,\"arrowwidth\":1},\"autotypenumbers\":\"strict\",\"coloraxis\":{\"colorbar\":{\"outlinewidth\":0,\"ticks\":\"\"}},\"colorscale\":{\"diverging\":[[0,\"#8e0152\"],[0.1,\"#c51b7d\"],[0.2,\"#de77ae\"],[0.3,\"#f1b6da\"],[0.4,\"#fde0ef\"],[0.5,\"#f7f7f7\"],[0.6,\"#e6f5d0\"],[0.7,\"#b8e186\"],[0.8,\"#7fbc41\"],[0.9,\"#4d9221\"],[1,\"#276419\"]],\"sequential\":[[0.0,\"#0d0887\"],[0.1111111111111111,\"#46039f\"],[0.2222222222222222,\"#7201a8\"],[0.3333333333333333,\"#9c179e\"],[0.4444444444444444,\"#bd3786\"],[0.5555555555555556,\"#d8576b\"],[0.6666666666666666,\"#ed7953\"],[0.7777777777777778,\"#fb9f3a\"],[0.8888888888888888,\"#fdca26\"],[1.0,\"#f0f921\"]],\"sequentialminus\":[[0.0,\"#0d0887\"],[0.1111111111111111,\"#46039f\"],[0.2222222222222222,\"#7201a8\"],[0.3333333333333333,\"#9c179e\"],[0.4444444444444444,\"#bd3786\"],[0.5555555555555556,\"#d8576b\"],[0.6666666666666666,\"#ed7953\"],[0.7777777777777778,\"#fb9f3a\"],[0.8888888888888888,\"#fdca26\"],[1.0,\"#f0f921\"]]},\"colorway\":[\"#636efa\",\"#EF553B\",\"#00cc96\",\"#ab63fa\",\"#FFA15A\",\"#19d3f3\",\"#FF6692\",\"#B6E880\",\"#FF97FF\",\"#FECB52\"],\"font\":{\"color\":\"#2a3f5f\"},\"geo\":{\"bgcolor\":\"white\",\"lakecolor\":\"white\",\"landcolor\":\"#E5ECF6\",\"showlakes\":true,\"showland\":true,\"subunitcolor\":\"white\"},\"hoverlabel\":{\"align\":\"left\"},\"hovermode\":\"closest\",\"mapbox\":{\"style\":\"light\"},\"paper_bgcolor\":\"white\",\"plot_bgcolor\":\"#E5ECF6\",\"polar\":{\"angularaxis\":{\"gridcolor\":\"white\",\"linecolor\":\"white\",\"ticks\":\"\"},\"bgcolor\":\"#E5ECF6\",\"radialaxis\":{\"gridcolor\":\"white\",\"linecolor\":\"white\",\"ticks\":\"\"}},\"scene\":{\"xaxis\":{\"backgroundcolor\":\"#E5ECF6\",\"gridcolor\":\"white\",\"gridwidth\":2,\"linecolor\":\"white\",\"showbackground\":true,\"ticks\":\"\",\"zerolinecolor\":\"white\"},\"yaxis\":{\"backgroundcolor\":\"#E5ECF6\",\"gridcolor\":\"white\",\"gridwidth\":2,\"linecolor\":\"white\",\"showbackground\":true,\"ticks\":\"\",\"zerolinecolor\":\"white\"},\"zaxis\":{\"backgroundcolor\":\"#E5ECF6\",\"gridcolor\":\"white\",\"gridwidth\":2,\"linecolor\":\"white\",\"showbackground\":true,\"ticks\":\"\",\"zerolinecolor\":\"white\"}},\"shapedefaults\":{\"line\":{\"color\":\"#2a3f5f\"}},\"ternary\":{\"aaxis\":{\"gridcolor\":\"white\",\"linecolor\":\"white\",\"ticks\":\"\"},\"baxis\":{\"gridcolor\":\"white\",\"linecolor\":\"white\",\"ticks\":\"\"},\"bgcolor\":\"#E5ECF6\",\"caxis\":{\"gridcolor\":\"white\",\"linecolor\":\"white\",\"ticks\":\"\"}},\"title\":{\"x\":0.05},\"xaxis\":{\"automargin\":true,\"gridcolor\":\"white\",\"linecolor\":\"white\",\"ticks\":\"\",\"title\":{\"standoff\":15},\"zerolinecolor\":\"white\",\"zerolinewidth\":2},\"yaxis\":{\"automargin\":true,\"gridcolor\":\"white\",\"linecolor\":\"white\",\"ticks\":\"\",\"title\":{\"standoff\":15},\"zerolinecolor\":\"white\",\"zerolinewidth\":2}}},\"xaxis\":{\"anchor\":\"y\",\"domain\":[0.0,1.0],\"title\":{\"text\":\"Region\"}},\"yaxis\":{\"anchor\":\"x\",\"domain\":[0.0,1.0],\"title\":{\"text\":\"value\"}},\"legend\":{\"title\":{\"text\":\"variable\"},\"tracegroupgap\":0},\"title\":{\"text\":\"Freq by Region\"},\"autosize\":false,\"width\":800,\"height\":600},                        {\"responsive\": true}                    ).then(function(){\n",
       "                            \n",
       "var gd = document.getElementById('29f1c464-42aa-4bcd-a1c0-bed9c3654dac');\n",
       "var x = new MutationObserver(function (mutations, observer) {{\n",
       "        var display = window.getComputedStyle(gd).display;\n",
       "        if (!display || display === 'none') {{\n",
       "            console.log([gd, 'removed!']);\n",
       "            Plotly.purge(gd);\n",
       "            observer.disconnect();\n",
       "        }}\n",
       "}});\n",
       "\n",
       "// Listen for the removal of the full notebook cells\n",
       "var notebookContainer = gd.closest('#notebook-container');\n",
       "if (notebookContainer) {{\n",
       "    x.observe(notebookContainer, {childList: true});\n",
       "}}\n",
       "\n",
       "// Listen for the clearing of the current output cell\n",
       "var outputEl = gd.closest('.output');\n",
       "if (outputEl) {{\n",
       "    x.observe(outputEl, {childList: true});\n",
       "}}\n",
       "\n",
       "                        })                };                            </script>        </div>\n",
       "</body>\n",
       "</html>"
      ]
     },
     "metadata": {},
     "output_type": "display_data"
    }
   ],
   "source": [
    "plot_freq_by_models('Region')"
   ]
  },
  {
   "cell_type": "markdown",
   "metadata": {
    "id": "KGaRYUQdn8Ev"
   },
   "source": [
    "## 6. Next"
   ]
  },
  {
   "cell_type": "markdown",
   "metadata": {
    "id": "K3lzMMF6oBMs",
    "pycharm": {
     "name": "#%% md\n"
    }
   },
   "source": [
    "Consider the following in the future:\n",
    "- interaction\n",
    "- more diagnostic tests\n",
    "- residual plots\n",
    "- create lift curves / gain curves"
   ]
  }
 ],
 "metadata": {
  "colab": {
   "collapsed_sections": [],
   "name": "01_Poisson_GLM.ipynb",
   "provenance": []
  },
  "kernelspec": {
   "display_name": "Python [conda env:keras]",
   "language": "python",
   "name": "conda-env-keras-py"
  },
  "language_info": {
   "codemirror_mode": {
    "name": "ipython",
    "version": 3
   },
   "file_extension": ".py",
   "mimetype": "text/x-python",
   "name": "python",
   "nbconvert_exporter": "python",
   "pygments_lexer": "ipython3",
   "version": "3.9.10"
  }
 },
 "nbformat": 4,
 "nbformat_minor": 1
}
