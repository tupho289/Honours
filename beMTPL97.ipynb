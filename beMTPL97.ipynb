{
 "cells": [
  {
   "cell_type": "code",
   "execution_count": 7,
   "metadata": {},
   "outputs": [],
   "source": [
    "############################ 0. PREPARATION ############################\n",
    "\n",
    "#-------------------------- import packages --------------------------\n",
    "import random\n",
    "import os\n",
    "import matplotlib.pyplot as plt\n",
    "import numpy as np\n",
    "import pandas as pd\n",
    "import statsmodels.api as sm\n",
    "from itertools import combinations, product\n",
    "import pyreadr\n",
    "import seaborn as sns\n",
    "import copy\n",
    "\n",
    "import tensorflow as tf\n",
    "import tensorflow_lattice as tfl\n",
    "from tensorflow import keras\n",
    "from keras.models import Sequential, Model\n",
    "from keras.layers import Dense, Input, Multiply, Add, Embedding, Reshape, Concatenate, Dropout, BatchNormalization, Lambda, Layer, CategoryEncoding, Activation\n",
    "from keras.constraints import Constraint\n",
    "from keras.callbacks import EarlyStopping\n",
    "from keras.initializers import Zeros, Constant\n",
    "from keras.optimizers.legacy import Adam, Nadam, RMSprop\n",
    "from keras.models import clone_model\n",
    "import keras_tuner as kt\n",
    "from keras import backend as K\n",
    "from keras import regularizers\n",
    "from keras.utils import plot_model\n",
    "from keras.losses import Poisson, Loss\n",
    "from keras.metrics import MeanAbsoluteError, RootMeanSquaredError\n",
    "\n",
    "# import xgboost as xgb\n",
    "from scipy.stats import uniform, randint\n",
    "from pygam import GammaGAM, GAM, s, f, l, te # s for spline, f for factor, l for linear, te for tensor product\n",
    "from sklearn.pipeline import Pipeline\n",
    "from sklearn.compose import ColumnTransformer\n",
    "from sklearn.model_selection import train_test_split, StratifiedKFold, RandomizedSearchCV\n",
    "from sklearn.preprocessing import OneHotEncoder, StandardScaler, OrdinalEncoder\n",
    "from sklearn.impute import SimpleImputer\n",
    "from sklearn.compose import make_column_transformer\n",
    "from sklearn.metrics import mean_squared_error as mse\n",
    "from sklearn.metrics import mean_absolute_error as mae\n",
    "from sklearn.metrics import make_scorer\n",
    "from interpret.glassbox import ExplainableBoostingRegressor"
   ]
  },
  {
   "cell_type": "code",
   "execution_count": null,
   "metadata": {},
   "outputs": [],
   "source": [
    "#-------------------------- import data --------------------------\n",
    "'''we use the popular French Motor TPL insurance claim data '''\n",
    "r_data = pyreadr.read_r(\"data/freMPL1.rda\")\n",
    "data = r_data['freMPL1']"
   ]
  },
  {
   "cell_type": "code",
   "execution_count": 2,
   "metadata": {},
   "outputs": [],
   "source": [
    "############################ 1. PREPROCESSING ############################\n",
    "\n",
    "#-------------------------- filter claim data --------------------------\n",
    "\n",
    "# drop unnecessary columns and filter policies with positive claims\n",
    "claim = data[data[\"ClaimInd\"] == 1].drop(columns = [\"RecordBeg\", \"RecordEnd\", \"ClaimInd\"]).reset_index(drop = True)\n",
    "claim.head()\n",
    "\n",
    "# global variables\n",
    "cont_vars = [\"LicAge\", \"DrivAge\", \"BonusMalus\"] # continuous variables\n",
    "ordinal_vars = [\"RiskVar\", \"VehAge\", \"VehPrice\", \"VehMaxSpeed\"] # ordinal categorical variables\n",
    "nominal_vars = [] # nominal categorical variables\n",
    "for var in claim.columns:\n",
    "    if var not in cont_vars + [\"Exposure\", \"ClaimAmount\"] + ordinal_vars:\n",
    "        nominal_vars.append(var)\n",
    "cat_vars = nominal_vars + ordinal_vars\n",
    "\n",
    "\n",
    "# #-------------------------- cap outliers for ClaimAmount --------------------------\n",
    "log_claim = np.log(claim['ClaimAmount'])\n",
    "IQR = log_claim.quantile(0.75) - log_claim.quantile(0.25) # inter-quartile range\n",
    "lower_whisker = log_claim.quantile(0.25)- 1.5*IQR\n",
    "upper_whisker = log_claim.quantile(0.75) + 1.5*IQR\n",
    "\n",
    "# apply caps\n",
    "claim['ClaimAmount'] = np.exp(np.where(log_claim < lower_whisker, lower_whisker, log_claim))\n",
    "claim['ClaimAmount'] = np.exp(np.where(log_claim > upper_whisker, upper_whisker, np.log(claim['ClaimAmount'])))\n",
    "\n",
    "\n",
    "# -------------------------- remove outliers for BonusMalus --------------------------\n",
    "claim[\"BonusMalus\"] = np.where(claim[\"BonusMalus\"] > 150, 150, claim[\"BonusMalus\"])\n",
    "claim[\"BonusMalus\"] = np.where(claim[\"BonusMalus\"] > 150, 150, claim[\"BonusMalus\"])"
   ]
  }
 ],
 "metadata": {
  "kernelspec": {
   "display_name": "keras2",
   "language": "python",
   "name": "python3"
  },
  "language_info": {
   "codemirror_mode": {
    "name": "ipython",
    "version": 3
   },
   "file_extension": ".py",
   "mimetype": "text/x-python",
   "name": "python",
   "nbconvert_exporter": "python",
   "pygments_lexer": "ipython3",
   "version": "3.11.10"
  }
 },
 "nbformat": 4,
 "nbformat_minor": 2
}
