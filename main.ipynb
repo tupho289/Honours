{
 "cells": [
  {
   "cell_type": "code",
   "execution_count": 81,
   "metadata": {},
   "outputs": [],
   "source": [
    "############################ 0. PREPARATION ############################\n",
    "\n",
    "#-------------------------- import packages --------------------------\n",
    "import random\n",
    "import matplotlib.pyplot as plt\n",
    "import numpy as np\n",
    "import pandas as pd\n",
    "import statsmodels.api as sm\n",
    "\n",
    "import tensorflow as tf\n",
    "import keras\n",
    "from keras.models import Sequential, Model\n",
    "from keras.layers import Dense, Input, Multiply, Add, Embedding, Reshape, Concatenate, Dropout\n",
    "from keras.callbacks import EarlyStopping\n",
    "from tensorflow.keras.optimizers.legacy import Adam # the non-legacy version runs slowly on Mac\n",
    "import keras_tuner as kt\n",
    "from keras.utils import plot_model\n",
    "\n",
    "from sklearn.model_selection import train_test_split, StratifiedKFold\n",
    "from sklearn.preprocessing import OneHotEncoder, StandardScaler, OrdinalEncoder\n",
    "from sklearn.impute import SimpleImputer\n",
    "from sklearn.metrics import mean_squared_error as mse\n",
    "from sklearn.compose import make_column_transformer\n",
    "from NAM_models import ActivationLayer, FeatureNN, NAM\n",
    "\n",
    "#-------------------------- import data --------------------------\n",
    "'''we use the popular French Motor TPL insurance claim data '''\n",
    "freq = pd.read_csv(\"data/freMTPL2freq.csv\")\n",
    "sev = pd.read_csv(\"data/freMTPL2sev.csv\")"
   ]
  },
  {
   "cell_type": "code",
   "execution_count": 82,
   "metadata": {},
   "outputs": [],
   "source": [
    "############################ 1. PREPROCESSING ############################\n",
    "\n",
    "random.seed(2000)\n",
    "\n",
    "#-------------------------- merge/filter claim data --------------------------\n",
    "# complete claim severity data\n",
    "claimsev = sev.merge(freq, on = 'IDpol', how = 'left')\n",
    "claimsev = claimsev.drop(columns = ['ClaimNb', 'Exposure'])\n",
    "\n",
    "# drop ID\n",
    "claimfreq = freq.drop(columns = \"IDpol\")\n",
    "\n",
    "\n",
    "#-------------------------- subsample and split --------------------------\n",
    "# train-test-split\n",
    "claimfreq['ClaimNb_Cat'] = np.where(claimfreq['ClaimNb'] == 0, 0, 1) # for stratified splitting\n",
    "X_train, X_test, y_train, y_test = train_test_split(\n",
    "    claimfreq.drop([\"ClaimNb\", \"ClaimNb_Cat\"], axis = 1), \n",
    "    claimfreq[\"ClaimNb\"], \n",
    "    stratify = claimfreq[\"ClaimNb_Cat\"], \n",
    "    random_state = 2000)\n",
    "claimfreq = claimfreq.drop(\"ClaimNb_Cat\", axis = 1)"
   ]
  },
  {
   "cell_type": "code",
   "execution_count": 83,
   "metadata": {},
   "outputs": [
    {
     "name": "stdout",
     "output_type": "stream",
     "text": [
      "{'Exposure': 1, 'VehPower': 1, 'VehAge': 1, 'DrivAge': 1, 'BonusMalus': 1, 'VehBrand': 11, 'VehGas': 1, 'Area': 1, 'Density': 1, 'Region': 21}\n"
     ]
    }
   ],
   "source": [
    "#-------------------------- feature transformation --------------------------\n",
    "\n",
    "# define transformer\n",
    "ct = make_column_transformer(\n",
    "    (\"passthrough\", [\"Exposure\"]),\n",
    "    (OrdinalEncoder(), [\"Area\", \"VehGas\"]),\n",
    "    (OneHotEncoder(), [\"VehBrand\", \"Region\"]),\n",
    "    remainder = StandardScaler(),\n",
    "    verbose_feature_names_out = False\n",
    ")\n",
    "\n",
    "\n",
    "# fit & transform\n",
    "train = ct.fit_transform(X_train).toarray()\n",
    "test = ct.transform(X_test).toarray()\n",
    "feature_names = ct.get_feature_names_out()  # get the columns' names\n",
    "\n",
    "\n",
    "# feature summary\n",
    "feature_expansion = {} # number of columns for each feature after transformation\n",
    "for original_feature in X_train.columns:\n",
    "    # For each original feature, count how many transformed feature names start with it\n",
    "    count = sum(fn.startswith(original_feature) for fn in feature_names)\n",
    "    feature_expansion[original_feature] = count\n",
    "print(feature_expansion)"
   ]
  },
  {
   "cell_type": "code",
   "execution_count": 84,
   "metadata": {},
   "outputs": [],
   "source": [
    "############################ 2. NAM ############################\n",
    "\n",
    "#-------------------------- define functions to create NAM and subnets --------------------------\n",
    "'''create subnetwork for each feature/group of features'''\n",
    "def create_subnet(input_shape):\n",
    "    model = Sequential([\n",
    "        Dense(64, activation = 'leaky_relu'),\n",
    "        Dense(32, activation = 'leaky_relu'),\n",
    "        Dense(1, activation = 'softplus')  # output layer for the subnet, assuming a scalar output\n",
    "    ])\n",
    "    return model\n",
    "\n",
    "\n",
    "'''create NAM'''\n",
    "def create_nam_model(feature_expansion):\n",
    "    inputs = [] # store the input layer of each subnet \n",
    "    sub_outputs = [] # store the output of each subnetwork\n",
    "    for name, num_columns in feature_expansion.items():\n",
    "        input_layer = Input(name = name, shape = (num_columns,))\n",
    "        inputs.append(input_layer)\n",
    "        \n",
    "        if name == \"Exposure\":\n",
    "            # assume the first input is the exposure, we directly use it without a subnet\n",
    "            exposure_input = input_layer\n",
    "        else:\n",
    "            # create subnet for each feature/group of features\n",
    "            subnet = create_subnet(num_columns)\n",
    "            sub_output = subnet(input_layer)\n",
    "            sub_outputs.append(sub_output)\n",
    "    \n",
    "    # concatenate the outputs of the subnets and sum them\n",
    "    sum_of_subs = Add()(sub_outputs)\n",
    "    \n",
    "    # multiply the exposure input by the sum of subnets' outputs\n",
    "    final_output = Multiply()([exposure_input, sum_of_subs])\n",
    "    \n",
    "    # final model\n",
    "    model = Model(inputs = inputs, outputs = final_output)\n",
    "    return model"
   ]
  },
  {
   "cell_type": "code",
   "execution_count": null,
   "metadata": {},
   "outputs": [],
   "source": [
    "############################ 2. NAM ############################\n",
    "\n",
    "#-------------------------- define functions to create NAM and subnets --------------------------\n"
   ]
  },
  {
   "cell_type": "code",
   "execution_count": 85,
   "metadata": {},
   "outputs": [
    {
     "name": "stdout",
     "output_type": "stream",
     "text": [
      "Epoch 1/50\n",
      "3179/3179 [==============================] - 8s 2ms/step - loss: 0.2459 - mean_squared_error: 0.1769 - poisson: 0.2459 - val_loss: 0.2105 - val_mean_squared_error: 0.0559 - val_poisson: 0.2105\n",
      "Epoch 2/50\n",
      "3179/3179 [==============================] - 8s 2ms/step - loss: 0.2088 - mean_squared_error: 0.0577 - poisson: 0.2088 - val_loss: 0.2084 - val_mean_squared_error: 0.0558 - val_poisson: 0.2084\n",
      "Epoch 3/50\n",
      "3179/3179 [==============================] - 8s 2ms/step - loss: 0.2077 - mean_squared_error: 0.0576 - poisson: 0.2077 - val_loss: 0.2073 - val_mean_squared_error: 0.0556 - val_poisson: 0.2073\n",
      "Epoch 4/50\n",
      "3179/3179 [==============================] - 8s 2ms/step - loss: 0.2068 - mean_squared_error: 0.0576 - poisson: 0.2068 - val_loss: 0.2063 - val_mean_squared_error: 0.0557 - val_poisson: 0.2063\n",
      "Epoch 5/50\n",
      "3179/3179 [==============================] - 8s 2ms/step - loss: 0.2062 - mean_squared_error: 0.0575 - poisson: 0.2062 - val_loss: 0.2062 - val_mean_squared_error: 0.0559 - val_poisson: 0.2062\n",
      "Epoch 6/50\n",
      "3179/3179 [==============================] - 8s 2ms/step - loss: 0.2056 - mean_squared_error: 0.0575 - poisson: 0.2056 - val_loss: 0.2055 - val_mean_squared_error: 0.0556 - val_poisson: 0.2055\n",
      "Epoch 7/50\n",
      "3179/3179 [==============================] - 8s 2ms/step - loss: 0.2053 - mean_squared_error: 0.0575 - poisson: 0.2053 - val_loss: 0.2057 - val_mean_squared_error: 0.0555 - val_poisson: 0.2057\n",
      "Epoch 8/50\n",
      "3179/3179 [==============================] - 7s 2ms/step - loss: 0.2052 - mean_squared_error: 0.0575 - poisson: 0.2052 - val_loss: 0.2055 - val_mean_squared_error: 0.0556 - val_poisson: 0.2055\n",
      "Epoch 9/50\n",
      "3179/3179 [==============================] - 8s 2ms/step - loss: 0.2050 - mean_squared_error: 0.0575 - poisson: 0.2050 - val_loss: 0.2054 - val_mean_squared_error: 0.0555 - val_poisson: 0.2054\n",
      "Epoch 10/50\n",
      "3179/3179 [==============================] - 8s 2ms/step - loss: 0.2050 - mean_squared_error: 0.0575 - poisson: 0.2050 - val_loss: 0.2061 - val_mean_squared_error: 0.0555 - val_poisson: 0.2061\n",
      "Epoch 11/50\n",
      "3179/3179 [==============================] - 7s 2ms/step - loss: 0.2048 - mean_squared_error: 0.0575 - poisson: 0.2048 - val_loss: 0.2054 - val_mean_squared_error: 0.0555 - val_poisson: 0.2054\n",
      "Epoch 12/50\n",
      "3179/3179 [==============================] - 8s 2ms/step - loss: 0.2048 - mean_squared_error: 0.0575 - poisson: 0.2048 - val_loss: 0.2053 - val_mean_squared_error: 0.0555 - val_poisson: 0.2053\n",
      "Epoch 13/50\n",
      "3179/3179 [==============================] - 8s 2ms/step - loss: 0.2047 - mean_squared_error: 0.0575 - poisson: 0.2047 - val_loss: 0.2052 - val_mean_squared_error: 0.0555 - val_poisson: 0.2052\n",
      "Epoch 14/50\n",
      "3179/3179 [==============================] - 8s 2ms/step - loss: 0.2047 - mean_squared_error: 0.0575 - poisson: 0.2047 - val_loss: 0.2053 - val_mean_squared_error: 0.0557 - val_poisson: 0.2053\n",
      "Epoch 15/50\n",
      "3179/3179 [==============================] - 8s 2ms/step - loss: 0.2045 - mean_squared_error: 0.0575 - poisson: 0.2045 - val_loss: 0.2053 - val_mean_squared_error: 0.0555 - val_poisson: 0.2053\n",
      "Epoch 16/50\n",
      "3179/3179 [==============================] - 7s 2ms/step - loss: 0.2045 - mean_squared_error: 0.0575 - poisson: 0.2045 - val_loss: 0.2056 - val_mean_squared_error: 0.0556 - val_poisson: 0.2056\n",
      "Epoch 17/50\n",
      "3179/3179 [==============================] - 8s 2ms/step - loss: 0.2044 - mean_squared_error: 0.0575 - poisson: 0.2044 - val_loss: 0.2051 - val_mean_squared_error: 0.0555 - val_poisson: 0.2051\n",
      "Epoch 18/50\n",
      "3179/3179 [==============================] - 7s 2ms/step - loss: 0.2044 - mean_squared_error: 0.0575 - poisson: 0.2044 - val_loss: 0.2052 - val_mean_squared_error: 0.0559 - val_poisson: 0.2052\n",
      "Epoch 19/50\n",
      "3179/3179 [==============================] - 8s 2ms/step - loss: 0.2043 - mean_squared_error: 0.0575 - poisson: 0.2043 - val_loss: 0.2050 - val_mean_squared_error: 0.0557 - val_poisson: 0.2050\n",
      "Epoch 20/50\n",
      "3179/3179 [==============================] - 8s 2ms/step - loss: 0.2043 - mean_squared_error: 0.0575 - poisson: 0.2043 - val_loss: 0.2059 - val_mean_squared_error: 0.0562 - val_poisson: 0.2059\n",
      "Epoch 21/50\n",
      "3179/3179 [==============================] - 8s 2ms/step - loss: 0.2043 - mean_squared_error: 0.0575 - poisson: 0.2043 - val_loss: 0.2053 - val_mean_squared_error: 0.0560 - val_poisson: 0.2053\n",
      "Epoch 22/50\n",
      "3179/3179 [==============================] - 8s 2ms/step - loss: 0.2042 - mean_squared_error: 0.0575 - poisson: 0.2042 - val_loss: 0.2052 - val_mean_squared_error: 0.0558 - val_poisson: 0.2052\n",
      "Epoch 23/50\n",
      "3179/3179 [==============================] - 8s 2ms/step - loss: 0.2042 - mean_squared_error: 0.0574 - poisson: 0.2042 - val_loss: 0.2053 - val_mean_squared_error: 0.0555 - val_poisson: 0.2053\n",
      "Epoch 24/50\n",
      "3179/3179 [==============================] - 8s 2ms/step - loss: 0.2042 - mean_squared_error: 0.0574 - poisson: 0.2042 - val_loss: 0.2049 - val_mean_squared_error: 0.0557 - val_poisson: 0.2049\n",
      "Epoch 25/50\n",
      "3179/3179 [==============================] - 8s 2ms/step - loss: 0.2041 - mean_squared_error: 0.0575 - poisson: 0.2041 - val_loss: 0.2050 - val_mean_squared_error: 0.0558 - val_poisson: 0.2050\n",
      "Epoch 26/50\n",
      "3179/3179 [==============================] - 8s 2ms/step - loss: 0.2041 - mean_squared_error: 0.0574 - poisson: 0.2041 - val_loss: 0.2059 - val_mean_squared_error: 0.0561 - val_poisson: 0.2059\n",
      "Epoch 27/50\n",
      "3179/3179 [==============================] - 8s 2ms/step - loss: 0.2041 - mean_squared_error: 0.0575 - poisson: 0.2041 - val_loss: 0.2049 - val_mean_squared_error: 0.0555 - val_poisson: 0.2049\n",
      "Epoch 28/50\n",
      "3179/3179 [==============================] - 8s 2ms/step - loss: 0.2040 - mean_squared_error: 0.0575 - poisson: 0.2040 - val_loss: 0.2052 - val_mean_squared_error: 0.0556 - val_poisson: 0.2052\n",
      "Epoch 29/50\n",
      "3179/3179 [==============================] - 8s 2ms/step - loss: 0.2039 - mean_squared_error: 0.0574 - poisson: 0.2039 - val_loss: 0.2054 - val_mean_squared_error: 0.0557 - val_poisson: 0.2054\n",
      "Epoch 30/50\n",
      "3179/3179 [==============================] - 8s 2ms/step - loss: 0.2039 - mean_squared_error: 0.0574 - poisson: 0.2039 - val_loss: 0.2048 - val_mean_squared_error: 0.0556 - val_poisson: 0.2048\n",
      "Epoch 31/50\n",
      "3179/3179 [==============================] - 7s 2ms/step - loss: 0.2039 - mean_squared_error: 0.0574 - poisson: 0.2039 - val_loss: 0.2051 - val_mean_squared_error: 0.0559 - val_poisson: 0.2051\n",
      "Epoch 32/50\n",
      "3179/3179 [==============================] - 8s 2ms/step - loss: 0.2039 - mean_squared_error: 0.0574 - poisson: 0.2039 - val_loss: 0.2054 - val_mean_squared_error: 0.0559 - val_poisson: 0.2054\n",
      "Epoch 33/50\n",
      "3179/3179 [==============================] - 8s 2ms/step - loss: 0.2038 - mean_squared_error: 0.0574 - poisson: 0.2038 - val_loss: 0.2048 - val_mean_squared_error: 0.0557 - val_poisson: 0.2048\n",
      "Epoch 34/50\n",
      "3179/3179 [==============================] - 8s 2ms/step - loss: 0.2038 - mean_squared_error: 0.0574 - poisson: 0.2038 - val_loss: 0.2052 - val_mean_squared_error: 0.0555 - val_poisson: 0.2052\n",
      "Epoch 35/50\n",
      "3179/3179 [==============================] - 8s 2ms/step - loss: 0.2038 - mean_squared_error: 0.0574 - poisson: 0.2038 - val_loss: 0.2052 - val_mean_squared_error: 0.0556 - val_poisson: 0.2052\n",
      "Epoch 36/50\n",
      "3179/3179 [==============================] - 7s 2ms/step - loss: 0.2038 - mean_squared_error: 0.0574 - poisson: 0.2038 - val_loss: 0.2050 - val_mean_squared_error: 0.0555 - val_poisson: 0.2050\n",
      "Epoch 37/50\n",
      "3179/3179 [==============================] - 8s 2ms/step - loss: 0.2037 - mean_squared_error: 0.0574 - poisson: 0.2037 - val_loss: 0.2050 - val_mean_squared_error: 0.0554 - val_poisson: 0.2050\n",
      "Epoch 38/50\n",
      "3175/3179 [============================>.] - ETA: 0s - loss: 0.2037 - mean_squared_error: 0.0574 - poisson: 0.2037Restoring model weights from the end of the best epoch: 33.\n",
      "3179/3179 [==============================] - 8s 2ms/step - loss: 0.2037 - mean_squared_error: 0.0574 - poisson: 0.2037 - val_loss: 0.2052 - val_mean_squared_error: 0.0557 - val_poisson: 0.2052\n",
      "Epoch 38: early stopping\n"
     ]
    },
    {
     "data": {
      "text/plain": [
       "<keras.src.callbacks.History at 0x4acb14450>"
      ]
     },
     "execution_count": 85,
     "metadata": {},
     "output_type": "execute_result"
    }
   ],
   "source": [
    "# -------------------------- fit a NAM to training data --------------------------\n",
    "\n",
    "model_NAM = create_nam_model(feature_expansion)  # create NAM\n",
    "model_NAM.compile(\n",
    "    optimizer=\"adam\", loss=\"poisson\", metrics=[\"mean_squared_error\", \"poisson\"]\n",
    ")\n",
    "es = EarlyStopping(patience=5, restore_best_weights=True, verbose=1)\n",
    "\n",
    "# training data need to be split into different arrays, each correponds to input for a particular subnet\n",
    "start = 0\n",
    "X_train_split = []\n",
    "for size in feature_expansion.values():\n",
    "    end = start + size\n",
    "    X_train_split.append(train[:, start:end])\n",
    "    start = end\n",
    "\n",
    "# fit the model\n",
    "model_NAM.fit(\n",
    "    X_train_split,\n",
    "    y_train,\n",
    "    epochs = 50,\n",
    "    batch_size = 128,\n",
    "    callbacks = [es],\n",
    "    validation_split = 0.2,\n",
    ")"
   ]
  },
  {
   "cell_type": "code",
   "execution_count": 86,
   "metadata": {},
   "outputs": [
    {
     "data": {
      "image/png": "[encoded data removed]",
      "text/plain": [
       "<IPython.core.display.Image object>"
      ]
     },
     "execution_count": 86,
     "metadata": {},
     "output_type": "execute_result"
    }
   ],
   "source": [
    "#-------------------------- plot model --------------------------\n",
    "plot_model(model_NAM, show_layer_names = True, show_shapes = True)"
   ]
  },
  {
   "cell_type": "code",
   "execution_count": 87,
   "metadata": {},
   "outputs": [
    {
     "name": "stdout",
     "output_type": "stream",
     "text": [
      "5297/5297 [==============================] - 3s 635us/step - loss: 0.2055 - mean_squared_error: 0.0561 - poisson: 0.2055\n",
      "NAM test set metrics ~ Poisson loss: 0.2055, MSE: 0.0561\n"
     ]
    }
   ],
   "source": [
    "#-------------------------- evaluate on testing data --------------------------\n",
    "\n",
    "# split testing data into different sets\n",
    "start = 0\n",
    "X_test_split = []\n",
    "for size in feature_expansion.values():\n",
    "    end = start + size\n",
    "    X_test_split.append(test[:, start:end])\n",
    "    start = end\n",
    "\n",
    "# evaluation\n",
    "nam_poisson_loss, nam_mse, _ = model_NAM.evaluate(X_test_split, y_test)\n",
    "print(f\"NAM test set metrics ~ Poisson loss: {nam_poisson_loss:.4f}, MSE: {nam_mse:.4f}\")"
   ]
  },
  {
   "cell_type": "code",
   "execution_count": 88,
   "metadata": {},
   "outputs": [],
   "source": [
    "############################ 3. GLM ############################\n",
    "\n",
    "#-------------------------- preprocessing --------------------------\n",
    "'''we want to use dummy encoding for VehBrand and Region so 2 columns need\n",
    "to be removed from both training and test data. These 2 columns are the reference\n",
    "levels for VehBrand and Region. Choose B12 for VehBrand and Centre for Region.'''\n",
    "\n",
    "# separate the offset term (or exposure)\n",
    "offset_train = train[:, 0]\n",
    "offset_test = test[:, 0]\n",
    "\n",
    "# index for reference level in feature_names\n",
    "ref_index = [np.where(feature_names == \"VehBrand_B12\")[0][0],\n",
    "             np.where(feature_names == \"Region_Centre\")[0][0]]\n",
    "ref_index.append(0) # Exposure\n",
    "\n",
    "# remove reference levels\n",
    "train_dummy = np.delete(train, ref_index, axis = 1)\n",
    "test_dummy = np.delete(test, ref_index, axis = 1)\n",
    "feature_dummy = [feature for i, feature in enumerate(feature_names) if i not in ref_index]\n",
    "\n",
    "# add a constant to the model (intercept)\n",
    "train_dummy = sm.add_constant(train_dummy)\n",
    "test_dummy = sm.add_constant(test_dummy)"
   ]
  },
  {
   "cell_type": "code",
   "execution_count": 89,
   "metadata": {},
   "outputs": [
    {
     "data": {
      "text/plain": [
       "array([[ 1.        ,  2.        ,  0.        , ..., -0.17701726,\n",
       "        -0.62489265, -0.3504369 ],\n",
       "       [ 1.        ,  4.        ,  0.        , ..., -0.6013795 ,\n",
       "         0.52641895,  0.2391318 ],\n",
       "       [ 1.        ,  0.        ,  0.        , ...,  0.24734498,\n",
       "        -0.62489265, -0.44413983],\n",
       "       ...,\n",
       "       [ 1.        ,  2.        ,  1.        , ...,  0.53025314,\n",
       "        -0.62489265, -0.35955394],\n",
       "       [ 1.        ,  2.        ,  1.        , ...,  0.24734498,\n",
       "        -0.62489265, -0.42134722],\n",
       "       [ 1.        ,  2.        ,  0.        , ..., -0.9550147 ,\n",
       "         0.78226597, -0.38943758]])"
      ]
     },
     "execution_count": 89,
     "metadata": {},
     "output_type": "execute_result"
    }
   ],
   "source": [
    "train_dummy"
   ]
  },
  {
   "cell_type": "code",
   "execution_count": 90,
   "metadata": {},
   "outputs": [],
   "source": [
    "#-------------------------- fit a GLM model --------------------------\n",
    "model_GLM = sm.GLM(y_train, train_dummy, family = sm.families.Poisson(), offset = offset_train)\n",
    "results = model_GLM.fit()\n",
    "# results.summary()"
   ]
  },
  {
   "cell_type": "code",
   "execution_count": 91,
   "metadata": {},
   "outputs": [
    {
     "name": "stdout",
     "output_type": "stream",
     "text": [
      "0.05597262732209103\n"
     ]
    }
   ],
   "source": [
    "#-------------------------- evaluation --------------------------\n",
    "GLM_pred = results.predict(test_dummy, offset = offset_test)\n",
    "GLM_mse = mse(y_test, GLM_pred)\n",
    "print(GLM_mse)"
   ]
  },
  {
   "cell_type": "code",
   "execution_count": 92,
   "metadata": {},
   "outputs": [
    {
     "data": {
      "text/plain": [
       "0.20340569755381815"
      ]
     },
     "execution_count": 92,
     "metadata": {},
     "output_type": "execute_result"
    }
   ],
   "source": [
    "# Calculate the Poisson loss for the GLM model which Keras uses\n",
    "glm_poisson_loss = keras.losses.Poisson()(y_test, GLM_pred).numpy()\n",
    "glm_poisson_loss"
   ]
  },
  {
   "cell_type": "code",
   "execution_count": 93,
   "metadata": {},
   "outputs": [],
   "source": [
    "############################ 4. NEURAL NETWORKS ############################\n",
    "\n",
    "#-------------------------- preprocessing --------------------------\n",
    "ct_NN = make_column_transformer(\n",
    "    (\"passthrough\", [\"Exposure\"]),\n",
    "    (OrdinalEncoder(), [\"Area\", \"VehGas\", \"VehBrand\", \"Region\"]),\n",
    "    remainder = StandardScaler(),\n",
    "    verbose_feature_names_out = False)\n",
    "\n",
    "\n",
    "# transform the data\n",
    "train_NN = ct_NN.fit_transform(X_train)\n",
    "test_NN = ct_NN.transform(X_test)\n",
    "feature_names_NN = ct_NN.get_feature_names_out()  # get the columns' names\n",
    "\n",
    "\n",
    "# separate exposure column\n",
    "exposure_index = np.where(feature_names_NN == \"Exposure\")[0][0] # index of the Exposure column\n",
    "train_exposure = train_NN[:,exposure_index]\n",
    "test_exposure = test_NN[:,exposure_index]\n",
    "\n",
    "\n",
    "# separate multi-level categorical columns\n",
    "categorical_var = [\"Area\", \"VehBrand\", \"Region\"]\n",
    "train_cat = []\n",
    "test_cat = []\n",
    "cat_index = []\n",
    "for i in range(len(categorical_var)):\n",
    "    index = np.where(feature_names_NN == categorical_var[i])[0][0]\n",
    "    train_cat.append(train_NN[:,index])\n",
    "    test_cat.append(test_NN[:,index])\n",
    "    cat_index.append(index)\n",
    "\n",
    "                    \n",
    "# drop exposure and nominal categorical columns\n",
    "train_others = np.delete(train_NN, [exposure_index] + cat_index, axis = 1)\n",
    "test_others = np.delete(test_NN, [exposure_index] + cat_index, axis = 1)"
   ]
  },
  {
   "cell_type": "code",
   "execution_count": 110,
   "metadata": {},
   "outputs": [],
   "source": [
    "#-------------------------- define model architecture --------------------------\n",
    "\n",
    "'''Define model architecture'''\n",
    "def build_model(hp):\n",
    "    # input & embedding layers - use entity embedding for categorical variables\n",
    "    exposure = Input(shape=(1,), name = \"exposure\") # exposure\n",
    "\n",
    "    cat_inputs = [] # input layers for nominal categorical features\n",
    "    embedding_layers = [] # embedding layers\n",
    "    embedding_dim_low_dim = hp.Int('embedding_dim_low_dim', 2, 4, step = 1)\n",
    "    embedding_dim_high_dim = hp.Int('embedding_dim_high_dim', 5, 10, step = 2)\n",
    "    for cat_column in categorical_var:\n",
    "\n",
    "        # input layers\n",
    "        cat_input = Input(shape = (1,), name = f\"input_{cat_column}\")  # assuming categorical vars are single integers\n",
    "        cat_inputs.append(cat_input)\n",
    "\n",
    "        # embedding layers\n",
    "        if cat_column == \"Region\":\n",
    "            embed_layer = Embedding(input_dim = claimfreq[cat_column].nunique(), output_dim = embedding_dim_high_dim, name = f\"embed_{cat_column}\")(cat_input)\n",
    "            embed_layer_reshape = Reshape(target_shape = (embedding_dim_high_dim,), name = f\"reshape_{cat_column}\")(embed_layer)\n",
    "        else:\n",
    "            embed_layer = Embedding(input_dim = claimfreq[cat_column].nunique(), output_dim = embedding_dim_low_dim, name = f\"embed_{cat_column}\")(cat_input)\n",
    "            embed_layer_reshape = Reshape(target_shape = (embedding_dim_low_dim,), name = f\"reshape_{cat_column}\")(embed_layer)\n",
    "        embedding_layers.append(embed_layer_reshape)\n",
    "        \n",
    "    other_inputs = Input(shape = train_others.shape[1:])\n",
    "    inputs = Concatenate(name = \"combined_input\")(embedding_layers + [other_inputs])\n",
    "\n",
    "    # dense layers\n",
    "    x = inputs\n",
    "    activation = hp.Choice('activation', ['leaky_relu', 'relu', 'elu', 'selu'])\n",
    "    for i in range(hp.Int('num_dense_layers', 2, 6)):\n",
    "        num_units = hp.Int(f'num_units_{i}', 32, 128, step = 32)\n",
    "        x = Dense(units = num_units, activation = activation)(x)\n",
    "        # x = Dropout(rate = hp.Float(f'dropout_{i}', min_value = 0.0, max_value = 0.3, step = 0.1))(x)\n",
    "    lambda_ = Dense(1, \"exponential\")(x)\n",
    "\n",
    "    # final output\n",
    "    out = Multiply()([lambda_, exposure])\n",
    "    model = Model([exposure] + cat_inputs + [other_inputs], out)\n",
    "\n",
    "    # optimizer\n",
    "    lr = hp.Float('learning_rate', min_value = 1e-4, max_value = 1e-2, sampling = 'log')\n",
    "    optimizer = Adam(learning_rate = lr)\n",
    "    \n",
    "    # build model\n",
    "    model.compile(optimizer = \"adam\",\n",
    "              loss = \"poisson\", \n",
    "              metrics = ['mean_squared_error', 'poisson'])\n",
    "    \n",
    "    return model"
   ]
  },
  {
   "cell_type": "code",
   "execution_count": 112,
   "metadata": {},
   "outputs": [
    {
     "name": "stdout",
     "output_type": "stream",
     "text": [
      "Trial 5 Complete [00h 01m 08s]\n",
      "val_loss: 0.20234927535057068\n",
      "\n",
      "Best val_loss So Far: 0.20227180421352386\n",
      "Total elapsed time: 00h 06m 38s\n",
      "WARNING:tensorflow:Detecting that an object or model or tf.train.Checkpoint is being deleted with unrestored values. See the following logs for the specific values in question. To silence these warnings, use `status.expect_partial()`. See https://www.tensorflow.org/api_docs/python/tf/train/Checkpoint#restorefor details about the status object returned by the restore function.\n",
      "WARNING:tensorflow:Value in checkpoint could not be found in the restored object: (root).optimizer.iter\n",
      "WARNING:tensorflow:Value in checkpoint could not be found in the restored object: (root).optimizer.beta_1\n",
      "WARNING:tensorflow:Value in checkpoint could not be found in the restored object: (root).optimizer.beta_2\n",
      "WARNING:tensorflow:Value in checkpoint could not be found in the restored object: (root).optimizer.decay\n",
      "WARNING:tensorflow:Value in checkpoint could not be found in the restored object: (root).optimizer.learning_rate\n",
      "Results summary\n",
      "Results in hyperparameter_tuning/untitled_project\n",
      "Showing 1 best trials\n",
      "Objective(name=\"val_loss\", direction=\"min\")\n",
      "\n",
      "Trial 3 summary\n",
      "Hyperparameters:\n",
      "embedding_dim_low_dim: 4\n",
      "embedding_dim_high_dim: 7\n",
      "activation: relu\n",
      "num_dense_layers: 4\n",
      "num_units_0: 96\n",
      "num_units_1: 32\n",
      "learning_rate: 0.00016468966822474475\n",
      "num_units_2: 32\n",
      "num_units_3: 32\n",
      "Score: 0.20227180421352386\n"
     ]
    }
   ],
   "source": [
    "#-------------------------- tune and fit fit a deep NN --------------------------\n",
    "# tuner\n",
    "tuner = kt.RandomSearch(\n",
    "    build_model,\n",
    "    objective = 'val_loss',\n",
    "    max_trials = 5,  # Increased trials due to additional hyperparameters\n",
    "    directory = \"hyperparameter_tuning\",\n",
    "    seed = 2000 # for reproducibility\n",
    ")\n",
    "\n",
    "# regularization\n",
    "es = EarlyStopping(patience = 10, restore_best_weights = True, verbose = 0)\n",
    "\n",
    "# search for the best model\n",
    "tuner.search([train_exposure, train_cat, train_others], y_train,\n",
    "            epochs = 100,  \n",
    "            batch_size = 256, \n",
    "            validation_split = 0.2,\n",
    "            callbacks = [es])\n",
    "\n",
    "# get the best model\n",
    "model_NN = tuner.get_best_models()[0]\n",
    "tuner.results_summary(1)"
   ]
  },
  {
   "cell_type": "code",
   "execution_count": 113,
   "metadata": {},
   "outputs": [
    {
     "name": "stdout",
     "output_type": "stream",
     "text": [
      "5297/5297 [==============================] - 2s 440us/step - loss: 0.2033 - mean_squared_error: 0.0557 - poisson: 0.2033\n",
      "NN test set metrics ~ Poisson loss: 0.2033, MSE: 0.0557\n"
     ]
    }
   ],
   "source": [
    "#-------------------------- evaluate on test set --------------------------\n",
    "nn_poisson_loss, nn_mse, _ = model_NN.evaluate([test_exposure, test_cat, test_others], y_test)\n",
    "print(f\"NN test set metrics ~ Poisson loss: {nn_poisson_loss:.4f}, MSE: {nn_mse:.4f}\")"
   ]
  },
  {
   "cell_type": "code",
   "execution_count": 114,
   "metadata": {},
   "outputs": [
    {
     "name": "stdout",
     "output_type": "stream",
     "text": [
      "GLM test set metrics \t Poisson loss: 0.2034 \t MSE: 0.0560\n",
      "NAM test set metrics \t Poisson loss: 0.2055 \t MSE: 0.0561\n",
      "NN test set metrics \t Poisson loss: 0.2033 \t MSE: 0.0557\n"
     ]
    }
   ],
   "source": [
    "# Print all the results\n",
    "print(f\"GLM test set metrics \\t Poisson loss: {glm_poisson_loss:.4f} \\t MSE: {GLM_mse:.4f}\")\n",
    "print(f\"NAM test set metrics \\t Poisson loss: {nam_poisson_loss:.4f} \\t MSE: {nam_mse:.4f}\")\n",
    "print(f\"NN test set metrics \\t Poisson loss: {nn_poisson_loss:.4f} \\t MSE: {nn_mse:.4f}\")"
   ]
  }
 ],
 "metadata": {
  "kernelspec": {
   "display_name": "base",
   "language": "python",
   "name": "python3"
  },
  "language_info": {
   "codemirror_mode": {
    "name": "ipython",
    "version": 3
   },
   "file_extension": ".py",
   "mimetype": "text/x-python",
   "name": "python",
   "nbconvert_exporter": "python",
   "pygments_lexer": "ipython3",
   "version": "3.11.7"
  }
 },
 "nbformat": 4,
 "nbformat_minor": 2
}
